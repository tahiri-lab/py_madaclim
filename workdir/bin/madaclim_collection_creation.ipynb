{
 "cells": [
  {
   "cell_type": "code",
   "execution_count": 3,
   "metadata": {},
   "outputs": [
    {
     "data": {
      "text/plain": [
       "True"
      ]
     },
     "execution_count": 3,
     "metadata": {},
     "output_type": "execute_result"
    }
   ],
   "source": [
    "import os\n",
    "from pathlib import Path\n",
    "from dotenv import load_dotenv\n",
    "\n",
    "cwd = Path.cwd()\n",
    "# Load dotenv into sys PATH\n",
    "dotenv_file = cwd / \"../../example/.env\"\n",
    "assert dotenv_file.is_file()\n",
    "load_dotenv(dotenv_file)"
   ]
  },
  {
   "cell_type": "code",
   "execution_count": 5,
   "metadata": {},
   "outputs": [],
   "source": [
    "import pandas as pd\n",
    "csv_file = r\"../../example/gbif_example\\0026013-240906103802322\\0026013-240906103802322.csv\"\n",
    "coff_dl_df = pd.read_csv(csv_file, sep='\\t')"
   ]
  },
  {
   "cell_type": "code",
   "execution_count": 6,
   "metadata": {},
   "outputs": [
    {
     "data": {
      "text/html": [
       "<div>\n",
       "<style scoped>\n",
       "    .dataframe tbody tr th:only-of-type {\n",
       "        vertical-align: middle;\n",
       "    }\n",
       "\n",
       "    .dataframe tbody tr th {\n",
       "        vertical-align: top;\n",
       "    }\n",
       "\n",
       "    .dataframe thead th {\n",
       "        text-align: right;\n",
       "    }\n",
       "</style>\n",
       "<table border=\"1\" class=\"dataframe\">\n",
       "  <thead>\n",
       "    <tr style=\"text-align: right;\">\n",
       "      <th></th>\n",
       "      <th>genus_species</th>\n",
       "      <th>longitude</th>\n",
       "      <th>latitude</th>\n",
       "      <th>year</th>\n",
       "      <th>specimen_id</th>\n",
       "    </tr>\n",
       "  </thead>\n",
       "  <tbody>\n",
       "    <tr>\n",
       "      <th>0</th>\n",
       "      <td>Psilanthus brassii</td>\n",
       "      <td>0.000000</td>\n",
       "      <td>0.000000</td>\n",
       "      <td>1967.0</td>\n",
       "      <td>Psilanthus brassii_0</td>\n",
       "    </tr>\n",
       "    <tr>\n",
       "      <th>1</th>\n",
       "      <td>Psilanthus brassii</td>\n",
       "      <td>147.333333</td>\n",
       "      <td>-9.333333</td>\n",
       "      <td>1967.0</td>\n",
       "      <td>Psilanthus brassii_1</td>\n",
       "    </tr>\n",
       "    <tr>\n",
       "      <th>2</th>\n",
       "      <td>Psilanthus brassii</td>\n",
       "      <td>146.500000</td>\n",
       "      <td>-8.783333</td>\n",
       "      <td>1933.0</td>\n",
       "      <td>Psilanthus brassii_2</td>\n",
       "    </tr>\n",
       "    <tr>\n",
       "      <th>3</th>\n",
       "      <td>Coffea arabica</td>\n",
       "      <td>0.000000</td>\n",
       "      <td>0.000000</td>\n",
       "      <td>1928.0</td>\n",
       "      <td>rabica_3</td>\n",
       "    </tr>\n",
       "    <tr>\n",
       "      <th>4</th>\n",
       "      <td>Coffea arabica Linnaeus</td>\n",
       "      <td>167.425000</td>\n",
       "      <td>-22.658333</td>\n",
       "      <td>1981.0</td>\n",
       "      <td>rabica Linnaeus_4</td>\n",
       "    </tr>\n",
       "  </tbody>\n",
       "</table>\n",
       "</div>"
      ],
      "text/plain": [
       "             genus_species   longitude   latitude    year  \\\n",
       "0       Psilanthus brassii    0.000000   0.000000  1967.0   \n",
       "1       Psilanthus brassii  147.333333  -9.333333  1967.0   \n",
       "2       Psilanthus brassii  146.500000  -8.783333  1933.0   \n",
       "3           Coffea arabica    0.000000   0.000000  1928.0   \n",
       "4  Coffea arabica Linnaeus  167.425000 -22.658333  1981.0   \n",
       "\n",
       "            specimen_id  \n",
       "0  Psilanthus brassii_0  \n",
       "1  Psilanthus brassii_1  \n",
       "2  Psilanthus brassii_2  \n",
       "3              rabica_3  \n",
       "4     rabica Linnaeus_4  "
      ]
     },
     "execution_count": 6,
     "metadata": {},
     "output_type": "execute_result"
    }
   ],
   "source": [
    "df = coff_dl_df.loc[coff_dl_df[\"taxonRank\"] == \"SPECIES\"]\n",
    "df = df.loc[:, [\"verbatimScientificName\", \"decimalLongitude\", \"decimalLatitude\", \"year\"]]\n",
    "df = df.reset_index().drop(columns=\"index\")\n",
    "df[\"specimen_id\"] = df.apply(lambda row: f\"{row['verbatimScientificName']}_{row.name}\", axis=1)\n",
    "df[\"specimen_id\"] = df[\"specimen_id\"].str.strip(\"Coffea \")\n",
    "df.columns = [\"genus_species\", \"longitude\", \"latitude\", \"year\", \"specimen_id\"]\n",
    "df.head()"
   ]
  },
  {
   "cell_type": "code",
   "execution_count": 7,
   "metadata": {},
   "outputs": [
    {
     "name": "stdout",
     "output_type": "stream",
     "text": [
      "3927\n"
     ]
    }
   ],
   "source": [
    "# Last 6 years\n",
    "df_2018_p = df.loc[df[\"year\"] > 2018]\n",
    "print(len(df_2018_p))"
   ]
  },
  {
   "cell_type": "code",
   "execution_count": 8,
   "metadata": {},
   "outputs": [
    {
     "name": "stdout",
     "output_type": "stream",
     "text": [
      "Data saved to ../../example/gbif_example\\0026013-240906103802322\\0026013-240906103802322_formatted.csv\n"
     ]
    }
   ],
   "source": [
    "import sys\n",
    "import os\n",
    "import re\n",
    "import pandas as pd\n",
    "\n",
    "# Assuming df_2018_p is already defined\n",
    "df_gbif = df_2018_p[['specimen_id', 'longitude', 'latitude']].copy()  # Use .copy() to avoid warnings\n",
    "df_node = pd.read_csv(r\"..\\input\\node_names.csv\")\n",
    "\n",
    "# Function to extract part of the specimen_id for matching\n",
    "def extract_name(specimen_id):\n",
    "    # Use regex to extract pattern (e.g., everything before the underscore)\n",
    "    return re.sub(r'_\\d+', '', specimen_id)\n",
    "\n",
    "# Apply extraction function to both DataFrames\n",
    "df_gbif.loc[:, 'key'] = df_gbif['specimen_id'].apply(extract_name)  # Use .loc to avoid SettingWithCopyWarning\n",
    "df_node.loc[:, 'key'] = df_node['Node Name'].apply(lambda x: re.sub(r'^C_|_[\\dA-Za-z]+$', '', x))\n",
    "\n",
    "# Create a dictionary for mapping key to Node Name\n",
    "mapping = df_node.set_index('key')['Node Name'].to_dict()\n",
    "\n",
    "# Map the Node Name into a new column in df_gbif\n",
    "df_gbif.loc[:, 'Node Name'] = df_gbif['key'].map(mapping)\n",
    "\n",
    "# Drop the key column (optional)\n",
    "df_gbif.drop(columns='key', inplace=True)\n",
    "\n",
    "# Drop rows where 'Node Name' is NaN\n",
    "df_gbif.dropna(subset=['Node Name'], inplace=True)\n",
    "\n",
    "# Select the final columns\n",
    "df_new = df_gbif[['Node Name', 'longitude', 'latitude']].copy()\n",
    "\n",
    "# Renaming columns\n",
    "df_new.rename(columns={'Node Name': 'specimen_id'}, inplace=True)\n",
    "\n",
    "# Save the DataFrame to a new CSV\n",
    "base_name, extension = os.path.splitext(csv_file)\n",
    "formatted_csv_file = base_name + '_formatted' + extension\n",
    "df_new.to_csv(formatted_csv_file, index=False)\n",
    "\n",
    "print(f\"Data saved to {formatted_csv_file}\")\n"
   ]
  },
  {
   "cell_type": "code",
   "execution_count": 11,
   "metadata": {},
   "outputs": [
    {
     "name": "stdout",
     "output_type": "stream",
     "text": [
      "Data saved to: ..\\input\\0026013-240906103802322_w_caffeine.csv\n"
     ]
    }
   ],
   "source": [
    "import pandas as pd\n",
    "\n",
    "input_file = r'..\\input\\0026013-240906103802322_formatted.csv'\n",
    "caffeine_file = r'..\\input\\no_caffeine_nodes_w_specimen.csv'\n",
    "\n",
    "def add_caffeine(input_file, caffeine_file):\n",
    "    \n",
    "    gbif_df = pd.read_csv(input_file)\n",
    "    node_names_df = pd.read_csv(caffeine_file)\n",
    "\n",
    "    # Merge the two DataFrames based on 'specimen_id' in gbif_df and 'Species_name' in node_names_df\n",
    "    merged_df = pd.merge(gbif_df, node_names_df[['Species_name', 'caffeine_percent']], \n",
    "                         left_on='specimen_id', right_on='Species_name', how='left')\n",
    "\n",
    "    # Drop the 'Species_name' column as it's no longer needed\n",
    "    merged_df = merged_df.drop(columns=['Species_name'])\n",
    "    \n",
    "    # Retain only the required columns\n",
    "    merged_df = merged_df[['specimen_id', 'longitude', 'latitude', 'caffeine_percent']]\n",
    "    \n",
    "    # Drop rows where 'caffeine_percent' is NaN\n",
    "    merged_df = merged_df.dropna(subset=['caffeine_percent'])\n",
    "\n",
    "    # Create output filename by replacing 'formatted' with 'w_caffeine'\n",
    "    output_file = input_file.replace('formatted', 'w_caffeine')\n",
    "\n",
    "    # Save the merged DataFrame to a new CSV file\n",
    "    merged_df.to_csv(output_file, index=False)\n",
    "\n",
    "    # Print the output file name\n",
    "    print(f\"Data saved to: {output_file}\")\n",
    "    \n",
    "    \n",
    "\n",
    "add_caffeine(input_file, caffeine_file)\n",
    "\n"
   ]
  }
 ],
 "metadata": {
  "kernelspec": {
   "display_name": "Python 3",
   "language": "python",
   "name": "python3"
  },
  "language_info": {
   "codemirror_mode": {
    "name": "ipython",
    "version": 3
   },
   "file_extension": ".py",
   "mimetype": "text/x-python",
   "name": "python",
   "nbconvert_exporter": "python",
   "pygments_lexer": "ipython3",
   "version": "3.12.1"
  }
 },
 "nbformat": 4,
 "nbformat_minor": 2
}
