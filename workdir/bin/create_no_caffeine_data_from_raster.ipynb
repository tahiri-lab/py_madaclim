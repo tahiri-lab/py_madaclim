{
 "cells": [
  {
   "cell_type": "code",
   "execution_count": 4,
   "metadata": {},
   "outputs": [
    {
     "data": {
      "text/plain": [
       "True"
      ]
     },
     "execution_count": 4,
     "metadata": {},
     "output_type": "execute_result"
    }
   ],
   "source": [
    "import os\n",
    "from pathlib import Path\n",
    "from dotenv import load_dotenv\n",
    "\n",
    "cwd = Path.cwd()\n",
    "# Load dotenv into sys PATH\n",
    "dotenv_file = cwd / \"../../../example/.env\"\n",
    "assert dotenv_file.is_file()\n",
    "load_dotenv(dotenv_file)"
   ]
  },
  {
   "cell_type": "code",
   "execution_count": 5,
   "metadata": {},
   "outputs": [],
   "source": [
    "import pandas as pd\n",
    "csv_file = r\"../../../example/gbif_example\\0026013-240906103802322\\0026013-240906103802322.csv\"\n",
    "coff_dl_df = pd.read_csv(csv_file, sep='\\t')"
   ]
  },
  {
   "cell_type": "code",
   "execution_count": 6,
   "metadata": {},
   "outputs": [
    {
     "data": {
      "text/html": [
       "<div>\n",
       "<style scoped>\n",
       "    .dataframe tbody tr th:only-of-type {\n",
       "        vertical-align: middle;\n",
       "    }\n",
       "\n",
       "    .dataframe tbody tr th {\n",
       "        vertical-align: top;\n",
       "    }\n",
       "\n",
       "    .dataframe thead th {\n",
       "        text-align: right;\n",
       "    }\n",
       "</style>\n",
       "<table border=\"1\" class=\"dataframe\">\n",
       "  <thead>\n",
       "    <tr style=\"text-align: right;\">\n",
       "      <th></th>\n",
       "      <th>genus_species</th>\n",
       "      <th>longitude</th>\n",
       "      <th>latitude</th>\n",
       "      <th>year</th>\n",
       "      <th>specimen_id</th>\n",
       "    </tr>\n",
       "  </thead>\n",
       "  <tbody>\n",
       "    <tr>\n",
       "      <th>0</th>\n",
       "      <td>Psilanthus brassii</td>\n",
       "      <td>0.000000</td>\n",
       "      <td>0.000000</td>\n",
       "      <td>1967.0</td>\n",
       "      <td>Psilanthus brassii_0</td>\n",
       "    </tr>\n",
       "    <tr>\n",
       "      <th>1</th>\n",
       "      <td>Psilanthus brassii</td>\n",
       "      <td>147.333333</td>\n",
       "      <td>-9.333333</td>\n",
       "      <td>1967.0</td>\n",
       "      <td>Psilanthus brassii_1</td>\n",
       "    </tr>\n",
       "    <tr>\n",
       "      <th>2</th>\n",
       "      <td>Psilanthus brassii</td>\n",
       "      <td>146.500000</td>\n",
       "      <td>-8.783333</td>\n",
       "      <td>1933.0</td>\n",
       "      <td>Psilanthus brassii_2</td>\n",
       "    </tr>\n",
       "    <tr>\n",
       "      <th>3</th>\n",
       "      <td>Coffea arabica</td>\n",
       "      <td>0.000000</td>\n",
       "      <td>0.000000</td>\n",
       "      <td>1928.0</td>\n",
       "      <td>rabica_3</td>\n",
       "    </tr>\n",
       "    <tr>\n",
       "      <th>4</th>\n",
       "      <td>Coffea arabica Linnaeus</td>\n",
       "      <td>167.425000</td>\n",
       "      <td>-22.658333</td>\n",
       "      <td>1981.0</td>\n",
       "      <td>rabica Linnaeus_4</td>\n",
       "    </tr>\n",
       "  </tbody>\n",
       "</table>\n",
       "</div>"
      ],
      "text/plain": [
       "             genus_species   longitude   latitude    year  \\\n",
       "0       Psilanthus brassii    0.000000   0.000000  1967.0   \n",
       "1       Psilanthus brassii  147.333333  -9.333333  1967.0   \n",
       "2       Psilanthus brassii  146.500000  -8.783333  1933.0   \n",
       "3           Coffea arabica    0.000000   0.000000  1928.0   \n",
       "4  Coffea arabica Linnaeus  167.425000 -22.658333  1981.0   \n",
       "\n",
       "            specimen_id  \n",
       "0  Psilanthus brassii_0  \n",
       "1  Psilanthus brassii_1  \n",
       "2  Psilanthus brassii_2  \n",
       "3              rabica_3  \n",
       "4     rabica Linnaeus_4  "
      ]
     },
     "execution_count": 6,
     "metadata": {},
     "output_type": "execute_result"
    }
   ],
   "source": [
    "df = coff_dl_df.loc[coff_dl_df[\"taxonRank\"] == \"SPECIES\"]\n",
    "df = df.loc[:, [\"verbatimScientificName\", \"decimalLongitude\", \"decimalLatitude\", \"year\"]]\n",
    "df = df.reset_index().drop(columns=\"index\")\n",
    "df[\"specimen_id\"] = df.apply(lambda row: f\"{row['verbatimScientificName']}_{row.name}\", axis=1)\n",
    "df[\"specimen_id\"] = df[\"specimen_id\"].str.strip(\"Coffea \")\n",
    "df.columns = [\"genus_species\", \"longitude\", \"latitude\", \"year\", \"specimen_id\"]\n",
    "df.head()"
   ]
  },
  {
   "cell_type": "code",
   "execution_count": 11,
   "metadata": {},
   "outputs": [
    {
     "name": "stdout",
     "output_type": "stream",
     "text": [
      "3927\n",
      "       genus_species   longitude   latitude    year  specimen_id\n",
      "5935  Coffea arabica  -84.636676  10.479850  2019.0  rabica_5935\n",
      "5936  Coffea arabica -156.243057  20.911530  2024.0  rabica_5936\n",
      "5937  Coffea arabica  -75.850023   5.613698  2024.0  rabica_5937\n",
      "5938  Coffea arabica  -66.419957  18.478251  2024.0  rabica_5938\n",
      "5939  Coffea arabica  -75.254248   2.936914  2022.0  rabica_5939\n",
      "Unique species :  67\n"
     ]
    }
   ],
   "source": [
    "# Last 6 years\n",
    "df_2018_p = df.loc[df[\"year\"] > 2018]\n",
    "print(len(df_2018_p))\n",
    "print(df_2018_p.head())\n",
    "\n",
    "unique_values = df_2018_p['genus_species'].unique()\n",
    "\n",
    "# Print or work with the unique values\n",
    "print(\"Unique species : \", len(unique_values))"
   ]
  },
  {
   "cell_type": "code",
   "execution_count": 33,
   "metadata": {},
   "outputs": [],
   "source": [
    "import sys\n",
    "import os\n",
    "import re\n",
    "import pandas as pd\n",
    "\n",
    "# Assuming df_2018_p is already defined\n",
    "df_gbif = df_2018_p[['specimen_id', 'longitude', 'latitude']].copy()  # Use .copy() to avoid warnings\n",
    "df_node = pd.read_csv(r\"..\\input\\node_names.csv\")\n",
    "\n",
    "# Function to extract part of the specimen_id for matching\n",
    "def extract_name(specimen_id):\n",
    "    # Use regex to extract pattern (e.g., everything before the underscore)\n",
    "    return re.split(r'[ _]', specimen_id)[0]\n",
    "\n",
    "# Apply extraction function to both DataFrames\n",
    "df_gbif.loc[:, 'key'] = df_gbif['specimen_id'].apply(extract_name)  \n",
    "df_node.loc[:, 'key'] = df_node['node_name'].apply(lambda x: re.sub(r'^C_|_[\\dA-Za-z]+$', '', x))\n"
   ]
  },
  {
   "cell_type": "code",
   "execution_count": 30,
   "metadata": {},
   "outputs": [],
   "source": [
    "df_gbif.to_csv(\"../tmp/gbif_extract_w_key.csv\")\n",
    "df_node.to_csv(\"../tmp/node_extract_w_key.csv\")\n"
   ]
  },
  {
   "cell_type": "code",
   "execution_count": 25,
   "metadata": {},
   "outputs": [
    {
     "data": {
      "text/plain": [
       "3927"
      ]
     },
     "execution_count": 25,
     "metadata": {},
     "output_type": "execute_result"
    }
   ],
   "source": [
    "len(df_gbif)"
   ]
  },
  {
   "cell_type": "code",
   "execution_count": 34,
   "metadata": {},
   "outputs": [
    {
     "name": "stdout",
     "output_type": "stream",
     "text": [
      "Data saved to ../../../example/gbif_example\\0026013-240906103802322\\0026013-240906103802322_formatted.csv\n"
     ]
    }
   ],
   "source": [
    "# Create a dictionary for mapping key to Node Name\n",
    "mapping = df_node.set_index('key')['node_name'].to_dict()\n",
    "\n",
    "# Map the Node Name into a new column in df_gbif\n",
    "df_gbif.loc[:, 'node_name'] = df_gbif['key'].map(mapping)\n",
    "\n",
    "# Drop the key column\n",
    "df_gbif.drop(columns='key', inplace=True)\n",
    "\n",
    "# Drop rows where 'Node Name' is NaN\n",
    "df_gbif.dropna(subset=['node_name'], inplace=True)\n",
    "\n",
    "# Select the final columns\n",
    "df_new = df_gbif[['node_name', 'longitude', 'latitude']].copy()\n",
    "\n",
    "# Renaming columns\n",
    "df_new.rename(columns={'node_name': 'specimen_id'}, inplace=True)\n",
    "\n",
    "# Save the DataFrame to a new CSV\n",
    "base_name, extension = os.path.splitext(csv_file)\n",
    "formatted_csv_file = base_name + '_formatted' + extension\n",
    "#df_new.to_csv(formatted_csv_file, index=False)\n",
    "\n",
    "#print(f\"Data saved to {formatted_csv_file}\")\n",
    "df_new.to_csv(r\"../tmp/file_formatted.csv\", index=False)\n",
    "\n",
    "print(f\"Data saved to {formatted_csv_file}\")"
   ]
  },
  {
   "cell_type": "code",
   "execution_count": 38,
   "metadata": {},
   "outputs": [
    {
     "name": "stdout",
     "output_type": "stream",
     "text": [
      "Data saved to: ..\\tmp\\file_w_caffeine.csv\n"
     ]
    }
   ],
   "source": [
    "import pandas as pd\n",
    "\n",
    "#input_file = r'..\\input\\0026013-240906103802322_formatted.csv'\n",
    "input_file = r'..\\tmp\\file_formatted.csv'\n",
    "caffeine_file = r'..\\input\\no_caffeine_nodes_w_specimen.csv'\n",
    "\n",
    "def add_caffeine(input_file, caffeine_file):\n",
    "    \n",
    "    gbif_df = pd.read_csv(input_file)\n",
    "    node_names_df = pd.read_csv(caffeine_file)\n",
    "\n",
    "    # Merge the two DataFrames based on 'specimen_id' in gbif_df and 'Species_name' in node_names_df\n",
    "    merged_df = pd.merge(gbif_df, node_names_df[['Species_name', 'caffeine_percent']], \n",
    "                         left_on='specimen_id', right_on='Species_name', how='left')\n",
    "\n",
    "    # Drop the 'Species_name' column as it's no longer needed\n",
    "    merged_df = merged_df.drop(columns=['Species_name'])\n",
    "    \n",
    "    # Retain only the required columns\n",
    "    merged_df = merged_df[['specimen_id', 'longitude', 'latitude', 'caffeine_percent']]\n",
    "    \n",
    "    # Drop rows where 'caffeine_percent' is NaN\n",
    "    merged_df = merged_df.dropna(subset=['caffeine_percent'])\n",
    "\n",
    "    # Create output filename by replacing 'formatted' with 'w_caffeine'\n",
    "    output_file = input_file.replace('formatted', 'w_caffeine')\n",
    "\n",
    "    # Save the merged DataFrame to a new CSV file\n",
    "    merged_df.to_csv(output_file, index=False)\n",
    "\n",
    "    # Print the output file name\n",
    "    print(f\"Data saved to: {output_file}\")\n",
    "    \n",
    "    \n",
    "\n",
    "add_caffeine(input_file, caffeine_file)\n",
    "\n"
   ]
  },
  {
   "cell_type": "code",
   "execution_count": 36,
   "metadata": {},
   "outputs": [],
   "source": [
    "df_w_caff = pd.read_csv(r\"..\\tmp\\file_w_caffeine.csv\")\n"
   ]
  },
  {
   "cell_type": "code",
   "execution_count": 39,
   "metadata": {},
   "outputs": [
    {
     "name": "stdout",
     "output_type": "stream",
     "text": [
      "['C_perrieri_A12' 'C_humbertii_RNF785' 'C_bissetiae' 'C_pervilleana_A957'\n",
      " 'C_boiviniana_A980' 'C_leroyi_A315' 'C_resinosa_A8' 'C_richardii_A575'\n",
      " 'C_liaudii_A1013' 'C_mauritiana_Makes4' 'C_boinensis' 'C_tsirananae_A515'\n",
      " 'C_heimii_A516' 'C_kihansiensis_APD2922' 'C_mcphersonii_A977']\n"
     ]
    }
   ],
   "source": [
    "\n",
    "unique_values = df_w_caff['specimen_id'].unique()\n",
    "\n",
    "# Print or work with the unique values\n",
    "print(unique_values)\n"
   ]
  },
  {
   "cell_type": "markdown",
   "metadata": {},
   "source": [
    "#MadaclimCollection points must have unique specimen_id\n",
    "\n",
    "Creation of a Collection per species for visualisation"
   ]
  },
  {
   "cell_type": "code",
   "execution_count": 24,
   "metadata": {},
   "outputs": [
    {
     "name": "stdout",
     "output_type": "stream",
     "text": [
      "       genus_species  longitude   latitude    year   specimen_id\n",
      "14672  Coffea heimii  49.263119 -12.279828  2020.0  heimii_14672\n",
      "16490  Coffea heimii  49.347115 -12.210881  2020.0  heimii_16490\n",
      "16893  Coffea heimii  49.303872 -12.318289  2020.0  heimii_16893\n",
      "16895  Coffea heimii  49.226443 -12.281807  2020.0  heimii_16895\n",
      "17832  Coffea heimii  49.342500 -12.396327  2019.0  heimii_17832\n",
      "17834  Coffea heimii  49.275700 -12.398991  2019.0  heimii_17834\n",
      "19479  Coffea heimii  49.569592 -12.454103  2019.0  heimii_19479\n",
      "19555  Coffea heimii  49.549809 -12.580463  2019.0  heimii_19555\n"
     ]
    }
   ],
   "source": [
    "\n",
    "# df_2018_p.head()\n",
    "#Extract all rows where any column contains the word 'heimii'\n",
    "\n",
    "heimii_df = df_2018_p[df_2018_p.apply(lambda row: row.astype(str).str.contains('heimii', case=False).any(), axis=1)]\n",
    "\n",
    "# Print or further manipulate the filtered DataFrame\n",
    "print(heimii_df)\n"
   ]
  },
  {
   "cell_type": "code",
   "execution_count": 41,
   "metadata": {},
   "outputs": [],
   "source": [
    "def extract_rows_containing_word(df, word):\n",
    "    filtered_df = df[df.apply(lambda row: row.astype(str).str.contains(word, case=False).any(), axis=1)]\n",
    "    return filtered_df"
   ]
  },
  {
   "cell_type": "markdown",
   "metadata": {},
   "source": [
    "Species with no caffeine"
   ]
  },
  {
   "cell_type": "code",
   "execution_count": 47,
   "metadata": {},
   "outputs": [
    {
     "name": "stdout",
     "output_type": "stream",
     "text": [
      "(0, 5)\n",
      "(0, 5)\n",
      "(0, 5)\n",
      "(0, 5)\n",
      "(0, 5)\n",
      "(0, 5)\n",
      "(3, 5)\n",
      "(0, 5)\n",
      "(0, 5)\n"
     ]
    }
   ],
   "source": [
    "andrambovatensis_df = extract_rows_containing_word(df_2018_p, \"andrambovatensis\")\n",
    "print(andrambovatensis_df.shape)\n",
    "\n",
    "abbayesii_df = extract_rows_containing_word(df_2018_p, \"bbayesii\")\n",
    "print(abbayesii_df.shape)\n",
    "\n",
    "arenesiana_df = extract_rows_containing_word(df_2018_p, \"arenesiana\")\n",
    "print(arenesiana_df.shape)\n",
    "\n",
    "bertrandii_df = extract_rows_containing_word(df_2018_p, \"bertrandii\")\n",
    "print(bertrandii_df.shape)\n",
    "\n",
    "dubardii_df = extract_rows_containing_word(df_2018_p, \"dubardii\")\n",
    "print(dubardii_df.shape)\n",
    "\n",
    "millotii_df = extract_rows_containing_word(df_2018_p, \"millotii\")\n",
    "print(millotii_df.shape)\n",
    "\n",
    "resinosa_df = extract_rows_containing_word(df_2018_p, \"resinosa\")\n",
    "print(resinosa_df.shape)\n",
    "\n",
    "toshii_df = extract_rows_containing_word(df_2018_p, \"toshii\")\n",
    "print(toshii_df.shape)\n",
    "\n",
    "vohemarensis_df = extract_rows_containing_word(df_2018_p, \"vohemarensis\")\n",
    "print(vohemarensis_df.shape)\n"
   ]
  },
  {
   "cell_type": "markdown",
   "metadata": {},
   "source": [
    "extract points linked to non caffeinated coffea species (MG)"
   ]
  },
  {
   "cell_type": "code",
   "execution_count": 48,
   "metadata": {},
   "outputs": [
    {
     "name": "stdout",
     "output_type": "stream",
     "text": [
      "(3, 5)\n",
      "(22, 5)\n",
      "(2, 5)\n",
      "(10, 5)\n",
      "(3, 5)\n",
      "(8, 5)\n"
     ]
    }
   ],
   "source": [
    "heimii_df = extract_rows_containing_word(df_2018_p, \"heimii\")\n",
    "resinosa_df = extract_rows_containing_word(df_2018_p, \"resinosa\")\n",
    "humbertii_df = extract_rows_containing_word(df_2018_p, \"humbertii\")\n",
    "perrieri_df = extract_rows_containing_word(df_2018_p, \"perrieri\")\n",
    "pervilleana_df = extract_rows_containing_word(df_2018_p, \"pervilleana\")\n",
    "tsirananae_df = extract_rows_containing_word(df_2018_p, \"tsirananae\")\n",
    "\n",
    "print(humbertii_df.shape)\n",
    "print(perrieri_df.shape)\n",
    "print(pervilleana_df.shape)\n",
    "print(tsirananae_df.shape)\n",
    "print(resinosa_df.shape)\n",
    "print(heimii_df.shape)\n"
   ]
  },
  {
   "cell_type": "code",
   "execution_count": 49,
   "metadata": {},
   "outputs": [],
   "source": [
    "from py_madaclim.raster_manipulation import MadaclimCollection"
   ]
  },
  {
   "cell_type": "code",
   "execution_count": 50,
   "metadata": {},
   "outputs": [
    {
     "name": "stdout",
     "output_type": "stream",
     "text": [
      "Warning! No source_crs column in the df. Using the default value of EPSG:4326...\n",
      "Creating MadaclimPoint(specimen_id=heimii_14672...)\n",
      "Creating MadaclimPoint(specimen_id=heimii_16490...)\n",
      "Creating MadaclimPoint(specimen_id=heimii_16893...)\n",
      "Creating MadaclimPoint(specimen_id=heimii_16895...)\n",
      "Creating MadaclimPoint(specimen_id=heimii_17832...)\n",
      "Creating MadaclimPoint(specimen_id=heimii_17834...)\n",
      "Creating MadaclimPoint(specimen_id=heimii_19479...)\n",
      "Creating MadaclimPoint(specimen_id=heimii_19555...)\n",
      "Created new MadaclimCollection with 8 samples.\n"
     ]
    }
   ],
   "source": [
    "coll_heimii = MadaclimCollection.populate_from_df(heimii_df)"
   ]
  },
  {
   "cell_type": "code",
   "execution_count": 60,
   "metadata": {},
   "outputs": [
    {
     "name": "stdout",
     "output_type": "stream",
     "text": [
      "Warning! No source_crs column in the df. Using the default value of EPSG:4326...\n",
      "Creating MadaclimPoint(specimen_id=humbertii_7021...)\n",
      "Creating MadaclimPoint(specimen_id=humbertii J.-F.Leroy_8949...)\n",
      "Creating MadaclimPoint(specimen_id=humbertii J.-F.Leroy_8951...)\n",
      "Created new MadaclimCollection with 3 samples.\n",
      "Warning! No source_crs column in the df. Using the default value of EPSG:4326...\n",
      "Creating MadaclimPoint(specimen_id=perrieri Drake ex Jum. & H. Perrier_6802...)\n",
      "Creating MadaclimPoint(specimen_id=perrieri Drake ex Jum. & H. Perrier_6858...)\n",
      "Creating MadaclimPoint(specimen_id=perrieri Drake ex Jum. & H. Perrier_6916...)\n",
      "Creating MadaclimPoint(specimen_id=perrieri_7584...)\n",
      "Creating MadaclimPoint(specimen_id=perrieri Drake ex Jum. & H. Perrier_8151...)\n",
      "Creating MadaclimPoint(specimen_id=perrieri_8546...)\n",
      "Creating MadaclimPoint(specimen_id=perrieri_8666...)\n",
      "Creating MadaclimPoint(specimen_id=perrieri Drake ex Jum. & H. Perrier_9136...)\n",
      "Creating MadaclimPoint(specimen_id=perrieri Drake ex Jum. & H. Perrier_9214...)\n",
      "Creating MadaclimPoint(specimen_id=perrieri Drake ex Jum. & H. Perrier_9215...)\n",
      "Creating MadaclimPoint(specimen_id=perrieri Drake ex Jum. & H. Perrier_9731...)\n",
      "Creating MadaclimPoint(specimen_id=perrieri Drake ex Jum. & H. Perrier_9737...)\n",
      "Creating MadaclimPoint(specimen_id=perrieri Drake ex Jum. & H. Perrier_9772...)\n",
      "Creating MadaclimPoint(specimen_id=perrieri Drake ex Jum. & H. Perrier_10379...)\n",
      "Creating MadaclimPoint(specimen_id=perrieri Drake ex Jum. & H. Perrier_10396...)\n",
      "Creating MadaclimPoint(specimen_id=perrieri Drake ex Jum. & H. Perrier_10406...)\n",
      "Creating MadaclimPoint(specimen_id=perrieri Drake ex Jum. & H. Perrier_12493...)\n",
      "Creating MadaclimPoint(specimen_id=perrieri Drake ex Jum. & H. Perrier_12501...)\n",
      "Creating MadaclimPoint(specimen_id=perrieri_12538...)\n",
      "Creating MadaclimPoint(specimen_id=perrieri_12549...)\n",
      "Creating MadaclimPoint(specimen_id=perrieri_15407...)\n",
      "Creating MadaclimPoint(specimen_id=perrieri_16995...)\n",
      "Created new MadaclimCollection with 22 samples.\n",
      "Warning! No source_crs column in the df. Using the default value of EPSG:4326...\n",
      "Creating MadaclimPoint(specimen_id=pervilleana_8667...)\n",
      "Creating MadaclimPoint(specimen_id=pervilleana_8672...)\n",
      "Created new MadaclimCollection with 2 samples.\n",
      "Warning! No source_crs column in the df. Using the default value of EPSG:4326...\n",
      "Creating MadaclimPoint(specimen_id=tsirananae_14671...)\n",
      "Creating MadaclimPoint(specimen_id=tsirananae_16502...)\n",
      "Creating MadaclimPoint(specimen_id=tsirananae_16891...)\n",
      "Creating MadaclimPoint(specimen_id=tsirananae_16892...)\n",
      "Creating MadaclimPoint(specimen_id=tsirananae_16894...)\n",
      "Creating MadaclimPoint(specimen_id=tsirananae_16896...)\n",
      "Creating MadaclimPoint(specimen_id=tsirananae_16909...)\n",
      "Creating MadaclimPoint(specimen_id=tsirananae_17828...)\n",
      "Creating MadaclimPoint(specimen_id=tsirananae_17831...)\n",
      "Creating MadaclimPoint(specimen_id=tsirananae_19273...)\n",
      "Created new MadaclimCollection with 10 samples.\n",
      "Warning! No source_crs column in the df. Using the default value of EPSG:4326...\n",
      "Creating MadaclimPoint(specimen_id=resinosa (Hook. f.) Radlk._9233...)\n",
      "Creating MadaclimPoint(specimen_id=resinosa (Hook. f.) Radlk._10714...)\n",
      "Creating MadaclimPoint(specimen_id=resinosa (Hook. f.) Radlk._16989...)\n",
      "Created new MadaclimCollection with 3 samples.\n"
     ]
    }
   ],
   "source": [
    "coll_humbertii = MadaclimCollection.populate_from_df(humbertii_df)\n",
    "coll_perrieri = MadaclimCollection.populate_from_df(perrieri_df)\n",
    "coll_pervilleana = MadaclimCollection.populate_from_df(pervilleana_df)\n",
    "coll_tsirananae = MadaclimCollection.populate_from_df(tsirananae_df)\n",
    "coll_resinosa = MadaclimCollection.populate_from_df(resinosa_df)\n"
   ]
  },
  {
   "cell_type": "code",
   "execution_count": 52,
   "metadata": {},
   "outputs": [
    {
     "data": {
      "text/plain": [
       "MadaclimPoint(\n",
       "\tspecimen_id = heimii_14672,\n",
       "\tsource_crs = 4326,\n",
       "\tlongitude = 49.263119,\n",
       "\tlatitude = -12.279828,\n",
       "\tmada_geom_point = POINT (963987.2160799548 8638826.905155072),\n",
       "\tsampled_layers = None (Not sampled yet),\n",
       "\tnodata_layers = None (Not sampled yet),\n",
       "\tis_categorical_encoded = False,\n",
       "\tgenus_species = Coffea heimii,\n",
       "\tyear = 2020.0,\n",
       "\tgdf.shape = (1, 10)\n",
       ")"
      ]
     },
     "execution_count": 52,
     "metadata": {},
     "output_type": "execute_result"
    }
   ],
   "source": [
    "coll_heimii.all_points[0]"
   ]
  },
  {
   "cell_type": "markdown",
   "metadata": {},
   "source": [
    "Access the Geopandas dataframe attribute `gdf` based on the `mada_geom_point` geometry of each object"
   ]
  },
  {
   "cell_type": "code",
   "execution_count": 53,
   "metadata": {},
   "outputs": [
    {
     "data": {
      "text/html": [
       "<div>\n",
       "<style scoped>\n",
       "    .dataframe tbody tr th:only-of-type {\n",
       "        vertical-align: middle;\n",
       "    }\n",
       "\n",
       "    .dataframe tbody tr th {\n",
       "        vertical-align: top;\n",
       "    }\n",
       "\n",
       "    .dataframe thead th {\n",
       "        text-align: right;\n",
       "    }\n",
       "</style>\n",
       "<table border=\"1\" class=\"dataframe\">\n",
       "  <thead>\n",
       "    <tr style=\"text-align: right;\">\n",
       "      <th></th>\n",
       "      <th>specimen_id</th>\n",
       "      <th>source_crs</th>\n",
       "      <th>longitude</th>\n",
       "      <th>latitude</th>\n",
       "      <th>mada_geom_point</th>\n",
       "      <th>sampled_layers</th>\n",
       "      <th>nodata_layers</th>\n",
       "      <th>is_categorical_encoded</th>\n",
       "      <th>genus_species</th>\n",
       "      <th>year</th>\n",
       "    </tr>\n",
       "  </thead>\n",
       "  <tbody>\n",
       "    <tr>\n",
       "      <th>0</th>\n",
       "      <td>heimii_14672</td>\n",
       "      <td>4326</td>\n",
       "      <td>49.263119</td>\n",
       "      <td>-12.279828</td>\n",
       "      <td>POINT (963987.216 8638826.905)</td>\n",
       "      <td>None</td>\n",
       "      <td>None</td>\n",
       "      <td>False</td>\n",
       "      <td>Coffea heimii</td>\n",
       "      <td>2020.0</td>\n",
       "    </tr>\n",
       "    <tr>\n",
       "      <th>1</th>\n",
       "      <td>heimii_16490</td>\n",
       "      <td>4326</td>\n",
       "      <td>49.347115</td>\n",
       "      <td>-12.210881</td>\n",
       "      <td>POINT (973268.317 8646324.577)</td>\n",
       "      <td>None</td>\n",
       "      <td>None</td>\n",
       "      <td>False</td>\n",
       "      <td>Coffea heimii</td>\n",
       "      <td>2020.0</td>\n",
       "    </tr>\n",
       "    <tr>\n",
       "      <th>2</th>\n",
       "      <td>heimii_16893</td>\n",
       "      <td>4326</td>\n",
       "      <td>49.303872</td>\n",
       "      <td>-12.318289</td>\n",
       "      <td>POINT (968361.925 8634492.084)</td>\n",
       "      <td>None</td>\n",
       "      <td>None</td>\n",
       "      <td>False</td>\n",
       "      <td>Coffea heimii</td>\n",
       "      <td>2020.0</td>\n",
       "    </tr>\n",
       "    <tr>\n",
       "      <th>3</th>\n",
       "      <td>heimii_16895</td>\n",
       "      <td>4326</td>\n",
       "      <td>49.226443</td>\n",
       "      <td>-12.281807</td>\n",
       "      <td>POINT (959985.375 8638670.641)</td>\n",
       "      <td>None</td>\n",
       "      <td>None</td>\n",
       "      <td>False</td>\n",
       "      <td>Coffea heimii</td>\n",
       "      <td>2020.0</td>\n",
       "    </tr>\n",
       "    <tr>\n",
       "      <th>4</th>\n",
       "      <td>heimii_17832</td>\n",
       "      <td>4326</td>\n",
       "      <td>49.342500</td>\n",
       "      <td>-12.396327</td>\n",
       "      <td>POINT (972432.287 8625771.942)</td>\n",
       "      <td>None</td>\n",
       "      <td>None</td>\n",
       "      <td>False</td>\n",
       "      <td>Coffea heimii</td>\n",
       "      <td>2019.0</td>\n",
       "    </tr>\n",
       "    <tr>\n",
       "      <th>5</th>\n",
       "      <td>heimii_17834</td>\n",
       "      <td>4326</td>\n",
       "      <td>49.275700</td>\n",
       "      <td>-12.398991</td>\n",
       "      <td>POINT (965147.750 8625594.362)</td>\n",
       "      <td>None</td>\n",
       "      <td>None</td>\n",
       "      <td>False</td>\n",
       "      <td>Coffea heimii</td>\n",
       "      <td>2019.0</td>\n",
       "    </tr>\n",
       "    <tr>\n",
       "      <th>6</th>\n",
       "      <td>heimii_19479</td>\n",
       "      <td>4326</td>\n",
       "      <td>49.569592</td>\n",
       "      <td>-12.454103</td>\n",
       "      <td>POINT (997074.808 8618950.269)</td>\n",
       "      <td>None</td>\n",
       "      <td>None</td>\n",
       "      <td>False</td>\n",
       "      <td>Coffea heimii</td>\n",
       "      <td>2019.0</td>\n",
       "    </tr>\n",
       "    <tr>\n",
       "      <th>7</th>\n",
       "      <td>heimii_19555</td>\n",
       "      <td>4326</td>\n",
       "      <td>49.549809</td>\n",
       "      <td>-12.580463</td>\n",
       "      <td>POINT (994676.992 8604973.911)</td>\n",
       "      <td>None</td>\n",
       "      <td>None</td>\n",
       "      <td>False</td>\n",
       "      <td>Coffea heimii</td>\n",
       "      <td>2019.0</td>\n",
       "    </tr>\n",
       "  </tbody>\n",
       "</table>\n",
       "</div>"
      ],
      "text/plain": [
       "    specimen_id  source_crs  longitude   latitude  \\\n",
       "0  heimii_14672        4326  49.263119 -12.279828   \n",
       "1  heimii_16490        4326  49.347115 -12.210881   \n",
       "2  heimii_16893        4326  49.303872 -12.318289   \n",
       "3  heimii_16895        4326  49.226443 -12.281807   \n",
       "4  heimii_17832        4326  49.342500 -12.396327   \n",
       "5  heimii_17834        4326  49.275700 -12.398991   \n",
       "6  heimii_19479        4326  49.569592 -12.454103   \n",
       "7  heimii_19555        4326  49.549809 -12.580463   \n",
       "\n",
       "                  mada_geom_point sampled_layers nodata_layers  \\\n",
       "0  POINT (963987.216 8638826.905)           None          None   \n",
       "1  POINT (973268.317 8646324.577)           None          None   \n",
       "2  POINT (968361.925 8634492.084)           None          None   \n",
       "3  POINT (959985.375 8638670.641)           None          None   \n",
       "4  POINT (972432.287 8625771.942)           None          None   \n",
       "5  POINT (965147.750 8625594.362)           None          None   \n",
       "6  POINT (997074.808 8618950.269)           None          None   \n",
       "7  POINT (994676.992 8604973.911)           None          None   \n",
       "\n",
       "   is_categorical_encoded  genus_species    year  \n",
       "0                   False  Coffea heimii  2020.0  \n",
       "1                   False  Coffea heimii  2020.0  \n",
       "2                   False  Coffea heimii  2020.0  \n",
       "3                   False  Coffea heimii  2020.0  \n",
       "4                   False  Coffea heimii  2019.0  \n",
       "5                   False  Coffea heimii  2019.0  \n",
       "6                   False  Coffea heimii  2019.0  \n",
       "7                   False  Coffea heimii  2019.0  "
      ]
     },
     "execution_count": 53,
     "metadata": {},
     "output_type": "execute_result"
    }
   ],
   "source": [
    "coll_heimii.gdf"
   ]
  },
  {
   "cell_type": "markdown",
   "metadata": {},
   "source": [
    "### Sample from rasters\n",
    "\n",
    "Just like the `MadaclimPoint` class, use the `sample_from_rasters` method to get data based on the collection's specimens."
   ]
  },
  {
   "cell_type": "code",
   "execution_count": 54,
   "metadata": {},
   "outputs": [],
   "source": [
    "from py_madaclim.info import MadaclimLayers\n",
    "mada_info = MadaclimLayers()"
   ]
  },
  {
   "cell_type": "code",
   "execution_count": 55,
   "metadata": {},
   "outputs": [
    {
     "name": "stdout",
     "output_type": "stream",
     "text": [
      "(79, 6)\n"
     ]
    },
    {
     "data": {
      "text/html": [
       "<div>\n",
       "<style scoped>\n",
       "    .dataframe tbody tr th:only-of-type {\n",
       "        vertical-align: middle;\n",
       "    }\n",
       "\n",
       "    .dataframe tbody tr th {\n",
       "        vertical-align: top;\n",
       "    }\n",
       "\n",
       "    .dataframe thead th {\n",
       "        text-align: right;\n",
       "    }\n",
       "</style>\n",
       "<table border=\"1\" class=\"dataframe\">\n",
       "  <thead>\n",
       "    <tr style=\"text-align: right;\">\n",
       "      <th></th>\n",
       "      <th>geoclim_type</th>\n",
       "      <th>layer_number</th>\n",
       "      <th>layer_name</th>\n",
       "      <th>layer_description</th>\n",
       "      <th>is_categorical</th>\n",
       "      <th>units</th>\n",
       "    </tr>\n",
       "  </thead>\n",
       "  <tbody>\n",
       "    <tr>\n",
       "      <th>0</th>\n",
       "      <td>clim</td>\n",
       "      <td>1</td>\n",
       "      <td>tmin1</td>\n",
       "      <td>Monthly minimum temperature - January</td>\n",
       "      <td>False</td>\n",
       "      <td>°C x 10</td>\n",
       "    </tr>\n",
       "    <tr>\n",
       "      <th>1</th>\n",
       "      <td>clim</td>\n",
       "      <td>2</td>\n",
       "      <td>tmin2</td>\n",
       "      <td>Monthly minimum temperature - February</td>\n",
       "      <td>False</td>\n",
       "      <td>°C x 10</td>\n",
       "    </tr>\n",
       "    <tr>\n",
       "      <th>2</th>\n",
       "      <td>clim</td>\n",
       "      <td>3</td>\n",
       "      <td>tmin3</td>\n",
       "      <td>Monthly minimum temperature - March</td>\n",
       "      <td>False</td>\n",
       "      <td>°C x 10</td>\n",
       "    </tr>\n",
       "    <tr>\n",
       "      <th>3</th>\n",
       "      <td>clim</td>\n",
       "      <td>4</td>\n",
       "      <td>tmin4</td>\n",
       "      <td>Monthly minimum temperature - April</td>\n",
       "      <td>False</td>\n",
       "      <td>°C x 10</td>\n",
       "    </tr>\n",
       "    <tr>\n",
       "      <th>4</th>\n",
       "      <td>clim</td>\n",
       "      <td>5</td>\n",
       "      <td>tmin5</td>\n",
       "      <td>Monthly minimum temperature - May</td>\n",
       "      <td>False</td>\n",
       "      <td>°C x 10</td>\n",
       "    </tr>\n",
       "    <tr>\n",
       "      <th>...</th>\n",
       "      <td>...</td>\n",
       "      <td>...</td>\n",
       "      <td>...</td>\n",
       "      <td>...</td>\n",
       "      <td>...</td>\n",
       "      <td>...</td>\n",
       "    </tr>\n",
       "    <tr>\n",
       "      <th>74</th>\n",
       "      <td>env</td>\n",
       "      <td>75</td>\n",
       "      <td>geo</td>\n",
       "      <td>Rock types</td>\n",
       "      <td>True</td>\n",
       "      <td>[1=Alluvial_&amp;_Lake_deposits, 2=Unconsolidated_...</td>\n",
       "    </tr>\n",
       "    <tr>\n",
       "      <th>75</th>\n",
       "      <td>env</td>\n",
       "      <td>76</td>\n",
       "      <td>soi</td>\n",
       "      <td>Soil types</td>\n",
       "      <td>True</td>\n",
       "      <td>[1=Bare_Rocks, 2=Raw_Lithic_Mineral_Soils, 3=P...</td>\n",
       "    </tr>\n",
       "    <tr>\n",
       "      <th>76</th>\n",
       "      <td>env</td>\n",
       "      <td>77</td>\n",
       "      <td>veg</td>\n",
       "      <td>Vegetation types</td>\n",
       "      <td>True</td>\n",
       "      <td>[1=VegCat_01, 2=VegCat_02, 3=VegCat_03, 4=VegC...</td>\n",
       "    </tr>\n",
       "    <tr>\n",
       "      <th>77</th>\n",
       "      <td>env</td>\n",
       "      <td>78</td>\n",
       "      <td>wat</td>\n",
       "      <td>Watersheds</td>\n",
       "      <td>True</td>\n",
       "      <td>[1=CoE_N-Bemarivo, 2=CoE_S-Bemarivo_N-Mangoro,...</td>\n",
       "    </tr>\n",
       "    <tr>\n",
       "      <th>78</th>\n",
       "      <td>env</td>\n",
       "      <td>79</td>\n",
       "      <td>forcov</td>\n",
       "      <td>Percentage of forest cover in 1 km by 1 km gri...</td>\n",
       "      <td>False</td>\n",
       "      <td>%</td>\n",
       "    </tr>\n",
       "  </tbody>\n",
       "</table>\n",
       "<p>79 rows × 6 columns</p>\n",
       "</div>"
      ],
      "text/plain": [
       "   geoclim_type  layer_number layer_name  \\\n",
       "0          clim             1      tmin1   \n",
       "1          clim             2      tmin2   \n",
       "2          clim             3      tmin3   \n",
       "3          clim             4      tmin4   \n",
       "4          clim             5      tmin5   \n",
       "..          ...           ...        ...   \n",
       "74          env            75        geo   \n",
       "75          env            76        soi   \n",
       "76          env            77        veg   \n",
       "77          env            78        wat   \n",
       "78          env            79     forcov   \n",
       "\n",
       "                                    layer_description  is_categorical  \\\n",
       "0               Monthly minimum temperature - January           False   \n",
       "1              Monthly minimum temperature - February           False   \n",
       "2                 Monthly minimum temperature - March           False   \n",
       "3                 Monthly minimum temperature - April           False   \n",
       "4                   Monthly minimum temperature - May           False   \n",
       "..                                                ...             ...   \n",
       "74                                         Rock types            True   \n",
       "75                                         Soil types            True   \n",
       "76                                   Vegetation types            True   \n",
       "77                                         Watersheds            True   \n",
       "78  Percentage of forest cover in 1 km by 1 km gri...           False   \n",
       "\n",
       "                                                units  \n",
       "0                                             °C x 10  \n",
       "1                                             °C x 10  \n",
       "2                                             °C x 10  \n",
       "3                                             °C x 10  \n",
       "4                                             °C x 10  \n",
       "..                                                ...  \n",
       "74  [1=Alluvial_&_Lake_deposits, 2=Unconsolidated_...  \n",
       "75  [1=Bare_Rocks, 2=Raw_Lithic_Mineral_Soils, 3=P...  \n",
       "76  [1=VegCat_01, 2=VegCat_02, 3=VegCat_03, 4=VegC...  \n",
       "77  [1=CoE_N-Bemarivo, 2=CoE_S-Bemarivo_N-Mangoro,...  \n",
       "78                                                  %  \n",
       "\n",
       "[79 rows x 6 columns]"
      ]
     },
     "execution_count": 55,
     "metadata": {},
     "output_type": "execute_result"
    }
   ],
   "source": [
    "print(mada_info.all_layers.shape)\n",
    "mada_info.all_layers"
   ]
  },
  {
   "cell_type": "code",
   "execution_count": 56,
   "metadata": {},
   "outputs": [],
   "source": [
    "raster_files = [\"madaclim_current.tif\", \"madaclim_enviro.tif\"]\n",
    "if not all([(cwd / raster_file).exists() for raster_file in raster_files]):\n",
    "    mada_info.download_data(save_dir=cwd)\n"
   ]
  },
  {
   "cell_type": "code",
   "execution_count": 57,
   "metadata": {},
   "outputs": [
    {
     "name": "stdout",
     "output_type": "stream",
     "text": [
      "MadaclimLayers(\n",
      "\tall_layers = DataFrame(79 rows x 6 columns)\n",
      "\tcategorical_layers = DataFrame(Layers 75, 76, 77, 78 with a total of 79 categories\n",
      "\tclim_raster = madaclim_current.tif\n",
      "\tclim_crs = EPSG:32738\n",
      "\tenv_raster = madaclim_enviro.tif\n",
      "\tenv_crs = EPSG:32738\n",
      "\tpublic methods -> download_data, fetch_specific_layers, get_bandnums_from_layers\n",
      "\t\t\t get_categorical_combinations, get_layers_labels, select_geoclim_type_layers\n",
      ")\n"
     ]
    }
   ],
   "source": [
    "\n",
    "mada_info.clim_raster = \"./madaclim_current.tif\"\n",
    "mada_info.env_raster = \"./madaclim_enviro.tif\"\n",
    "print(mada_info)    # Now the 'get_bandnums_from_layers' is visible"
   ]
  },
  {
   "cell_type": "code",
   "execution_count": 58,
   "metadata": {},
   "outputs": [
    {
     "name": "stdout",
     "output_type": "stream",
     "text": [
      "MadaclimRasters(\n",
      "\tclim_raster = madaclim_current.tif,\n",
      "\tclim_crs = EPSG:32738,\n",
      "\tclim_nodata_val = -32768.0\n",
      "\tenv_raster = madaclim_enviro.tif,\n",
      "\tenv_crs = EPSG:32738,\n",
      "\tenv_nodata_val = -32768.0\n",
      ")\n"
     ]
    }
   ],
   "source": [
    "from py_madaclim.raster_manipulation import MadaclimRasters\n",
    "from pathlib import Path\n",
    "cwd = Path.cwd()\n",
    "mada_rasters = MadaclimRasters(clim_raster=cwd / \"madaclim_current.tif\", env_raster=cwd / \"madaclim_enviro.tif\")\n",
    "print(mada_rasters)"
   ]
  },
  {
   "cell_type": "code",
   "execution_count": 59,
   "metadata": {},
   "outputs": [
    {
     "name": "stdout",
     "output_type": "stream",
     "text": [
      "\n",
      "######################################## \u001b[1mExtracting data for: heimii_14672\u001b[0m ########################################\n",
      "\n",
      "Sampling 70 layer(s) from madaclim_current.tif (geoclim_type=clim)...\n"
     ]
    },
    {
     "name": "stderr",
     "output_type": "stream",
     "text": [
      "Extracting layer 70: Number of dry months in the year:  100%|██████████| layer 70/70 [Time remaining: 00:00]                                              \n"
     ]
    },
    {
     "name": "stdout",
     "output_type": "stream",
     "text": [
      "\n",
      "Sampling 9 layer(s) from madaclim_enviro.tif (geoclim_type=env)...\n"
     ]
    },
    {
     "name": "stderr",
     "output_type": "stream",
     "text": [
      "Extracting layer 79: Percentage of forest cover in 1 km by 1 km grid cells:  100%|██████████| layer 9/9 [Time remaining: 00:00]   \n"
     ]
    },
    {
     "name": "stdout",
     "output_type": "stream",
     "text": [
      "BEWARE! 8 layer(s) contain a nodata value at the specimen location\n",
      "\n",
      "Finished raster sampling operation in 0.51 seconds.\n",
      "\n",
      "\n",
      "######################################## \u001b[1mExtracting data for: heimii_16490\u001b[0m ########################################\n",
      "\n",
      "Sampling 70 layer(s) from madaclim_current.tif (geoclim_type=clim)...\n"
     ]
    },
    {
     "name": "stderr",
     "output_type": "stream",
     "text": [
      "Extracting layer 70: Number of dry months in the year:  100%|██████████| layer 70/70 [Time remaining: 00:00]                                              \n"
     ]
    },
    {
     "name": "stdout",
     "output_type": "stream",
     "text": [
      "\n",
      "Sampling 9 layer(s) from madaclim_enviro.tif (geoclim_type=env)...\n"
     ]
    },
    {
     "name": "stderr",
     "output_type": "stream",
     "text": [
      "Extracting layer 79: Percentage of forest cover in 1 km by 1 km grid cells:  100%|██████████| layer 9/9 [Time remaining: 00:00]   \n"
     ]
    },
    {
     "name": "stdout",
     "output_type": "stream",
     "text": [
      "BEWARE! 78 layer(s) contain a nodata value at the specimen location\n",
      "\n",
      "Finished raster sampling operation in 0.52 seconds.\n",
      "\n",
      "\n",
      "######################################## \u001b[1mExtracting data for: heimii_16893\u001b[0m ########################################\n",
      "\n",
      "Sampling 70 layer(s) from madaclim_current.tif (geoclim_type=clim)...\n"
     ]
    },
    {
     "name": "stderr",
     "output_type": "stream",
     "text": [
      "Extracting layer 70: Number of dry months in the year:  100%|██████████| layer 70/70 [Time remaining: 00:00]                                              \n"
     ]
    },
    {
     "name": "stdout",
     "output_type": "stream",
     "text": [
      "\n",
      "Sampling 9 layer(s) from madaclim_enviro.tif (geoclim_type=env)...\n"
     ]
    },
    {
     "name": "stderr",
     "output_type": "stream",
     "text": [
      "Extracting layer 79: Percentage of forest cover in 1 km by 1 km grid cells:  100%|██████████| layer 9/9 [Time remaining: 00:00]   \n"
     ]
    },
    {
     "name": "stdout",
     "output_type": "stream",
     "text": [
      "\n",
      "Finished raster sampling operation in 0.48 seconds.\n",
      "\n",
      "\n",
      "######################################## \u001b[1mExtracting data for: heimii_16895\u001b[0m ########################################\n",
      "\n",
      "Sampling 70 layer(s) from madaclim_current.tif (geoclim_type=clim)...\n"
     ]
    },
    {
     "name": "stderr",
     "output_type": "stream",
     "text": [
      "Extracting layer 70: Number of dry months in the year:  100%|██████████| layer 70/70 [Time remaining: 00:00]                                              \n"
     ]
    },
    {
     "name": "stdout",
     "output_type": "stream",
     "text": [
      "\n",
      "Sampling 9 layer(s) from madaclim_enviro.tif (geoclim_type=env)...\n"
     ]
    },
    {
     "name": "stderr",
     "output_type": "stream",
     "text": [
      "Extracting layer 79: Percentage of forest cover in 1 km by 1 km grid cells:  100%|██████████| layer 9/9 [Time remaining: 00:00]   \n"
     ]
    },
    {
     "name": "stdout",
     "output_type": "stream",
     "text": [
      "BEWARE! 78 layer(s) contain a nodata value at the specimen location\n",
      "\n",
      "Finished raster sampling operation in 0.56 seconds.\n",
      "\n",
      "\n",
      "######################################## \u001b[1mExtracting data for: heimii_17832\u001b[0m ########################################\n",
      "\n",
      "Sampling 70 layer(s) from madaclim_current.tif (geoclim_type=clim)...\n"
     ]
    },
    {
     "name": "stderr",
     "output_type": "stream",
     "text": [
      "Extracting layer 70: Number of dry months in the year:  100%|██████████| layer 70/70 [Time remaining: 00:00]                                              \n"
     ]
    },
    {
     "name": "stdout",
     "output_type": "stream",
     "text": [
      "\n",
      "Sampling 9 layer(s) from madaclim_enviro.tif (geoclim_type=env)...\n"
     ]
    },
    {
     "name": "stderr",
     "output_type": "stream",
     "text": [
      "Extracting layer 79: Percentage of forest cover in 1 km by 1 km grid cells:  100%|██████████| layer 9/9 [Time remaining: 00:00]   \n"
     ]
    },
    {
     "name": "stdout",
     "output_type": "stream",
     "text": [
      "\n",
      "Finished raster sampling operation in 0.55 seconds.\n",
      "\n",
      "\n",
      "######################################## \u001b[1mExtracting data for: heimii_17834\u001b[0m ########################################\n",
      "\n",
      "Sampling 70 layer(s) from madaclim_current.tif (geoclim_type=clim)...\n"
     ]
    },
    {
     "name": "stderr",
     "output_type": "stream",
     "text": [
      "Extracting layer 70: Number of dry months in the year:  100%|██████████| layer 70/70 [Time remaining: 00:00]                                              \n"
     ]
    },
    {
     "name": "stdout",
     "output_type": "stream",
     "text": [
      "\n",
      "Sampling 9 layer(s) from madaclim_enviro.tif (geoclim_type=env)...\n"
     ]
    },
    {
     "name": "stderr",
     "output_type": "stream",
     "text": [
      "Extracting layer 79: Percentage of forest cover in 1 km by 1 km grid cells:  100%|██████████| layer 9/9 [Time remaining: 00:00]   \n"
     ]
    },
    {
     "name": "stdout",
     "output_type": "stream",
     "text": [
      "\n",
      "Finished raster sampling operation in 0.64 seconds.\n",
      "\n",
      "\n",
      "######################################## \u001b[1mExtracting data for: heimii_19479\u001b[0m ########################################\n",
      "\n",
      "Sampling 70 layer(s) from madaclim_current.tif (geoclim_type=clim)...\n"
     ]
    },
    {
     "name": "stderr",
     "output_type": "stream",
     "text": [
      "Extracting layer 70: Number of dry months in the year:  100%|██████████| layer 70/70 [Time remaining: 00:00]                                              \n"
     ]
    },
    {
     "name": "stdout",
     "output_type": "stream",
     "text": [
      "\n",
      "Sampling 9 layer(s) from madaclim_enviro.tif (geoclim_type=env)...\n"
     ]
    },
    {
     "name": "stderr",
     "output_type": "stream",
     "text": [
      "Extracting layer 79: Percentage of forest cover in 1 km by 1 km grid cells:  100%|██████████| layer 9/9 [Time remaining: 00:00]   \n"
     ]
    },
    {
     "name": "stdout",
     "output_type": "stream",
     "text": [
      "BEWARE! 7 layer(s) contain a nodata value at the specimen location\n",
      "\n",
      "Finished raster sampling operation in 0.54 seconds.\n",
      "\n",
      "\n",
      "######################################## \u001b[1mExtracting data for: heimii_19555\u001b[0m ########################################\n",
      "\n",
      "Sampling 70 layer(s) from madaclim_current.tif (geoclim_type=clim)...\n"
     ]
    },
    {
     "name": "stderr",
     "output_type": "stream",
     "text": [
      "Extracting layer 70: Number of dry months in the year:  100%|██████████| layer 70/70 [Time remaining: 00:00]                                              \n"
     ]
    },
    {
     "name": "stdout",
     "output_type": "stream",
     "text": [
      "\n",
      "Sampling 9 layer(s) from madaclim_enviro.tif (geoclim_type=env)...\n"
     ]
    },
    {
     "name": "stderr",
     "output_type": "stream",
     "text": [
      "Extracting layer 79: Percentage of forest cover in 1 km by 1 km grid cells:  100%|██████████| layer 9/9 [Time remaining: 00:00]   \n"
     ]
    },
    {
     "name": "stdout",
     "output_type": "stream",
     "text": [
      "\n",
      "Finished raster sampling operation in 0.60 seconds.\n",
      "\n"
     ]
    }
   ],
   "source": [
    "coll_heimii.sample_from_rasters(\n",
    "    clim_raster=mada_rasters.clim_raster,\n",
    "    env_raster=mada_rasters.env_raster\n",
    ")"
   ]
  },
  {
   "cell_type": "code",
   "execution_count": 61,
   "metadata": {},
   "outputs": [
    {
     "name": "stdout",
     "output_type": "stream",
     "text": [
      "\n",
      "######################################## \u001b[1mExtracting data for: humbertii_7021\u001b[0m ########################################\n",
      "\n",
      "Sampling 70 layer(s) from madaclim_current.tif (geoclim_type=clim)...\n"
     ]
    },
    {
     "name": "stderr",
     "output_type": "stream",
     "text": [
      "Extracting layer 70: Number of dry months in the year:  100%|██████████| layer 70/70 [Time remaining: 00:00]                                              \n"
     ]
    },
    {
     "name": "stdout",
     "output_type": "stream",
     "text": [
      "\n",
      "Sampling 9 layer(s) from madaclim_enviro.tif (geoclim_type=env)...\n"
     ]
    },
    {
     "name": "stderr",
     "output_type": "stream",
     "text": [
      "Extracting layer 79: Percentage of forest cover in 1 km by 1 km grid cells:  100%|██████████| layer 9/9 [Time remaining: 00:00]   \n"
     ]
    },
    {
     "name": "stdout",
     "output_type": "stream",
     "text": [
      "BEWARE! 1 layer(s) contain a nodata value at the specimen location\n",
      "\n",
      "Finished raster sampling operation in 0.53 seconds.\n",
      "\n",
      "\n",
      "######################################## \u001b[1mExtracting data for: humbertii J.-F.Leroy_8949\u001b[0m ########################################\n",
      "\n",
      "Sampling 70 layer(s) from madaclim_current.tif (geoclim_type=clim)...\n"
     ]
    },
    {
     "name": "stderr",
     "output_type": "stream",
     "text": [
      "Extracting layer 70: Number of dry months in the year:  100%|██████████| layer 70/70 [Time remaining: 00:00]                                              \n"
     ]
    },
    {
     "name": "stdout",
     "output_type": "stream",
     "text": [
      "\n",
      "Sampling 9 layer(s) from madaclim_enviro.tif (geoclim_type=env)...\n"
     ]
    },
    {
     "name": "stderr",
     "output_type": "stream",
     "text": [
      "Extracting layer 79: Percentage of forest cover in 1 km by 1 km grid cells:  100%|██████████| layer 9/9 [Time remaining: 00:00]   \n"
     ]
    },
    {
     "name": "stdout",
     "output_type": "stream",
     "text": [
      "\n",
      "Finished raster sampling operation in 0.51 seconds.\n",
      "\n",
      "\n",
      "######################################## \u001b[1mExtracting data for: humbertii J.-F.Leroy_8951\u001b[0m ########################################\n",
      "\n",
      "Sampling 70 layer(s) from madaclim_current.tif (geoclim_type=clim)...\n"
     ]
    },
    {
     "name": "stderr",
     "output_type": "stream",
     "text": [
      "Extracting layer 70: Number of dry months in the year:  100%|██████████| layer 70/70 [Time remaining: 00:00]                                              \n"
     ]
    },
    {
     "name": "stdout",
     "output_type": "stream",
     "text": [
      "\n",
      "Sampling 9 layer(s) from madaclim_enviro.tif (geoclim_type=env)...\n"
     ]
    },
    {
     "name": "stderr",
     "output_type": "stream",
     "text": [
      "Extracting layer 79: Percentage of forest cover in 1 km by 1 km grid cells:  100%|██████████| layer 9/9 [Time remaining: 00:00]   \n"
     ]
    },
    {
     "name": "stdout",
     "output_type": "stream",
     "text": [
      "\n",
      "Finished raster sampling operation in 0.58 seconds.\n",
      "\n",
      "\n",
      "######################################## \u001b[1mExtracting data for: perrieri Drake ex Jum. & H. Perrier_6802\u001b[0m ########################################\n",
      "\n",
      "Sampling 70 layer(s) from madaclim_current.tif (geoclim_type=clim)...\n"
     ]
    },
    {
     "name": "stderr",
     "output_type": "stream",
     "text": [
      "Extracting layer 70: Number of dry months in the year:  100%|██████████| layer 70/70 [Time remaining: 00:00]                                              \n"
     ]
    },
    {
     "name": "stdout",
     "output_type": "stream",
     "text": [
      "\n",
      "Sampling 9 layer(s) from madaclim_enviro.tif (geoclim_type=env)...\n"
     ]
    },
    {
     "name": "stderr",
     "output_type": "stream",
     "text": [
      "Extracting layer 79: Percentage of forest cover in 1 km by 1 km grid cells:  100%|██████████| layer 9/9 [Time remaining: 00:00]   \n"
     ]
    },
    {
     "name": "stdout",
     "output_type": "stream",
     "text": [
      "\n",
      "Finished raster sampling operation in 0.49 seconds.\n",
      "\n",
      "\n",
      "######################################## \u001b[1mExtracting data for: perrieri Drake ex Jum. & H. Perrier_6858\u001b[0m ########################################\n",
      "\n",
      "Sampling 70 layer(s) from madaclim_current.tif (geoclim_type=clim)...\n"
     ]
    },
    {
     "name": "stderr",
     "output_type": "stream",
     "text": [
      "Extracting layer 70: Number of dry months in the year:  100%|██████████| layer 70/70 [Time remaining: 00:00]                                              \n"
     ]
    },
    {
     "name": "stdout",
     "output_type": "stream",
     "text": [
      "\n",
      "Sampling 9 layer(s) from madaclim_enviro.tif (geoclim_type=env)...\n"
     ]
    },
    {
     "name": "stderr",
     "output_type": "stream",
     "text": [
      "Extracting layer 79: Percentage of forest cover in 1 km by 1 km grid cells:  100%|██████████| layer 9/9 [Time remaining: 00:00]   \n"
     ]
    },
    {
     "name": "stdout",
     "output_type": "stream",
     "text": [
      "\n",
      "Finished raster sampling operation in 0.46 seconds.\n",
      "\n",
      "\n",
      "######################################## \u001b[1mExtracting data for: perrieri Drake ex Jum. & H. Perrier_6916\u001b[0m ########################################\n",
      "\n",
      "Sampling 70 layer(s) from madaclim_current.tif (geoclim_type=clim)...\n"
     ]
    },
    {
     "name": "stderr",
     "output_type": "stream",
     "text": [
      "Extracting layer 70: Number of dry months in the year:  100%|██████████| layer 70/70 [Time remaining: 00:00]                                              \n"
     ]
    },
    {
     "name": "stdout",
     "output_type": "stream",
     "text": [
      "\n",
      "Sampling 9 layer(s) from madaclim_enviro.tif (geoclim_type=env)...\n"
     ]
    },
    {
     "name": "stderr",
     "output_type": "stream",
     "text": [
      "Extracting layer 79: Percentage of forest cover in 1 km by 1 km grid cells:  100%|██████████| layer 9/9 [Time remaining: 00:00]   \n"
     ]
    },
    {
     "name": "stdout",
     "output_type": "stream",
     "text": [
      "\n",
      "Finished raster sampling operation in 0.47 seconds.\n",
      "\n",
      "\n",
      "######################################## \u001b[1mExtracting data for: perrieri_7584\u001b[0m ########################################\n",
      "\n",
      "Sampling 70 layer(s) from madaclim_current.tif (geoclim_type=clim)...\n"
     ]
    },
    {
     "name": "stderr",
     "output_type": "stream",
     "text": [
      "Extracting layer 70: Number of dry months in the year:  100%|██████████| layer 70/70 [Time remaining: 00:00]                                              \n"
     ]
    },
    {
     "name": "stdout",
     "output_type": "stream",
     "text": [
      "\n",
      "Sampling 9 layer(s) from madaclim_enviro.tif (geoclim_type=env)...\n"
     ]
    },
    {
     "name": "stderr",
     "output_type": "stream",
     "text": [
      "Extracting layer 79: Percentage of forest cover in 1 km by 1 km grid cells:  100%|██████████| layer 9/9 [Time remaining: 00:00]   \n"
     ]
    },
    {
     "name": "stdout",
     "output_type": "stream",
     "text": [
      "\n",
      "Finished raster sampling operation in 0.46 seconds.\n",
      "\n",
      "\n",
      "######################################## \u001b[1mExtracting data for: perrieri Drake ex Jum. & H. Perrier_8151\u001b[0m ########################################\n",
      "\n",
      "Sampling 70 layer(s) from madaclim_current.tif (geoclim_type=clim)...\n"
     ]
    },
    {
     "name": "stderr",
     "output_type": "stream",
     "text": [
      "Extracting layer 70: Number of dry months in the year:  100%|██████████| layer 70/70 [Time remaining: 00:00]                                              \n"
     ]
    },
    {
     "name": "stdout",
     "output_type": "stream",
     "text": [
      "\n",
      "Sampling 9 layer(s) from madaclim_enviro.tif (geoclim_type=env)...\n"
     ]
    },
    {
     "name": "stderr",
     "output_type": "stream",
     "text": [
      "Extracting layer 79: Percentage of forest cover in 1 km by 1 km grid cells:  100%|██████████| layer 9/9 [Time remaining: 00:00]   \n"
     ]
    },
    {
     "name": "stdout",
     "output_type": "stream",
     "text": [
      "\n",
      "Finished raster sampling operation in 0.52 seconds.\n",
      "\n",
      "\n",
      "######################################## \u001b[1mExtracting data for: perrieri_8546\u001b[0m ########################################\n",
      "\n",
      "Sampling 70 layer(s) from madaclim_current.tif (geoclim_type=clim)...\n"
     ]
    },
    {
     "name": "stderr",
     "output_type": "stream",
     "text": [
      "Extracting layer 70: Number of dry months in the year:  100%|██████████| layer 70/70 [Time remaining: 00:00]                                              \n"
     ]
    },
    {
     "name": "stdout",
     "output_type": "stream",
     "text": [
      "\n",
      "Sampling 9 layer(s) from madaclim_enviro.tif (geoclim_type=env)...\n"
     ]
    },
    {
     "name": "stderr",
     "output_type": "stream",
     "text": [
      "Extracting layer 79: Percentage of forest cover in 1 km by 1 km grid cells:  100%|██████████| layer 9/9 [Time remaining: 00:00]   \n"
     ]
    },
    {
     "name": "stdout",
     "output_type": "stream",
     "text": [
      "\n",
      "Finished raster sampling operation in 0.47 seconds.\n",
      "\n",
      "\n",
      "######################################## \u001b[1mExtracting data for: perrieri_8666\u001b[0m ########################################\n",
      "\n",
      "Sampling 70 layer(s) from madaclim_current.tif (geoclim_type=clim)...\n"
     ]
    },
    {
     "name": "stderr",
     "output_type": "stream",
     "text": [
      "Extracting layer 70: Number of dry months in the year:  100%|██████████| layer 70/70 [Time remaining: 00:00]                                              \n"
     ]
    },
    {
     "name": "stdout",
     "output_type": "stream",
     "text": [
      "\n",
      "Sampling 9 layer(s) from madaclim_enviro.tif (geoclim_type=env)...\n"
     ]
    },
    {
     "name": "stderr",
     "output_type": "stream",
     "text": [
      "Extracting layer 79: Percentage of forest cover in 1 km by 1 km grid cells:  100%|██████████| layer 9/9 [Time remaining: 00:00]   \n"
     ]
    },
    {
     "name": "stdout",
     "output_type": "stream",
     "text": [
      "\n",
      "Finished raster sampling operation in 0.50 seconds.\n",
      "\n",
      "\n",
      "######################################## \u001b[1mExtracting data for: perrieri Drake ex Jum. & H. Perrier_9136\u001b[0m ########################################\n",
      "\n",
      "Sampling 70 layer(s) from madaclim_current.tif (geoclim_type=clim)...\n"
     ]
    },
    {
     "name": "stderr",
     "output_type": "stream",
     "text": [
      "Extracting layer 70: Number of dry months in the year:  100%|██████████| layer 70/70 [Time remaining: 00:00]                                              \n"
     ]
    },
    {
     "name": "stdout",
     "output_type": "stream",
     "text": [
      "\n",
      "Sampling 9 layer(s) from madaclim_enviro.tif (geoclim_type=env)...\n"
     ]
    },
    {
     "name": "stderr",
     "output_type": "stream",
     "text": [
      "Extracting layer 79: Percentage of forest cover in 1 km by 1 km grid cells:  100%|██████████| layer 9/9 [Time remaining: 00:00]   \n"
     ]
    },
    {
     "name": "stdout",
     "output_type": "stream",
     "text": [
      "\n",
      "Finished raster sampling operation in 0.47 seconds.\n",
      "\n",
      "\n",
      "######################################## \u001b[1mExtracting data for: perrieri Drake ex Jum. & H. Perrier_9214\u001b[0m ########################################\n",
      "\n",
      "Sampling 70 layer(s) from madaclim_current.tif (geoclim_type=clim)...\n"
     ]
    },
    {
     "name": "stderr",
     "output_type": "stream",
     "text": [
      "Extracting layer 70: Number of dry months in the year:  100%|██████████| layer 70/70 [Time remaining: 00:00]                                              \n"
     ]
    },
    {
     "name": "stdout",
     "output_type": "stream",
     "text": [
      "\n",
      "Sampling 9 layer(s) from madaclim_enviro.tif (geoclim_type=env)...\n"
     ]
    },
    {
     "name": "stderr",
     "output_type": "stream",
     "text": [
      "Extracting layer 79: Percentage of forest cover in 1 km by 1 km grid cells:  100%|██████████| layer 9/9 [Time remaining: 00:00]   \n"
     ]
    },
    {
     "name": "stdout",
     "output_type": "stream",
     "text": [
      "\n",
      "Finished raster sampling operation in 0.57 seconds.\n",
      "\n",
      "\n",
      "######################################## \u001b[1mExtracting data for: perrieri Drake ex Jum. & H. Perrier_9215\u001b[0m ########################################\n",
      "\n",
      "Sampling 70 layer(s) from madaclim_current.tif (geoclim_type=clim)...\n"
     ]
    },
    {
     "name": "stderr",
     "output_type": "stream",
     "text": [
      "Extracting layer 70: Number of dry months in the year:  100%|██████████| layer 70/70 [Time remaining: 00:00]                                              \n"
     ]
    },
    {
     "name": "stdout",
     "output_type": "stream",
     "text": [
      "\n",
      "Sampling 9 layer(s) from madaclim_enviro.tif (geoclim_type=env)...\n"
     ]
    },
    {
     "name": "stderr",
     "output_type": "stream",
     "text": [
      "Extracting layer 79: Percentage of forest cover in 1 km by 1 km grid cells:  100%|██████████| layer 9/9 [Time remaining: 00:00]   \n"
     ]
    },
    {
     "name": "stdout",
     "output_type": "stream",
     "text": [
      "\n",
      "Finished raster sampling operation in 0.49 seconds.\n",
      "\n",
      "\n",
      "######################################## \u001b[1mExtracting data for: perrieri Drake ex Jum. & H. Perrier_9731\u001b[0m ########################################\n",
      "\n",
      "Sampling 70 layer(s) from madaclim_current.tif (geoclim_type=clim)...\n"
     ]
    },
    {
     "name": "stderr",
     "output_type": "stream",
     "text": [
      "Extracting layer 70: Number of dry months in the year:  100%|██████████| layer 70/70 [Time remaining: 00:00]                                              \n"
     ]
    },
    {
     "name": "stdout",
     "output_type": "stream",
     "text": [
      "\n",
      "Sampling 9 layer(s) from madaclim_enviro.tif (geoclim_type=env)...\n"
     ]
    },
    {
     "name": "stderr",
     "output_type": "stream",
     "text": [
      "Extracting layer 79: Percentage of forest cover in 1 km by 1 km grid cells:  100%|██████████| layer 9/9 [Time remaining: 00:00]   \n"
     ]
    },
    {
     "name": "stdout",
     "output_type": "stream",
     "text": [
      "\n",
      "Finished raster sampling operation in 0.67 seconds.\n",
      "\n",
      "\n",
      "######################################## \u001b[1mExtracting data for: perrieri Drake ex Jum. & H. Perrier_9737\u001b[0m ########################################\n",
      "\n",
      "Sampling 70 layer(s) from madaclim_current.tif (geoclim_type=clim)...\n"
     ]
    },
    {
     "name": "stderr",
     "output_type": "stream",
     "text": [
      "Extracting layer 70: Number of dry months in the year:  100%|██████████| layer 70/70 [Time remaining: 00:00]                                              \n"
     ]
    },
    {
     "name": "stdout",
     "output_type": "stream",
     "text": [
      "\n",
      "Sampling 9 layer(s) from madaclim_enviro.tif (geoclim_type=env)...\n"
     ]
    },
    {
     "name": "stderr",
     "output_type": "stream",
     "text": [
      "Extracting layer 79: Percentage of forest cover in 1 km by 1 km grid cells:  100%|██████████| layer 9/9 [Time remaining: 00:00]   \n"
     ]
    },
    {
     "name": "stdout",
     "output_type": "stream",
     "text": [
      "\n",
      "Finished raster sampling operation in 0.48 seconds.\n",
      "\n",
      "\n",
      "######################################## \u001b[1mExtracting data for: perrieri Drake ex Jum. & H. Perrier_9772\u001b[0m ########################################\n",
      "\n",
      "Sampling 70 layer(s) from madaclim_current.tif (geoclim_type=clim)...\n"
     ]
    },
    {
     "name": "stderr",
     "output_type": "stream",
     "text": [
      "Extracting layer 70: Number of dry months in the year:  100%|██████████| layer 70/70 [Time remaining: 00:00]                                              \n"
     ]
    },
    {
     "name": "stdout",
     "output_type": "stream",
     "text": [
      "\n",
      "Sampling 9 layer(s) from madaclim_enviro.tif (geoclim_type=env)...\n"
     ]
    },
    {
     "name": "stderr",
     "output_type": "stream",
     "text": [
      "Extracting layer 79: Percentage of forest cover in 1 km by 1 km grid cells:  100%|██████████| layer 9/9 [Time remaining: 00:00]   \n"
     ]
    },
    {
     "name": "stdout",
     "output_type": "stream",
     "text": [
      "\n",
      "Finished raster sampling operation in 0.61 seconds.\n",
      "\n",
      "\n",
      "######################################## \u001b[1mExtracting data for: perrieri Drake ex Jum. & H. Perrier_10379\u001b[0m ########################################\n",
      "\n",
      "Sampling 70 layer(s) from madaclim_current.tif (geoclim_type=clim)...\n"
     ]
    },
    {
     "name": "stderr",
     "output_type": "stream",
     "text": [
      "Extracting layer 70: Number of dry months in the year:  100%|██████████| layer 70/70 [Time remaining: 00:00]                                              \n"
     ]
    },
    {
     "name": "stdout",
     "output_type": "stream",
     "text": [
      "\n",
      "Sampling 9 layer(s) from madaclim_enviro.tif (geoclim_type=env)...\n"
     ]
    },
    {
     "name": "stderr",
     "output_type": "stream",
     "text": [
      "Extracting layer 79: Percentage of forest cover in 1 km by 1 km grid cells:  100%|██████████| layer 9/9 [Time remaining: 00:00]   \n"
     ]
    },
    {
     "name": "stdout",
     "output_type": "stream",
     "text": [
      "\n",
      "Finished raster sampling operation in 0.49 seconds.\n",
      "\n",
      "\n",
      "######################################## \u001b[1mExtracting data for: perrieri Drake ex Jum. & H. Perrier_10396\u001b[0m ########################################\n",
      "\n",
      "Sampling 70 layer(s) from madaclim_current.tif (geoclim_type=clim)...\n"
     ]
    },
    {
     "name": "stderr",
     "output_type": "stream",
     "text": [
      "Extracting layer 70: Number of dry months in the year:  100%|██████████| layer 70/70 [Time remaining: 00:00]                                              \n"
     ]
    },
    {
     "name": "stdout",
     "output_type": "stream",
     "text": [
      "\n",
      "Sampling 9 layer(s) from madaclim_enviro.tif (geoclim_type=env)...\n"
     ]
    },
    {
     "name": "stderr",
     "output_type": "stream",
     "text": [
      "Extracting layer 79: Percentage of forest cover in 1 km by 1 km grid cells:  100%|██████████| layer 9/9 [Time remaining: 00:00]   \n"
     ]
    },
    {
     "name": "stdout",
     "output_type": "stream",
     "text": [
      "\n",
      "Finished raster sampling operation in 0.50 seconds.\n",
      "\n",
      "\n",
      "######################################## \u001b[1mExtracting data for: perrieri Drake ex Jum. & H. Perrier_10406\u001b[0m ########################################\n",
      "\n",
      "Sampling 70 layer(s) from madaclim_current.tif (geoclim_type=clim)...\n"
     ]
    },
    {
     "name": "stderr",
     "output_type": "stream",
     "text": [
      "Extracting layer 70: Number of dry months in the year:  100%|██████████| layer 70/70 [Time remaining: 00:00]                                              \n"
     ]
    },
    {
     "name": "stdout",
     "output_type": "stream",
     "text": [
      "\n",
      "Sampling 9 layer(s) from madaclim_enviro.tif (geoclim_type=env)...\n"
     ]
    },
    {
     "name": "stderr",
     "output_type": "stream",
     "text": [
      "Extracting layer 79: Percentage of forest cover in 1 km by 1 km grid cells:  100%|██████████| layer 9/9 [Time remaining: 00:00]   \n"
     ]
    },
    {
     "name": "stdout",
     "output_type": "stream",
     "text": [
      "\n",
      "Finished raster sampling operation in 0.48 seconds.\n",
      "\n",
      "\n",
      "######################################## \u001b[1mExtracting data for: perrieri Drake ex Jum. & H. Perrier_12493\u001b[0m ########################################\n",
      "\n",
      "Sampling 70 layer(s) from madaclim_current.tif (geoclim_type=clim)...\n"
     ]
    },
    {
     "name": "stderr",
     "output_type": "stream",
     "text": [
      "Extracting layer 70: Number of dry months in the year:  100%|██████████| layer 70/70 [Time remaining: 00:00]                                              \n"
     ]
    },
    {
     "name": "stdout",
     "output_type": "stream",
     "text": [
      "\n",
      "Sampling 9 layer(s) from madaclim_enviro.tif (geoclim_type=env)...\n"
     ]
    },
    {
     "name": "stderr",
     "output_type": "stream",
     "text": [
      "Extracting layer 79: Percentage of forest cover in 1 km by 1 km grid cells:  100%|██████████| layer 9/9 [Time remaining: 00:00]   \n"
     ]
    },
    {
     "name": "stdout",
     "output_type": "stream",
     "text": [
      "\n",
      "Finished raster sampling operation in 0.62 seconds.\n",
      "\n",
      "\n",
      "######################################## \u001b[1mExtracting data for: perrieri Drake ex Jum. & H. Perrier_12501\u001b[0m ########################################\n",
      "\n",
      "Sampling 70 layer(s) from madaclim_current.tif (geoclim_type=clim)...\n"
     ]
    },
    {
     "name": "stderr",
     "output_type": "stream",
     "text": [
      "Extracting layer 70: Number of dry months in the year:  100%|██████████| layer 70/70 [Time remaining: 00:00]                                              \n"
     ]
    },
    {
     "name": "stdout",
     "output_type": "stream",
     "text": [
      "\n",
      "Sampling 9 layer(s) from madaclim_enviro.tif (geoclim_type=env)...\n"
     ]
    },
    {
     "name": "stderr",
     "output_type": "stream",
     "text": [
      "Extracting layer 79: Percentage of forest cover in 1 km by 1 km grid cells:  100%|██████████| layer 9/9 [Time remaining: 00:00]   \n"
     ]
    },
    {
     "name": "stdout",
     "output_type": "stream",
     "text": [
      "\n",
      "Finished raster sampling operation in 0.49 seconds.\n",
      "\n",
      "\n",
      "######################################## \u001b[1mExtracting data for: perrieri_12538\u001b[0m ########################################\n",
      "\n",
      "Sampling 70 layer(s) from madaclim_current.tif (geoclim_type=clim)...\n"
     ]
    },
    {
     "name": "stderr",
     "output_type": "stream",
     "text": [
      "Extracting layer 70: Number of dry months in the year:  100%|██████████| layer 70/70 [Time remaining: 00:00]                                              \n"
     ]
    },
    {
     "name": "stdout",
     "output_type": "stream",
     "text": [
      "\n",
      "Sampling 9 layer(s) from madaclim_enviro.tif (geoclim_type=env)...\n"
     ]
    },
    {
     "name": "stderr",
     "output_type": "stream",
     "text": [
      "Extracting layer 79: Percentage of forest cover in 1 km by 1 km grid cells:  100%|██████████| layer 9/9 [Time remaining: 00:00]   \n"
     ]
    },
    {
     "name": "stdout",
     "output_type": "stream",
     "text": [
      "\n",
      "Finished raster sampling operation in 0.51 seconds.\n",
      "\n",
      "\n",
      "######################################## \u001b[1mExtracting data for: perrieri_12549\u001b[0m ########################################\n",
      "\n",
      "Sampling 70 layer(s) from madaclim_current.tif (geoclim_type=clim)...\n"
     ]
    },
    {
     "name": "stderr",
     "output_type": "stream",
     "text": [
      "Extracting layer 70: Number of dry months in the year:  100%|██████████| layer 70/70 [Time remaining: 00:00]                                              \n"
     ]
    },
    {
     "name": "stdout",
     "output_type": "stream",
     "text": [
      "\n",
      "Sampling 9 layer(s) from madaclim_enviro.tif (geoclim_type=env)...\n"
     ]
    },
    {
     "name": "stderr",
     "output_type": "stream",
     "text": [
      "Extracting layer 79: Percentage of forest cover in 1 km by 1 km grid cells:  100%|██████████| layer 9/9 [Time remaining: 00:00]   \n"
     ]
    },
    {
     "name": "stdout",
     "output_type": "stream",
     "text": [
      "\n",
      "Finished raster sampling operation in 0.53 seconds.\n",
      "\n",
      "\n",
      "######################################## \u001b[1mExtracting data for: perrieri_15407\u001b[0m ########################################\n",
      "\n",
      "Sampling 70 layer(s) from madaclim_current.tif (geoclim_type=clim)...\n"
     ]
    },
    {
     "name": "stderr",
     "output_type": "stream",
     "text": [
      "Extracting layer 70: Number of dry months in the year:  100%|██████████| layer 70/70 [Time remaining: 00:00]                                              \n"
     ]
    },
    {
     "name": "stdout",
     "output_type": "stream",
     "text": [
      "\n",
      "Sampling 9 layer(s) from madaclim_enviro.tif (geoclim_type=env)...\n"
     ]
    },
    {
     "name": "stderr",
     "output_type": "stream",
     "text": [
      "Extracting layer 79: Percentage of forest cover in 1 km by 1 km grid cells:  100%|██████████| layer 9/9 [Time remaining: 00:00]   \n"
     ]
    },
    {
     "name": "stdout",
     "output_type": "stream",
     "text": [
      "\n",
      "Finished raster sampling operation in 0.60 seconds.\n",
      "\n",
      "\n",
      "######################################## \u001b[1mExtracting data for: perrieri_16995\u001b[0m ########################################\n",
      "\n",
      "Sampling 70 layer(s) from madaclim_current.tif (geoclim_type=clim)...\n"
     ]
    },
    {
     "name": "stderr",
     "output_type": "stream",
     "text": [
      "Extracting layer 70: Number of dry months in the year:  100%|██████████| layer 70/70 [Time remaining: 00:00]                                              \n"
     ]
    },
    {
     "name": "stdout",
     "output_type": "stream",
     "text": [
      "\n",
      "Sampling 9 layer(s) from madaclim_enviro.tif (geoclim_type=env)...\n"
     ]
    },
    {
     "name": "stderr",
     "output_type": "stream",
     "text": [
      "Extracting layer 79: Percentage of forest cover in 1 km by 1 km grid cells:  100%|██████████| layer 9/9 [Time remaining: 00:00]   \n"
     ]
    },
    {
     "name": "stdout",
     "output_type": "stream",
     "text": [
      "\n",
      "Finished raster sampling operation in 0.54 seconds.\n",
      "\n",
      "\n",
      "######################################## \u001b[1mExtracting data for: pervilleana_8667\u001b[0m ########################################\n",
      "\n",
      "Sampling 70 layer(s) from madaclim_current.tif (geoclim_type=clim)...\n"
     ]
    },
    {
     "name": "stderr",
     "output_type": "stream",
     "text": [
      "Extracting layer 70: Number of dry months in the year:  100%|██████████| layer 70/70 [Time remaining: 00:00]                                              \n"
     ]
    },
    {
     "name": "stdout",
     "output_type": "stream",
     "text": [
      "\n",
      "Sampling 9 layer(s) from madaclim_enviro.tif (geoclim_type=env)...\n"
     ]
    },
    {
     "name": "stderr",
     "output_type": "stream",
     "text": [
      "Extracting layer 79: Percentage of forest cover in 1 km by 1 km grid cells:  100%|██████████| layer 9/9 [Time remaining: 00:00]   \n"
     ]
    },
    {
     "name": "stdout",
     "output_type": "stream",
     "text": [
      "\n",
      "Finished raster sampling operation in 0.58 seconds.\n",
      "\n",
      "\n",
      "######################################## \u001b[1mExtracting data for: pervilleana_8672\u001b[0m ########################################\n",
      "\n",
      "Sampling 70 layer(s) from madaclim_current.tif (geoclim_type=clim)...\n"
     ]
    },
    {
     "name": "stderr",
     "output_type": "stream",
     "text": [
      "Extracting layer 70: Number of dry months in the year:  100%|██████████| layer 70/70 [Time remaining: 00:00]                                              \n"
     ]
    },
    {
     "name": "stdout",
     "output_type": "stream",
     "text": [
      "\n",
      "Sampling 9 layer(s) from madaclim_enviro.tif (geoclim_type=env)...\n"
     ]
    },
    {
     "name": "stderr",
     "output_type": "stream",
     "text": [
      "Extracting layer 79: Percentage of forest cover in 1 km by 1 km grid cells:  100%|██████████| layer 9/9 [Time remaining: 00:00]   \n"
     ]
    },
    {
     "name": "stdout",
     "output_type": "stream",
     "text": [
      "\n",
      "Finished raster sampling operation in 0.50 seconds.\n",
      "\n",
      "\n",
      "######################################## \u001b[1mExtracting data for: tsirananae_14671\u001b[0m ########################################\n",
      "\n",
      "Sampling 70 layer(s) from madaclim_current.tif (geoclim_type=clim)...\n"
     ]
    },
    {
     "name": "stderr",
     "output_type": "stream",
     "text": [
      "Extracting layer 70: Number of dry months in the year:  100%|██████████| layer 70/70 [Time remaining: 00:00]                                              \n"
     ]
    },
    {
     "name": "stdout",
     "output_type": "stream",
     "text": [
      "\n",
      "Sampling 9 layer(s) from madaclim_enviro.tif (geoclim_type=env)...\n"
     ]
    },
    {
     "name": "stderr",
     "output_type": "stream",
     "text": [
      "Extracting layer 79: Percentage of forest cover in 1 km by 1 km grid cells:  100%|██████████| layer 9/9 [Time remaining: 00:00]   \n"
     ]
    },
    {
     "name": "stdout",
     "output_type": "stream",
     "text": [
      "BEWARE! 6 layer(s) contain a nodata value at the specimen location\n",
      "\n",
      "Finished raster sampling operation in 0.62 seconds.\n",
      "\n",
      "\n",
      "######################################## \u001b[1mExtracting data for: tsirananae_16502\u001b[0m ########################################\n",
      "\n",
      "Sampling 70 layer(s) from madaclim_current.tif (geoclim_type=clim)...\n"
     ]
    },
    {
     "name": "stderr",
     "output_type": "stream",
     "text": [
      "Extracting layer 70: Number of dry months in the year:  100%|██████████| layer 70/70 [Time remaining: 00:00]                                              \n"
     ]
    },
    {
     "name": "stdout",
     "output_type": "stream",
     "text": [
      "\n",
      "Sampling 9 layer(s) from madaclim_enviro.tif (geoclim_type=env)...\n"
     ]
    },
    {
     "name": "stderr",
     "output_type": "stream",
     "text": [
      "Extracting layer 79: Percentage of forest cover in 1 km by 1 km grid cells:  100%|██████████| layer 9/9 [Time remaining: 00:00]   \n"
     ]
    },
    {
     "name": "stdout",
     "output_type": "stream",
     "text": [
      "\n",
      "Finished raster sampling operation in 0.51 seconds.\n",
      "\n",
      "\n",
      "######################################## \u001b[1mExtracting data for: tsirananae_16891\u001b[0m ########################################\n",
      "\n",
      "Sampling 70 layer(s) from madaclim_current.tif (geoclim_type=clim)...\n"
     ]
    },
    {
     "name": "stderr",
     "output_type": "stream",
     "text": [
      "Extracting layer 70: Number of dry months in the year:  100%|██████████| layer 70/70 [Time remaining: 00:00]                                              \n"
     ]
    },
    {
     "name": "stdout",
     "output_type": "stream",
     "text": [
      "\n",
      "Sampling 9 layer(s) from madaclim_enviro.tif (geoclim_type=env)...\n"
     ]
    },
    {
     "name": "stderr",
     "output_type": "stream",
     "text": [
      "Extracting layer 79: Percentage of forest cover in 1 km by 1 km grid cells:  100%|██████████| layer 9/9 [Time remaining: 00:00]   \n"
     ]
    },
    {
     "name": "stdout",
     "output_type": "stream",
     "text": [
      "\n",
      "Finished raster sampling operation in 0.51 seconds.\n",
      "\n",
      "\n",
      "######################################## \u001b[1mExtracting data for: tsirananae_16892\u001b[0m ########################################\n",
      "\n",
      "Sampling 70 layer(s) from madaclim_current.tif (geoclim_type=clim)...\n"
     ]
    },
    {
     "name": "stderr",
     "output_type": "stream",
     "text": [
      "Extracting layer 70: Number of dry months in the year:  100%|██████████| layer 70/70 [Time remaining: 00:00]                                              \n"
     ]
    },
    {
     "name": "stdout",
     "output_type": "stream",
     "text": [
      "\n",
      "Sampling 9 layer(s) from madaclim_enviro.tif (geoclim_type=env)...\n"
     ]
    },
    {
     "name": "stderr",
     "output_type": "stream",
     "text": [
      "Extracting layer 79: Percentage of forest cover in 1 km by 1 km grid cells:  100%|██████████| layer 9/9 [Time remaining: 00:00]   \n"
     ]
    },
    {
     "name": "stdout",
     "output_type": "stream",
     "text": [
      "\n",
      "Finished raster sampling operation in 0.50 seconds.\n",
      "\n",
      "\n",
      "######################################## \u001b[1mExtracting data for: tsirananae_16894\u001b[0m ########################################\n",
      "\n",
      "Sampling 70 layer(s) from madaclim_current.tif (geoclim_type=clim)...\n"
     ]
    },
    {
     "name": "stderr",
     "output_type": "stream",
     "text": [
      "Extracting layer 70: Number of dry months in the year:  100%|██████████| layer 70/70 [Time remaining: 00:00]                                              \n"
     ]
    },
    {
     "name": "stdout",
     "output_type": "stream",
     "text": [
      "\n",
      "Sampling 9 layer(s) from madaclim_enviro.tif (geoclim_type=env)...\n"
     ]
    },
    {
     "name": "stderr",
     "output_type": "stream",
     "text": [
      "Extracting layer 79: Percentage of forest cover in 1 km by 1 km grid cells:  100%|██████████| layer 9/9 [Time remaining: 00:00]   \n"
     ]
    },
    {
     "name": "stdout",
     "output_type": "stream",
     "text": [
      "\n",
      "Finished raster sampling operation in 0.51 seconds.\n",
      "\n",
      "\n",
      "######################################## \u001b[1mExtracting data for: tsirananae_16896\u001b[0m ########################################\n",
      "\n",
      "Sampling 70 layer(s) from madaclim_current.tif (geoclim_type=clim)...\n"
     ]
    },
    {
     "name": "stderr",
     "output_type": "stream",
     "text": [
      "Extracting layer 70: Number of dry months in the year:  100%|██████████| layer 70/70 [Time remaining: 00:00]                                              \n"
     ]
    },
    {
     "name": "stdout",
     "output_type": "stream",
     "text": [
      "\n",
      "Sampling 9 layer(s) from madaclim_enviro.tif (geoclim_type=env)...\n"
     ]
    },
    {
     "name": "stderr",
     "output_type": "stream",
     "text": [
      "Extracting layer 79: Percentage of forest cover in 1 km by 1 km grid cells:  100%|██████████| layer 9/9 [Time remaining: 00:00]   \n"
     ]
    },
    {
     "name": "stdout",
     "output_type": "stream",
     "text": [
      "\n",
      "Finished raster sampling operation in 0.61 seconds.\n",
      "\n",
      "\n",
      "######################################## \u001b[1mExtracting data for: tsirananae_16909\u001b[0m ########################################\n",
      "\n",
      "Sampling 70 layer(s) from madaclim_current.tif (geoclim_type=clim)...\n"
     ]
    },
    {
     "name": "stderr",
     "output_type": "stream",
     "text": [
      "Extracting layer 70: Number of dry months in the year:  100%|██████████| layer 70/70 [Time remaining: 00:00]                                              \n"
     ]
    },
    {
     "name": "stdout",
     "output_type": "stream",
     "text": [
      "\n",
      "Sampling 9 layer(s) from madaclim_enviro.tif (geoclim_type=env)...\n"
     ]
    },
    {
     "name": "stderr",
     "output_type": "stream",
     "text": [
      "Extracting layer 79: Percentage of forest cover in 1 km by 1 km grid cells:  100%|██████████| layer 9/9 [Time remaining: 00:00]   \n"
     ]
    },
    {
     "name": "stdout",
     "output_type": "stream",
     "text": [
      "\n",
      "Finished raster sampling operation in 0.50 seconds.\n",
      "\n",
      "\n",
      "######################################## \u001b[1mExtracting data for: tsirananae_17828\u001b[0m ########################################\n",
      "\n",
      "Sampling 70 layer(s) from madaclim_current.tif (geoclim_type=clim)...\n"
     ]
    },
    {
     "name": "stderr",
     "output_type": "stream",
     "text": [
      "Extracting layer 70: Number of dry months in the year:  100%|██████████| layer 70/70 [Time remaining: 00:00]                                              \n"
     ]
    },
    {
     "name": "stdout",
     "output_type": "stream",
     "text": [
      "\n",
      "Sampling 9 layer(s) from madaclim_enviro.tif (geoclim_type=env)...\n"
     ]
    },
    {
     "name": "stderr",
     "output_type": "stream",
     "text": [
      "Extracting layer 79: Percentage of forest cover in 1 km by 1 km grid cells:  100%|██████████| layer 9/9 [Time remaining: 00:00]   \n"
     ]
    },
    {
     "name": "stdout",
     "output_type": "stream",
     "text": [
      "BEWARE! 6 layer(s) contain a nodata value at the specimen location\n",
      "\n",
      "Finished raster sampling operation in 0.69 seconds.\n",
      "\n",
      "\n",
      "######################################## \u001b[1mExtracting data for: tsirananae_17831\u001b[0m ########################################\n",
      "\n",
      "Sampling 70 layer(s) from madaclim_current.tif (geoclim_type=clim)...\n"
     ]
    },
    {
     "name": "stderr",
     "output_type": "stream",
     "text": [
      "Extracting layer 70: Number of dry months in the year:  100%|██████████| layer 70/70 [Time remaining: 00:00]                                              \n"
     ]
    },
    {
     "name": "stdout",
     "output_type": "stream",
     "text": [
      "\n",
      "Sampling 9 layer(s) from madaclim_enviro.tif (geoclim_type=env)...\n"
     ]
    },
    {
     "name": "stderr",
     "output_type": "stream",
     "text": [
      "Extracting layer 79: Percentage of forest cover in 1 km by 1 km grid cells:  100%|██████████| layer 9/9 [Time remaining: 00:00]   \n"
     ]
    },
    {
     "name": "stdout",
     "output_type": "stream",
     "text": [
      "\n",
      "Finished raster sampling operation in 0.52 seconds.\n",
      "\n",
      "\n",
      "######################################## \u001b[1mExtracting data for: tsirananae_19273\u001b[0m ########################################\n",
      "\n",
      "Sampling 70 layer(s) from madaclim_current.tif (geoclim_type=clim)...\n"
     ]
    },
    {
     "name": "stderr",
     "output_type": "stream",
     "text": [
      "Extracting layer 70: Number of dry months in the year:  100%|██████████| layer 70/70 [Time remaining: 00:00]                                              \n"
     ]
    },
    {
     "name": "stdout",
     "output_type": "stream",
     "text": [
      "\n",
      "Sampling 9 layer(s) from madaclim_enviro.tif (geoclim_type=env)...\n"
     ]
    },
    {
     "name": "stderr",
     "output_type": "stream",
     "text": [
      "Extracting layer 79: Percentage of forest cover in 1 km by 1 km grid cells:  100%|██████████| layer 9/9 [Time remaining: 00:00]   \n"
     ]
    },
    {
     "name": "stdout",
     "output_type": "stream",
     "text": [
      "BEWARE! 78 layer(s) contain a nodata value at the specimen location\n",
      "\n",
      "Finished raster sampling operation in 0.52 seconds.\n",
      "\n",
      "\n",
      "######################################## \u001b[1mExtracting data for: resinosa (Hook. f.) Radlk._9233\u001b[0m ########################################\n",
      "\n",
      "Sampling 70 layer(s) from madaclim_current.tif (geoclim_type=clim)...\n"
     ]
    },
    {
     "name": "stderr",
     "output_type": "stream",
     "text": [
      "Extracting layer 70: Number of dry months in the year:  100%|██████████| layer 70/70 [Time remaining: 00:00]                                              \n"
     ]
    },
    {
     "name": "stdout",
     "output_type": "stream",
     "text": [
      "\n",
      "Sampling 9 layer(s) from madaclim_enviro.tif (geoclim_type=env)...\n"
     ]
    },
    {
     "name": "stderr",
     "output_type": "stream",
     "text": [
      "Extracting layer 79: Percentage of forest cover in 1 km by 1 km grid cells:  100%|██████████| layer 9/9 [Time remaining: 00:00]   \n"
     ]
    },
    {
     "name": "stdout",
     "output_type": "stream",
     "text": [
      "\n",
      "Finished raster sampling operation in 0.51 seconds.\n",
      "\n",
      "\n",
      "######################################## \u001b[1mExtracting data for: resinosa (Hook. f.) Radlk._10714\u001b[0m ########################################\n",
      "\n",
      "Sampling 70 layer(s) from madaclim_current.tif (geoclim_type=clim)...\n"
     ]
    },
    {
     "name": "stderr",
     "output_type": "stream",
     "text": [
      "Extracting layer 70: Number of dry months in the year:  100%|██████████| layer 70/70 [Time remaining: 00:00]                                              \n"
     ]
    },
    {
     "name": "stdout",
     "output_type": "stream",
     "text": [
      "\n",
      "Sampling 9 layer(s) from madaclim_enviro.tif (geoclim_type=env)...\n"
     ]
    },
    {
     "name": "stderr",
     "output_type": "stream",
     "text": [
      "Extracting layer 79: Percentage of forest cover in 1 km by 1 km grid cells:  100%|██████████| layer 9/9 [Time remaining: 00:00]   \n"
     ]
    },
    {
     "name": "stdout",
     "output_type": "stream",
     "text": [
      "\n",
      "Finished raster sampling operation in 0.65 seconds.\n",
      "\n",
      "\n",
      "######################################## \u001b[1mExtracting data for: resinosa (Hook. f.) Radlk._16989\u001b[0m ########################################\n",
      "\n",
      "Sampling 70 layer(s) from madaclim_current.tif (geoclim_type=clim)...\n"
     ]
    },
    {
     "name": "stderr",
     "output_type": "stream",
     "text": [
      "Extracting layer 70: Number of dry months in the year:  100%|██████████| layer 70/70 [Time remaining: 00:00]                                              \n"
     ]
    },
    {
     "name": "stdout",
     "output_type": "stream",
     "text": [
      "\n",
      "Sampling 9 layer(s) from madaclim_enviro.tif (geoclim_type=env)...\n"
     ]
    },
    {
     "name": "stderr",
     "output_type": "stream",
     "text": [
      "Extracting layer 79: Percentage of forest cover in 1 km by 1 km grid cells:  100%|██████████| layer 9/9 [Time remaining: 00:00]   \n"
     ]
    },
    {
     "name": "stdout",
     "output_type": "stream",
     "text": [
      "\n",
      "Finished raster sampling operation in 0.57 seconds.\n",
      "\n"
     ]
    }
   ],
   "source": [
    "coll_humbertii.sample_from_rasters(\n",
    "    clim_raster=mada_rasters.clim_raster,\n",
    "    env_raster=mada_rasters.env_raster\n",
    ")\n",
    "\n",
    "coll_perrieri.sample_from_rasters(\n",
    "    clim_raster=mada_rasters.clim_raster,\n",
    "    env_raster=mada_rasters.env_raster\n",
    ")\n",
    "\n",
    "coll_pervilleana.sample_from_rasters(\n",
    "    clim_raster=mada_rasters.clim_raster,\n",
    "    env_raster=mada_rasters.env_raster\n",
    ")\n",
    "\n",
    "coll_tsirananae.sample_from_rasters(\n",
    "    clim_raster=mada_rasters.clim_raster,\n",
    "    env_raster=mada_rasters.env_raster\n",
    ")\n",
    "coll_resinosa.sample_from_rasters(\n",
    "    clim_raster=mada_rasters.clim_raster,\n",
    "    env_raster=mada_rasters.env_raster\n",
    ")"
   ]
  },
  {
   "cell_type": "code",
   "execution_count": 62,
   "metadata": {},
   "outputs": [
    {
     "data": {
      "text/html": [
       "<div>\n",
       "<style scoped>\n",
       "    .dataframe tbody tr th:only-of-type {\n",
       "        vertical-align: middle;\n",
       "    }\n",
       "\n",
       "    .dataframe tbody tr th {\n",
       "        vertical-align: top;\n",
       "    }\n",
       "\n",
       "    .dataframe thead th {\n",
       "        text-align: right;\n",
       "    }\n",
       "</style>\n",
       "<table border=\"1\" class=\"dataframe\">\n",
       "  <thead>\n",
       "    <tr style=\"text-align: right;\">\n",
       "      <th></th>\n",
       "      <th>specimen_id</th>\n",
       "      <th>source_crs</th>\n",
       "      <th>longitude</th>\n",
       "      <th>latitude</th>\n",
       "      <th>mada_geom_point</th>\n",
       "      <th>sampled_layers</th>\n",
       "      <th>nodata_layers</th>\n",
       "      <th>is_categorical_encoded</th>\n",
       "      <th>genus_species</th>\n",
       "      <th>year</th>\n",
       "      <th>...</th>\n",
       "      <th>layer_70</th>\n",
       "      <th>layer_71</th>\n",
       "      <th>layer_72</th>\n",
       "      <th>layer_73</th>\n",
       "      <th>layer_74</th>\n",
       "      <th>layer_75</th>\n",
       "      <th>layer_76</th>\n",
       "      <th>layer_77</th>\n",
       "      <th>layer_78</th>\n",
       "      <th>layer_79</th>\n",
       "    </tr>\n",
       "  </thead>\n",
       "  <tbody>\n",
       "    <tr>\n",
       "      <th>0</th>\n",
       "      <td>heimii_14672</td>\n",
       "      <td>4326</td>\n",
       "      <td>49.263119</td>\n",
       "      <td>-12.279828</td>\n",
       "      <td>POINT (963987.216 8638826.905)</td>\n",
       "      <td>79</td>\n",
       "      <td>8</td>\n",
       "      <td>False</td>\n",
       "      <td>Coffea heimii</td>\n",
       "      <td>2020.0</td>\n",
       "      <td>...</td>\n",
       "      <td>9.0</td>\n",
       "      <td>NaN</td>\n",
       "      <td>NaN</td>\n",
       "      <td>NaN</td>\n",
       "      <td>NaN</td>\n",
       "      <td>NaN</td>\n",
       "      <td>NaN</td>\n",
       "      <td>25</td>\n",
       "      <td>NaN</td>\n",
       "      <td>NaN</td>\n",
       "    </tr>\n",
       "    <tr>\n",
       "      <th>1</th>\n",
       "      <td>heimii_16490</td>\n",
       "      <td>4326</td>\n",
       "      <td>49.347115</td>\n",
       "      <td>-12.210881</td>\n",
       "      <td>POINT (973268.317 8646324.577)</td>\n",
       "      <td>79</td>\n",
       "      <td>78</td>\n",
       "      <td>False</td>\n",
       "      <td>Coffea heimii</td>\n",
       "      <td>2020.0</td>\n",
       "      <td>...</td>\n",
       "      <td>NaN</td>\n",
       "      <td>NaN</td>\n",
       "      <td>NaN</td>\n",
       "      <td>NaN</td>\n",
       "      <td>NaN</td>\n",
       "      <td>NaN</td>\n",
       "      <td>NaN</td>\n",
       "      <td>25</td>\n",
       "      <td>NaN</td>\n",
       "      <td>NaN</td>\n",
       "    </tr>\n",
       "    <tr>\n",
       "      <th>2</th>\n",
       "      <td>heimii_16893</td>\n",
       "      <td>4326</td>\n",
       "      <td>49.303872</td>\n",
       "      <td>-12.318289</td>\n",
       "      <td>POINT (968361.925 8634492.084)</td>\n",
       "      <td>79</td>\n",
       "      <td>0</td>\n",
       "      <td>False</td>\n",
       "      <td>Coffea heimii</td>\n",
       "      <td>2020.0</td>\n",
       "      <td>...</td>\n",
       "      <td>9.0</td>\n",
       "      <td>71.0</td>\n",
       "      <td>6.0</td>\n",
       "      <td>85.0</td>\n",
       "      <td>7863.0</td>\n",
       "      <td>7.0</td>\n",
       "      <td>4.0</td>\n",
       "      <td>6</td>\n",
       "      <td>1.0</td>\n",
       "      <td>0.0</td>\n",
       "    </tr>\n",
       "    <tr>\n",
       "      <th>3</th>\n",
       "      <td>heimii_16895</td>\n",
       "      <td>4326</td>\n",
       "      <td>49.226443</td>\n",
       "      <td>-12.281807</td>\n",
       "      <td>POINT (959985.375 8638670.641)</td>\n",
       "      <td>79</td>\n",
       "      <td>78</td>\n",
       "      <td>False</td>\n",
       "      <td>Coffea heimii</td>\n",
       "      <td>2020.0</td>\n",
       "      <td>...</td>\n",
       "      <td>NaN</td>\n",
       "      <td>NaN</td>\n",
       "      <td>NaN</td>\n",
       "      <td>NaN</td>\n",
       "      <td>NaN</td>\n",
       "      <td>NaN</td>\n",
       "      <td>NaN</td>\n",
       "      <td>25</td>\n",
       "      <td>NaN</td>\n",
       "      <td>NaN</td>\n",
       "    </tr>\n",
       "    <tr>\n",
       "      <th>4</th>\n",
       "      <td>heimii_17832</td>\n",
       "      <td>4326</td>\n",
       "      <td>49.342500</td>\n",
       "      <td>-12.396327</td>\n",
       "      <td>POINT (972432.287 8625771.942)</td>\n",
       "      <td>79</td>\n",
       "      <td>0</td>\n",
       "      <td>False</td>\n",
       "      <td>Coffea heimii</td>\n",
       "      <td>2019.0</td>\n",
       "      <td>...</td>\n",
       "      <td>8.0</td>\n",
       "      <td>141.0</td>\n",
       "      <td>7.0</td>\n",
       "      <td>246.0</td>\n",
       "      <td>7788.0</td>\n",
       "      <td>7.0</td>\n",
       "      <td>20.0</td>\n",
       "      <td>7</td>\n",
       "      <td>1.0</td>\n",
       "      <td>4.0</td>\n",
       "    </tr>\n",
       "    <tr>\n",
       "      <th>5</th>\n",
       "      <td>heimii_17834</td>\n",
       "      <td>4326</td>\n",
       "      <td>49.275700</td>\n",
       "      <td>-12.398991</td>\n",
       "      <td>POINT (965147.750 8625594.362)</td>\n",
       "      <td>79</td>\n",
       "      <td>0</td>\n",
       "      <td>False</td>\n",
       "      <td>Coffea heimii</td>\n",
       "      <td>2019.0</td>\n",
       "      <td>...</td>\n",
       "      <td>8.0</td>\n",
       "      <td>184.0</td>\n",
       "      <td>3.0</td>\n",
       "      <td>313.0</td>\n",
       "      <td>7969.0</td>\n",
       "      <td>9.0</td>\n",
       "      <td>8.0</td>\n",
       "      <td>7</td>\n",
       "      <td>1.0</td>\n",
       "      <td>3.0</td>\n",
       "    </tr>\n",
       "    <tr>\n",
       "      <th>6</th>\n",
       "      <td>heimii_19479</td>\n",
       "      <td>4326</td>\n",
       "      <td>49.569592</td>\n",
       "      <td>-12.454103</td>\n",
       "      <td>POINT (997074.808 8618950.269)</td>\n",
       "      <td>79</td>\n",
       "      <td>7</td>\n",
       "      <td>False</td>\n",
       "      <td>Coffea heimii</td>\n",
       "      <td>2019.0</td>\n",
       "      <td>...</td>\n",
       "      <td>8.0</td>\n",
       "      <td>NaN</td>\n",
       "      <td>NaN</td>\n",
       "      <td>NaN</td>\n",
       "      <td>NaN</td>\n",
       "      <td>NaN</td>\n",
       "      <td>4.0</td>\n",
       "      <td>25</td>\n",
       "      <td>NaN</td>\n",
       "      <td>NaN</td>\n",
       "    </tr>\n",
       "    <tr>\n",
       "      <th>7</th>\n",
       "      <td>heimii_19555</td>\n",
       "      <td>4326</td>\n",
       "      <td>49.549809</td>\n",
       "      <td>-12.580463</td>\n",
       "      <td>POINT (994676.992 8604973.911)</td>\n",
       "      <td>79</td>\n",
       "      <td>0</td>\n",
       "      <td>False</td>\n",
       "      <td>Coffea heimii</td>\n",
       "      <td>2019.0</td>\n",
       "      <td>...</td>\n",
       "      <td>8.0</td>\n",
       "      <td>4.0</td>\n",
       "      <td>1.0</td>\n",
       "      <td>250.0</td>\n",
       "      <td>7880.0</td>\n",
       "      <td>2.0</td>\n",
       "      <td>4.0</td>\n",
       "      <td>3</td>\n",
       "      <td>1.0</td>\n",
       "      <td>64.0</td>\n",
       "    </tr>\n",
       "  </tbody>\n",
       "</table>\n",
       "<p>8 rows × 89 columns</p>\n",
       "</div>"
      ],
      "text/plain": [
       "    specimen_id  source_crs  longitude   latitude  \\\n",
       "0  heimii_14672        4326  49.263119 -12.279828   \n",
       "1  heimii_16490        4326  49.347115 -12.210881   \n",
       "2  heimii_16893        4326  49.303872 -12.318289   \n",
       "3  heimii_16895        4326  49.226443 -12.281807   \n",
       "4  heimii_17832        4326  49.342500 -12.396327   \n",
       "5  heimii_17834        4326  49.275700 -12.398991   \n",
       "6  heimii_19479        4326  49.569592 -12.454103   \n",
       "7  heimii_19555        4326  49.549809 -12.580463   \n",
       "\n",
       "                  mada_geom_point  sampled_layers  nodata_layers  \\\n",
       "0  POINT (963987.216 8638826.905)              79              8   \n",
       "1  POINT (973268.317 8646324.577)              79             78   \n",
       "2  POINT (968361.925 8634492.084)              79              0   \n",
       "3  POINT (959985.375 8638670.641)              79             78   \n",
       "4  POINT (972432.287 8625771.942)              79              0   \n",
       "5  POINT (965147.750 8625594.362)              79              0   \n",
       "6  POINT (997074.808 8618950.269)              79              7   \n",
       "7  POINT (994676.992 8604973.911)              79              0   \n",
       "\n",
       "   is_categorical_encoded  genus_species    year  ...  layer_70  layer_71  \\\n",
       "0                   False  Coffea heimii  2020.0  ...       9.0       NaN   \n",
       "1                   False  Coffea heimii  2020.0  ...       NaN       NaN   \n",
       "2                   False  Coffea heimii  2020.0  ...       9.0      71.0   \n",
       "3                   False  Coffea heimii  2020.0  ...       NaN       NaN   \n",
       "4                   False  Coffea heimii  2019.0  ...       8.0     141.0   \n",
       "5                   False  Coffea heimii  2019.0  ...       8.0     184.0   \n",
       "6                   False  Coffea heimii  2019.0  ...       8.0       NaN   \n",
       "7                   False  Coffea heimii  2019.0  ...       8.0       4.0   \n",
       "\n",
       "   layer_72  layer_73  layer_74  layer_75  layer_76  layer_77  layer_78  \\\n",
       "0       NaN       NaN       NaN       NaN       NaN        25       NaN   \n",
       "1       NaN       NaN       NaN       NaN       NaN        25       NaN   \n",
       "2       6.0      85.0    7863.0       7.0       4.0         6       1.0   \n",
       "3       NaN       NaN       NaN       NaN       NaN        25       NaN   \n",
       "4       7.0     246.0    7788.0       7.0      20.0         7       1.0   \n",
       "5       3.0     313.0    7969.0       9.0       8.0         7       1.0   \n",
       "6       NaN       NaN       NaN       NaN       4.0        25       NaN   \n",
       "7       1.0     250.0    7880.0       2.0       4.0         3       1.0   \n",
       "\n",
       "   layer_79  \n",
       "0       NaN  \n",
       "1       NaN  \n",
       "2       0.0  \n",
       "3       NaN  \n",
       "4       4.0  \n",
       "5       3.0  \n",
       "6       NaN  \n",
       "7      64.0  \n",
       "\n",
       "[8 rows x 89 columns]"
      ]
     },
     "execution_count": 62,
     "metadata": {},
     "output_type": "execute_result"
    }
   ],
   "source": [
    "#mada_rasters.plot_layer(71);    # Also accepts layer=\"layer_71\"\n",
    "#coll_heimii.sampled_layers\n",
    "coll_heimii.gdf\n"
   ]
  },
  {
   "cell_type": "code",
   "execution_count": 63,
   "metadata": {},
   "outputs": [],
   "source": [
    "bioclim_labels = [label for label in mada_info.get_layers_labels(as_descriptive_labels=True) if \"bio\" in label]\n",
    "env_layers = [label for label in mada_info.get_layers_labels(as_descriptive_labels=True) if \"env\" in label]"
   ]
  },
  {
   "cell_type": "code",
   "execution_count": 66,
   "metadata": {},
   "outputs": [
    {
     "name": "stdout",
     "output_type": "stream",
     "text": [
      "['heimii_14672', 'heimii_16490', 'heimii_16893', 'heimii_16895', 'heimii_17832', 'heimii_17834', 'heimii_19479', 'heimii_19555']\n",
      "\n",
      "Sampled layer values for heimii_14672\n",
      "\n",
      "Sampled layer values for heimii_16490\n",
      "\n",
      "Sampled layer values for heimii_16893\n",
      "\n",
      "Sampled layer values for heimii_16895\n",
      "\n",
      "Sampled layer values for heimii_17832\n",
      "\n",
      "Sampled layer values for heimii_17834\n",
      "\n",
      "Sampled layer values for heimii_19479\n",
      "\n",
      "Sampled layer values for heimii_19555\n"
     ]
    }
   ],
   "source": [
    "# From the collection's objects\n",
    "print(list(coll_heimii.sampled_layers.keys()))\n",
    "for specimen_id in coll_heimii.sampled_layers:\n",
    "    print(f\"\\nSampled layer values for {specimen_id}\")\n",
    "    for layer, value in coll_heimii.sampled_layers[specimen_id].items():\n",
    "        if layer in bioclim_labels[0]:    #print only first bioclim layer\n",
    "            print(f\"{layer} => {value}\")    \n",
    "    "
   ]
  },
  {
   "cell_type": "code",
   "execution_count": 68,
   "metadata": {},
   "outputs": [],
   "source": [
    "# Or from the geodataframe attribute\n",
    "#coll_heimii.gdf[[\"specimen_id\"] + bioclim_labels[:1]]"
   ]
  },
  {
   "cell_type": "markdown",
   "metadata": {},
   "source": [
    "exploring categorical data"
   ]
  },
  {
   "cell_type": "code",
   "execution_count": 69,
   "metadata": {},
   "outputs": [
    {
     "name": "stdout",
     "output_type": "stream",
     "text": [
      "env_75_geo_Rock types (categ_vals: 1, 2, 4, 5, 6, 7, 9, 10, 11, 12, 13)\n"
     ]
    }
   ],
   "source": [
    "categ_layers = mada_info.get_categorical_combinations(as_descriptive_keys=True)\n",
    "print(list(categ_layers.keys())[0])"
   ]
  },
  {
   "cell_type": "code",
   "execution_count": 71,
   "metadata": {},
   "outputs": [],
   "source": [
    "# No encoding\n",
    "#coll_heimii.gdf[[\"specimen_id\"] + list(categ_layers.keys())]"
   ]
  },
  {
   "cell_type": "code",
   "execution_count": 72,
   "metadata": {},
   "outputs": [
    {
     "name": "stdout",
     "output_type": "stream",
     "text": [
      "True\n",
      "Shape of geodataframe post one-hot-encoding: (8, 168)\n"
     ]
    }
   ],
   "source": [
    "# Encoding categorical layers\n",
    "\n",
    "coll_heimii.binary_encode_categorical()\n",
    "print(coll_heimii.is_categorical_encoded)\n",
    "print(f\"Shape of geodataframe post one-hot-encoding: {coll_heimii.gdf.shape}\")"
   ]
  },
  {
   "cell_type": "code",
   "execution_count": 75,
   "metadata": {},
   "outputs": [],
   "source": [
    "coll_humbertii.binary_encode_categorical()\n",
    "coll_perrieri.binary_encode_categorical()\n",
    "coll_pervilleana.binary_encode_categorical()\n",
    "coll_resinosa.binary_encode_categorical()\n",
    "coll_tsirananae.binary_encode_categorical()"
   ]
  },
  {
   "cell_type": "code",
   "execution_count": 73,
   "metadata": {},
   "outputs": [
    {
     "data": {
      "text/html": [
       "<div>\n",
       "<style scoped>\n",
       "    .dataframe tbody tr th:only-of-type {\n",
       "        vertical-align: middle;\n",
       "    }\n",
       "\n",
       "    .dataframe tbody tr th {\n",
       "        vertical-align: top;\n",
       "    }\n",
       "\n",
       "    .dataframe thead th {\n",
       "        text-align: right;\n",
       "    }\n",
       "</style>\n",
       "<table border=\"1\" class=\"dataframe\">\n",
       "  <thead>\n",
       "    <tr style=\"text-align: right;\">\n",
       "      <th></th>\n",
       "      <th>specimen_id</th>\n",
       "      <th>source_crs</th>\n",
       "      <th>longitude</th>\n",
       "      <th>latitude</th>\n",
       "      <th>mada_geom_point</th>\n",
       "      <th>sampled_layers</th>\n",
       "      <th>nodata_layers</th>\n",
       "      <th>is_categorical_encoded</th>\n",
       "      <th>genus_species</th>\n",
       "      <th>year</th>\n",
       "      <th>...</th>\n",
       "      <th>layer_78_RetDisp_Mahavavy</th>\n",
       "      <th>layer_78_RetDisp_Manampatrana</th>\n",
       "      <th>layer_78_RetDisp_Mananara_du_Sud</th>\n",
       "      <th>layer_78_RetDisp_Mandrare</th>\n",
       "      <th>layer_78_RetDisp_Mangoky</th>\n",
       "      <th>layer_78_RetDisp_Mangoro</th>\n",
       "      <th>layer_78_RetDisp_Onilahy</th>\n",
       "      <th>layer_78_RetDisp_Sambirano</th>\n",
       "      <th>layer_78_RetDisp_Tsiribihina</th>\n",
       "      <th>layer_78__nodata</th>\n",
       "    </tr>\n",
       "  </thead>\n",
       "  <tbody>\n",
       "    <tr>\n",
       "      <th>0</th>\n",
       "      <td>heimii_14672</td>\n",
       "      <td>4326</td>\n",
       "      <td>49.263119</td>\n",
       "      <td>-12.279828</td>\n",
       "      <td>POINT (963987.216 8638826.905)</td>\n",
       "      <td>79</td>\n",
       "      <td>8</td>\n",
       "      <td>True</td>\n",
       "      <td>Coffea heimii</td>\n",
       "      <td>2020.0</td>\n",
       "      <td>...</td>\n",
       "      <td>0</td>\n",
       "      <td>0</td>\n",
       "      <td>0</td>\n",
       "      <td>0</td>\n",
       "      <td>0</td>\n",
       "      <td>0</td>\n",
       "      <td>0</td>\n",
       "      <td>0</td>\n",
       "      <td>0</td>\n",
       "      <td>1</td>\n",
       "    </tr>\n",
       "    <tr>\n",
       "      <th>1</th>\n",
       "      <td>heimii_16490</td>\n",
       "      <td>4326</td>\n",
       "      <td>49.347115</td>\n",
       "      <td>-12.210881</td>\n",
       "      <td>POINT (973268.317 8646324.577)</td>\n",
       "      <td>79</td>\n",
       "      <td>78</td>\n",
       "      <td>True</td>\n",
       "      <td>Coffea heimii</td>\n",
       "      <td>2020.0</td>\n",
       "      <td>...</td>\n",
       "      <td>0</td>\n",
       "      <td>0</td>\n",
       "      <td>0</td>\n",
       "      <td>0</td>\n",
       "      <td>0</td>\n",
       "      <td>0</td>\n",
       "      <td>0</td>\n",
       "      <td>0</td>\n",
       "      <td>0</td>\n",
       "      <td>1</td>\n",
       "    </tr>\n",
       "    <tr>\n",
       "      <th>2</th>\n",
       "      <td>heimii_16893</td>\n",
       "      <td>4326</td>\n",
       "      <td>49.303872</td>\n",
       "      <td>-12.318289</td>\n",
       "      <td>POINT (968361.925 8634492.084)</td>\n",
       "      <td>79</td>\n",
       "      <td>0</td>\n",
       "      <td>True</td>\n",
       "      <td>Coffea heimii</td>\n",
       "      <td>2020.0</td>\n",
       "      <td>...</td>\n",
       "      <td>0</td>\n",
       "      <td>0</td>\n",
       "      <td>0</td>\n",
       "      <td>0</td>\n",
       "      <td>0</td>\n",
       "      <td>0</td>\n",
       "      <td>0</td>\n",
       "      <td>0</td>\n",
       "      <td>0</td>\n",
       "      <td>0</td>\n",
       "    </tr>\n",
       "    <tr>\n",
       "      <th>3</th>\n",
       "      <td>heimii_16895</td>\n",
       "      <td>4326</td>\n",
       "      <td>49.226443</td>\n",
       "      <td>-12.281807</td>\n",
       "      <td>POINT (959985.375 8638670.641)</td>\n",
       "      <td>79</td>\n",
       "      <td>78</td>\n",
       "      <td>True</td>\n",
       "      <td>Coffea heimii</td>\n",
       "      <td>2020.0</td>\n",
       "      <td>...</td>\n",
       "      <td>0</td>\n",
       "      <td>0</td>\n",
       "      <td>0</td>\n",
       "      <td>0</td>\n",
       "      <td>0</td>\n",
       "      <td>0</td>\n",
       "      <td>0</td>\n",
       "      <td>0</td>\n",
       "      <td>0</td>\n",
       "      <td>1</td>\n",
       "    </tr>\n",
       "    <tr>\n",
       "      <th>4</th>\n",
       "      <td>heimii_17832</td>\n",
       "      <td>4326</td>\n",
       "      <td>49.342500</td>\n",
       "      <td>-12.396327</td>\n",
       "      <td>POINT (972432.287 8625771.942)</td>\n",
       "      <td>79</td>\n",
       "      <td>0</td>\n",
       "      <td>True</td>\n",
       "      <td>Coffea heimii</td>\n",
       "      <td>2019.0</td>\n",
       "      <td>...</td>\n",
       "      <td>0</td>\n",
       "      <td>0</td>\n",
       "      <td>0</td>\n",
       "      <td>0</td>\n",
       "      <td>0</td>\n",
       "      <td>0</td>\n",
       "      <td>0</td>\n",
       "      <td>0</td>\n",
       "      <td>0</td>\n",
       "      <td>0</td>\n",
       "    </tr>\n",
       "    <tr>\n",
       "      <th>5</th>\n",
       "      <td>heimii_17834</td>\n",
       "      <td>4326</td>\n",
       "      <td>49.275700</td>\n",
       "      <td>-12.398991</td>\n",
       "      <td>POINT (965147.750 8625594.362)</td>\n",
       "      <td>79</td>\n",
       "      <td>0</td>\n",
       "      <td>True</td>\n",
       "      <td>Coffea heimii</td>\n",
       "      <td>2019.0</td>\n",
       "      <td>...</td>\n",
       "      <td>0</td>\n",
       "      <td>0</td>\n",
       "      <td>0</td>\n",
       "      <td>0</td>\n",
       "      <td>0</td>\n",
       "      <td>0</td>\n",
       "      <td>0</td>\n",
       "      <td>0</td>\n",
       "      <td>0</td>\n",
       "      <td>0</td>\n",
       "    </tr>\n",
       "    <tr>\n",
       "      <th>6</th>\n",
       "      <td>heimii_19479</td>\n",
       "      <td>4326</td>\n",
       "      <td>49.569592</td>\n",
       "      <td>-12.454103</td>\n",
       "      <td>POINT (997074.808 8618950.269)</td>\n",
       "      <td>79</td>\n",
       "      <td>7</td>\n",
       "      <td>True</td>\n",
       "      <td>Coffea heimii</td>\n",
       "      <td>2019.0</td>\n",
       "      <td>...</td>\n",
       "      <td>0</td>\n",
       "      <td>0</td>\n",
       "      <td>0</td>\n",
       "      <td>0</td>\n",
       "      <td>0</td>\n",
       "      <td>0</td>\n",
       "      <td>0</td>\n",
       "      <td>0</td>\n",
       "      <td>0</td>\n",
       "      <td>1</td>\n",
       "    </tr>\n",
       "    <tr>\n",
       "      <th>7</th>\n",
       "      <td>heimii_19555</td>\n",
       "      <td>4326</td>\n",
       "      <td>49.549809</td>\n",
       "      <td>-12.580463</td>\n",
       "      <td>POINT (994676.992 8604973.911)</td>\n",
       "      <td>79</td>\n",
       "      <td>0</td>\n",
       "      <td>True</td>\n",
       "      <td>Coffea heimii</td>\n",
       "      <td>2019.0</td>\n",
       "      <td>...</td>\n",
       "      <td>0</td>\n",
       "      <td>0</td>\n",
       "      <td>0</td>\n",
       "      <td>0</td>\n",
       "      <td>0</td>\n",
       "      <td>0</td>\n",
       "      <td>0</td>\n",
       "      <td>0</td>\n",
       "      <td>0</td>\n",
       "      <td>0</td>\n",
       "    </tr>\n",
       "  </tbody>\n",
       "</table>\n",
       "<p>8 rows × 168 columns</p>\n",
       "</div>"
      ],
      "text/plain": [
       "    specimen_id  source_crs  longitude   latitude  \\\n",
       "0  heimii_14672        4326  49.263119 -12.279828   \n",
       "1  heimii_16490        4326  49.347115 -12.210881   \n",
       "2  heimii_16893        4326  49.303872 -12.318289   \n",
       "3  heimii_16895        4326  49.226443 -12.281807   \n",
       "4  heimii_17832        4326  49.342500 -12.396327   \n",
       "5  heimii_17834        4326  49.275700 -12.398991   \n",
       "6  heimii_19479        4326  49.569592 -12.454103   \n",
       "7  heimii_19555        4326  49.549809 -12.580463   \n",
       "\n",
       "                  mada_geom_point  sampled_layers  nodata_layers  \\\n",
       "0  POINT (963987.216 8638826.905)              79              8   \n",
       "1  POINT (973268.317 8646324.577)              79             78   \n",
       "2  POINT (968361.925 8634492.084)              79              0   \n",
       "3  POINT (959985.375 8638670.641)              79             78   \n",
       "4  POINT (972432.287 8625771.942)              79              0   \n",
       "5  POINT (965147.750 8625594.362)              79              0   \n",
       "6  POINT (997074.808 8618950.269)              79              7   \n",
       "7  POINT (994676.992 8604973.911)              79              0   \n",
       "\n",
       "   is_categorical_encoded  genus_species    year  ...  \\\n",
       "0                    True  Coffea heimii  2020.0  ...   \n",
       "1                    True  Coffea heimii  2020.0  ...   \n",
       "2                    True  Coffea heimii  2020.0  ...   \n",
       "3                    True  Coffea heimii  2020.0  ...   \n",
       "4                    True  Coffea heimii  2019.0  ...   \n",
       "5                    True  Coffea heimii  2019.0  ...   \n",
       "6                    True  Coffea heimii  2019.0  ...   \n",
       "7                    True  Coffea heimii  2019.0  ...   \n",
       "\n",
       "   layer_78_RetDisp_Mahavavy  layer_78_RetDisp_Manampatrana  \\\n",
       "0                          0                              0   \n",
       "1                          0                              0   \n",
       "2                          0                              0   \n",
       "3                          0                              0   \n",
       "4                          0                              0   \n",
       "5                          0                              0   \n",
       "6                          0                              0   \n",
       "7                          0                              0   \n",
       "\n",
       "   layer_78_RetDisp_Mananara_du_Sud  layer_78_RetDisp_Mandrare  \\\n",
       "0                                 0                          0   \n",
       "1                                 0                          0   \n",
       "2                                 0                          0   \n",
       "3                                 0                          0   \n",
       "4                                 0                          0   \n",
       "5                                 0                          0   \n",
       "6                                 0                          0   \n",
       "7                                 0                          0   \n",
       "\n",
       "   layer_78_RetDisp_Mangoky  layer_78_RetDisp_Mangoro  \\\n",
       "0                         0                         0   \n",
       "1                         0                         0   \n",
       "2                         0                         0   \n",
       "3                         0                         0   \n",
       "4                         0                         0   \n",
       "5                         0                         0   \n",
       "6                         0                         0   \n",
       "7                         0                         0   \n",
       "\n",
       "   layer_78_RetDisp_Onilahy  layer_78_RetDisp_Sambirano  \\\n",
       "0                         0                           0   \n",
       "1                         0                           0   \n",
       "2                         0                           0   \n",
       "3                         0                           0   \n",
       "4                         0                           0   \n",
       "5                         0                           0   \n",
       "6                         0                           0   \n",
       "7                         0                           0   \n",
       "\n",
       "   layer_78_RetDisp_Tsiribihina  layer_78__nodata  \n",
       "0                             0                 1  \n",
       "1                             0                 1  \n",
       "2                             0                 0  \n",
       "3                             0                 1  \n",
       "4                             0                 0  \n",
       "5                             0                 0  \n",
       "6                             0                 1  \n",
       "7                             0                 0  \n",
       "\n",
       "[8 rows x 168 columns]"
      ]
     },
     "execution_count": 73,
     "metadata": {},
     "output_type": "execute_result"
    }
   ],
   "source": [
    "coll_heimii.gdf"
   ]
  },
  {
   "cell_type": "markdown",
   "metadata": {},
   "source": [
    "Append all rows of raster env and clim data related to non caffeinated coffee species"
   ]
  },
  {
   "cell_type": "code",
   "execution_count": 76,
   "metadata": {},
   "outputs": [
    {
     "data": {
      "text/html": [
       "<div>\n",
       "<style scoped>\n",
       "    .dataframe tbody tr th:only-of-type {\n",
       "        vertical-align: middle;\n",
       "    }\n",
       "\n",
       "    .dataframe tbody tr th {\n",
       "        vertical-align: top;\n",
       "    }\n",
       "\n",
       "    .dataframe thead th {\n",
       "        text-align: right;\n",
       "    }\n",
       "</style>\n",
       "<table border=\"1\" class=\"dataframe\">\n",
       "  <thead>\n",
       "    <tr style=\"text-align: right;\">\n",
       "      <th></th>\n",
       "      <th>specimen_id</th>\n",
       "      <th>source_crs</th>\n",
       "      <th>longitude</th>\n",
       "      <th>latitude</th>\n",
       "      <th>mada_geom_point</th>\n",
       "      <th>sampled_layers</th>\n",
       "      <th>nodata_layers</th>\n",
       "      <th>is_categorical_encoded</th>\n",
       "      <th>genus_species</th>\n",
       "      <th>year</th>\n",
       "      <th>...</th>\n",
       "      <th>layer_78_RetDisp_Mahavavy</th>\n",
       "      <th>layer_78_RetDisp_Manampatrana</th>\n",
       "      <th>layer_78_RetDisp_Mananara_du_Sud</th>\n",
       "      <th>layer_78_RetDisp_Mandrare</th>\n",
       "      <th>layer_78_RetDisp_Mangoky</th>\n",
       "      <th>layer_78_RetDisp_Mangoro</th>\n",
       "      <th>layer_78_RetDisp_Onilahy</th>\n",
       "      <th>layer_78_RetDisp_Sambirano</th>\n",
       "      <th>layer_78_RetDisp_Tsiribihina</th>\n",
       "      <th>layer_78__nodata</th>\n",
       "    </tr>\n",
       "  </thead>\n",
       "  <tbody>\n",
       "    <tr>\n",
       "      <th>0</th>\n",
       "      <td>heimii_14672</td>\n",
       "      <td>4326</td>\n",
       "      <td>49.263119</td>\n",
       "      <td>-12.279828</td>\n",
       "      <td>POINT (963987.216 8638826.905)</td>\n",
       "      <td>79</td>\n",
       "      <td>8</td>\n",
       "      <td>True</td>\n",
       "      <td>Coffea heimii</td>\n",
       "      <td>2020.0</td>\n",
       "      <td>...</td>\n",
       "      <td>0</td>\n",
       "      <td>0</td>\n",
       "      <td>0</td>\n",
       "      <td>0</td>\n",
       "      <td>0</td>\n",
       "      <td>0</td>\n",
       "      <td>0</td>\n",
       "      <td>0</td>\n",
       "      <td>0</td>\n",
       "      <td>1</td>\n",
       "    </tr>\n",
       "    <tr>\n",
       "      <th>1</th>\n",
       "      <td>heimii_16490</td>\n",
       "      <td>4326</td>\n",
       "      <td>49.347115</td>\n",
       "      <td>-12.210881</td>\n",
       "      <td>POINT (973268.317 8646324.577)</td>\n",
       "      <td>79</td>\n",
       "      <td>78</td>\n",
       "      <td>True</td>\n",
       "      <td>Coffea heimii</td>\n",
       "      <td>2020.0</td>\n",
       "      <td>...</td>\n",
       "      <td>0</td>\n",
       "      <td>0</td>\n",
       "      <td>0</td>\n",
       "      <td>0</td>\n",
       "      <td>0</td>\n",
       "      <td>0</td>\n",
       "      <td>0</td>\n",
       "      <td>0</td>\n",
       "      <td>0</td>\n",
       "      <td>1</td>\n",
       "    </tr>\n",
       "    <tr>\n",
       "      <th>2</th>\n",
       "      <td>heimii_16893</td>\n",
       "      <td>4326</td>\n",
       "      <td>49.303872</td>\n",
       "      <td>-12.318289</td>\n",
       "      <td>POINT (968361.925 8634492.084)</td>\n",
       "      <td>79</td>\n",
       "      <td>0</td>\n",
       "      <td>True</td>\n",
       "      <td>Coffea heimii</td>\n",
       "      <td>2020.0</td>\n",
       "      <td>...</td>\n",
       "      <td>0</td>\n",
       "      <td>0</td>\n",
       "      <td>0</td>\n",
       "      <td>0</td>\n",
       "      <td>0</td>\n",
       "      <td>0</td>\n",
       "      <td>0</td>\n",
       "      <td>0</td>\n",
       "      <td>0</td>\n",
       "      <td>0</td>\n",
       "    </tr>\n",
       "    <tr>\n",
       "      <th>3</th>\n",
       "      <td>heimii_16895</td>\n",
       "      <td>4326</td>\n",
       "      <td>49.226443</td>\n",
       "      <td>-12.281807</td>\n",
       "      <td>POINT (959985.375 8638670.641)</td>\n",
       "      <td>79</td>\n",
       "      <td>78</td>\n",
       "      <td>True</td>\n",
       "      <td>Coffea heimii</td>\n",
       "      <td>2020.0</td>\n",
       "      <td>...</td>\n",
       "      <td>0</td>\n",
       "      <td>0</td>\n",
       "      <td>0</td>\n",
       "      <td>0</td>\n",
       "      <td>0</td>\n",
       "      <td>0</td>\n",
       "      <td>0</td>\n",
       "      <td>0</td>\n",
       "      <td>0</td>\n",
       "      <td>1</td>\n",
       "    </tr>\n",
       "    <tr>\n",
       "      <th>4</th>\n",
       "      <td>heimii_17832</td>\n",
       "      <td>4326</td>\n",
       "      <td>49.342500</td>\n",
       "      <td>-12.396327</td>\n",
       "      <td>POINT (972432.287 8625771.942)</td>\n",
       "      <td>79</td>\n",
       "      <td>0</td>\n",
       "      <td>True</td>\n",
       "      <td>Coffea heimii</td>\n",
       "      <td>2019.0</td>\n",
       "      <td>...</td>\n",
       "      <td>0</td>\n",
       "      <td>0</td>\n",
       "      <td>0</td>\n",
       "      <td>0</td>\n",
       "      <td>0</td>\n",
       "      <td>0</td>\n",
       "      <td>0</td>\n",
       "      <td>0</td>\n",
       "      <td>0</td>\n",
       "      <td>0</td>\n",
       "    </tr>\n",
       "    <tr>\n",
       "      <th>5</th>\n",
       "      <td>heimii_17834</td>\n",
       "      <td>4326</td>\n",
       "      <td>49.275700</td>\n",
       "      <td>-12.398991</td>\n",
       "      <td>POINT (965147.750 8625594.362)</td>\n",
       "      <td>79</td>\n",
       "      <td>0</td>\n",
       "      <td>True</td>\n",
       "      <td>Coffea heimii</td>\n",
       "      <td>2019.0</td>\n",
       "      <td>...</td>\n",
       "      <td>0</td>\n",
       "      <td>0</td>\n",
       "      <td>0</td>\n",
       "      <td>0</td>\n",
       "      <td>0</td>\n",
       "      <td>0</td>\n",
       "      <td>0</td>\n",
       "      <td>0</td>\n",
       "      <td>0</td>\n",
       "      <td>0</td>\n",
       "    </tr>\n",
       "    <tr>\n",
       "      <th>6</th>\n",
       "      <td>heimii_19479</td>\n",
       "      <td>4326</td>\n",
       "      <td>49.569592</td>\n",
       "      <td>-12.454103</td>\n",
       "      <td>POINT (997074.808 8618950.269)</td>\n",
       "      <td>79</td>\n",
       "      <td>7</td>\n",
       "      <td>True</td>\n",
       "      <td>Coffea heimii</td>\n",
       "      <td>2019.0</td>\n",
       "      <td>...</td>\n",
       "      <td>0</td>\n",
       "      <td>0</td>\n",
       "      <td>0</td>\n",
       "      <td>0</td>\n",
       "      <td>0</td>\n",
       "      <td>0</td>\n",
       "      <td>0</td>\n",
       "      <td>0</td>\n",
       "      <td>0</td>\n",
       "      <td>1</td>\n",
       "    </tr>\n",
       "    <tr>\n",
       "      <th>7</th>\n",
       "      <td>heimii_19555</td>\n",
       "      <td>4326</td>\n",
       "      <td>49.549809</td>\n",
       "      <td>-12.580463</td>\n",
       "      <td>POINT (994676.992 8604973.911)</td>\n",
       "      <td>79</td>\n",
       "      <td>0</td>\n",
       "      <td>True</td>\n",
       "      <td>Coffea heimii</td>\n",
       "      <td>2019.0</td>\n",
       "      <td>...</td>\n",
       "      <td>0</td>\n",
       "      <td>0</td>\n",
       "      <td>0</td>\n",
       "      <td>0</td>\n",
       "      <td>0</td>\n",
       "      <td>0</td>\n",
       "      <td>0</td>\n",
       "      <td>0</td>\n",
       "      <td>0</td>\n",
       "      <td>0</td>\n",
       "    </tr>\n",
       "    <tr>\n",
       "      <th>8</th>\n",
       "      <td>humbertii_7021</td>\n",
       "      <td>4326</td>\n",
       "      <td>43.610638</td>\n",
       "      <td>-23.078725</td>\n",
       "      <td>POINT (357689.039 7447088.901)</td>\n",
       "      <td>79</td>\n",
       "      <td>1</td>\n",
       "      <td>True</td>\n",
       "      <td>Coffea humbertii</td>\n",
       "      <td>2024.0</td>\n",
       "      <td>...</td>\n",
       "      <td>0</td>\n",
       "      <td>0</td>\n",
       "      <td>0</td>\n",
       "      <td>0</td>\n",
       "      <td>0</td>\n",
       "      <td>0</td>\n",
       "      <td>0</td>\n",
       "      <td>0</td>\n",
       "      <td>0</td>\n",
       "      <td>0</td>\n",
       "    </tr>\n",
       "    <tr>\n",
       "      <th>9</th>\n",
       "      <td>humbertii J.-F.Leroy_8949</td>\n",
       "      <td>4326</td>\n",
       "      <td>44.136600</td>\n",
       "      <td>-23.531800</td>\n",
       "      <td>POINT (411865.585 7397342.999)</td>\n",
       "      <td>79</td>\n",
       "      <td>0</td>\n",
       "      <td>True</td>\n",
       "      <td>Coffea humbertii J.-F.Leroy</td>\n",
       "      <td>2020.0</td>\n",
       "      <td>...</td>\n",
       "      <td>0</td>\n",
       "      <td>0</td>\n",
       "      <td>0</td>\n",
       "      <td>0</td>\n",
       "      <td>0</td>\n",
       "      <td>0</td>\n",
       "      <td>0</td>\n",
       "      <td>0</td>\n",
       "      <td>0</td>\n",
       "      <td>0</td>\n",
       "    </tr>\n",
       "    <tr>\n",
       "      <th>10</th>\n",
       "      <td>humbertii J.-F.Leroy_8951</td>\n",
       "      <td>4326</td>\n",
       "      <td>44.136600</td>\n",
       "      <td>-23.531800</td>\n",
       "      <td>POINT (411865.585 7397342.999)</td>\n",
       "      <td>79</td>\n",
       "      <td>0</td>\n",
       "      <td>True</td>\n",
       "      <td>Coffea humbertii J.-F.Leroy</td>\n",
       "      <td>2020.0</td>\n",
       "      <td>...</td>\n",
       "      <td>0</td>\n",
       "      <td>0</td>\n",
       "      <td>0</td>\n",
       "      <td>0</td>\n",
       "      <td>0</td>\n",
       "      <td>0</td>\n",
       "      <td>0</td>\n",
       "      <td>0</td>\n",
       "      <td>0</td>\n",
       "      <td>0</td>\n",
       "    </tr>\n",
       "    <tr>\n",
       "      <th>11</th>\n",
       "      <td>pervilleana_8667</td>\n",
       "      <td>4326</td>\n",
       "      <td>45.920397</td>\n",
       "      <td>-17.077081</td>\n",
       "      <td>POINT (597933.408 8111686.842)</td>\n",
       "      <td>79</td>\n",
       "      <td>0</td>\n",
       "      <td>True</td>\n",
       "      <td>Coffea pervilleana</td>\n",
       "      <td>2023.0</td>\n",
       "      <td>...</td>\n",
       "      <td>0</td>\n",
       "      <td>0</td>\n",
       "      <td>0</td>\n",
       "      <td>0</td>\n",
       "      <td>0</td>\n",
       "      <td>0</td>\n",
       "      <td>0</td>\n",
       "      <td>0</td>\n",
       "      <td>0</td>\n",
       "      <td>0</td>\n",
       "    </tr>\n",
       "    <tr>\n",
       "      <th>12</th>\n",
       "      <td>pervilleana_8672</td>\n",
       "      <td>4326</td>\n",
       "      <td>45.923007</td>\n",
       "      <td>-17.078820</td>\n",
       "      <td>POINT (598210.230 8111493.131)</td>\n",
       "      <td>79</td>\n",
       "      <td>0</td>\n",
       "      <td>True</td>\n",
       "      <td>Coffea pervilleana</td>\n",
       "      <td>2023.0</td>\n",
       "      <td>...</td>\n",
       "      <td>0</td>\n",
       "      <td>0</td>\n",
       "      <td>0</td>\n",
       "      <td>0</td>\n",
       "      <td>0</td>\n",
       "      <td>0</td>\n",
       "      <td>0</td>\n",
       "      <td>0</td>\n",
       "      <td>0</td>\n",
       "      <td>0</td>\n",
       "    </tr>\n",
       "    <tr>\n",
       "      <th>13</th>\n",
       "      <td>perrieri Drake ex Jum. &amp; H. Perrier_6802</td>\n",
       "      <td>4326</td>\n",
       "      <td>46.333889</td>\n",
       "      <td>-24.560833</td>\n",
       "      <td>POINT (635084.892 7283025.482)</td>\n",
       "      <td>79</td>\n",
       "      <td>0</td>\n",
       "      <td>True</td>\n",
       "      <td>Coffea perrieri Drake ex Jum. &amp; H. Perrier</td>\n",
       "      <td>2024.0</td>\n",
       "      <td>...</td>\n",
       "      <td>0</td>\n",
       "      <td>0</td>\n",
       "      <td>0</td>\n",
       "      <td>0</td>\n",
       "      <td>0</td>\n",
       "      <td>0</td>\n",
       "      <td>0</td>\n",
       "      <td>0</td>\n",
       "      <td>0</td>\n",
       "      <td>0</td>\n",
       "    </tr>\n",
       "    <tr>\n",
       "      <th>14</th>\n",
       "      <td>perrieri Drake ex Jum. &amp; H. Perrier_6858</td>\n",
       "      <td>4326</td>\n",
       "      <td>46.333889</td>\n",
       "      <td>-24.560833</td>\n",
       "      <td>POINT (635084.892 7283025.482)</td>\n",
       "      <td>79</td>\n",
       "      <td>0</td>\n",
       "      <td>True</td>\n",
       "      <td>Coffea perrieri Drake ex Jum. &amp; H. Perrier</td>\n",
       "      <td>2024.0</td>\n",
       "      <td>...</td>\n",
       "      <td>0</td>\n",
       "      <td>0</td>\n",
       "      <td>0</td>\n",
       "      <td>0</td>\n",
       "      <td>0</td>\n",
       "      <td>0</td>\n",
       "      <td>0</td>\n",
       "      <td>0</td>\n",
       "      <td>0</td>\n",
       "      <td>0</td>\n",
       "    </tr>\n",
       "    <tr>\n",
       "      <th>15</th>\n",
       "      <td>perrieri Drake ex Jum. &amp; H. Perrier_6916</td>\n",
       "      <td>4326</td>\n",
       "      <td>46.333889</td>\n",
       "      <td>-24.560833</td>\n",
       "      <td>POINT (635084.892 7283025.482)</td>\n",
       "      <td>79</td>\n",
       "      <td>0</td>\n",
       "      <td>True</td>\n",
       "      <td>Coffea perrieri Drake ex Jum. &amp; H. Perrier</td>\n",
       "      <td>2024.0</td>\n",
       "      <td>...</td>\n",
       "      <td>0</td>\n",
       "      <td>0</td>\n",
       "      <td>0</td>\n",
       "      <td>0</td>\n",
       "      <td>0</td>\n",
       "      <td>0</td>\n",
       "      <td>0</td>\n",
       "      <td>0</td>\n",
       "      <td>0</td>\n",
       "      <td>0</td>\n",
       "    </tr>\n",
       "    <tr>\n",
       "      <th>16</th>\n",
       "      <td>perrieri_7584</td>\n",
       "      <td>4326</td>\n",
       "      <td>45.993359</td>\n",
       "      <td>-17.044592</td>\n",
       "      <td>POINT (605715.726 8115243.328)</td>\n",
       "      <td>79</td>\n",
       "      <td>0</td>\n",
       "      <td>True</td>\n",
       "      <td>Coffea perrieri</td>\n",
       "      <td>2022.0</td>\n",
       "      <td>...</td>\n",
       "      <td>0</td>\n",
       "      <td>0</td>\n",
       "      <td>0</td>\n",
       "      <td>0</td>\n",
       "      <td>0</td>\n",
       "      <td>0</td>\n",
       "      <td>0</td>\n",
       "      <td>0</td>\n",
       "      <td>0</td>\n",
       "      <td>0</td>\n",
       "    </tr>\n",
       "    <tr>\n",
       "      <th>17</th>\n",
       "      <td>perrieri Drake ex Jum. &amp; H. Perrier_8151</td>\n",
       "      <td>4326</td>\n",
       "      <td>44.272222</td>\n",
       "      <td>-22.853611</td>\n",
       "      <td>POINT (425334.602 7472501.130)</td>\n",
       "      <td>79</td>\n",
       "      <td>0</td>\n",
       "      <td>True</td>\n",
       "      <td>Coffea perrieri Drake ex Jum. &amp; H. Perrier</td>\n",
       "      <td>2022.0</td>\n",
       "      <td>...</td>\n",
       "      <td>0</td>\n",
       "      <td>0</td>\n",
       "      <td>0</td>\n",
       "      <td>0</td>\n",
       "      <td>0</td>\n",
       "      <td>0</td>\n",
       "      <td>0</td>\n",
       "      <td>0</td>\n",
       "      <td>0</td>\n",
       "      <td>0</td>\n",
       "    </tr>\n",
       "    <tr>\n",
       "      <th>18</th>\n",
       "      <td>perrieri_8546</td>\n",
       "      <td>4326</td>\n",
       "      <td>46.015711</td>\n",
       "      <td>-17.117819</td>\n",
       "      <td>POINT (608052.495 8107129.240)</td>\n",
       "      <td>79</td>\n",
       "      <td>0</td>\n",
       "      <td>True</td>\n",
       "      <td>Coffea perrieri</td>\n",
       "      <td>2023.0</td>\n",
       "      <td>...</td>\n",
       "      <td>0</td>\n",
       "      <td>0</td>\n",
       "      <td>0</td>\n",
       "      <td>0</td>\n",
       "      <td>0</td>\n",
       "      <td>0</td>\n",
       "      <td>0</td>\n",
       "      <td>0</td>\n",
       "      <td>0</td>\n",
       "      <td>0</td>\n",
       "    </tr>\n",
       "    <tr>\n",
       "      <th>19</th>\n",
       "      <td>perrieri_8666</td>\n",
       "      <td>4326</td>\n",
       "      <td>46.015693</td>\n",
       "      <td>-17.117573</td>\n",
       "      <td>POINT (608050.722 8107156.468)</td>\n",
       "      <td>79</td>\n",
       "      <td>0</td>\n",
       "      <td>True</td>\n",
       "      <td>Coffea perrieri</td>\n",
       "      <td>2023.0</td>\n",
       "      <td>...</td>\n",
       "      <td>0</td>\n",
       "      <td>0</td>\n",
       "      <td>0</td>\n",
       "      <td>0</td>\n",
       "      <td>0</td>\n",
       "      <td>0</td>\n",
       "      <td>0</td>\n",
       "      <td>0</td>\n",
       "      <td>0</td>\n",
       "      <td>0</td>\n",
       "    </tr>\n",
       "    <tr>\n",
       "      <th>20</th>\n",
       "      <td>perrieri Drake ex Jum. &amp; H. Perrier_9136</td>\n",
       "      <td>4326</td>\n",
       "      <td>44.272222</td>\n",
       "      <td>-22.853611</td>\n",
       "      <td>POINT (425334.602 7472501.130)</td>\n",
       "      <td>79</td>\n",
       "      <td>0</td>\n",
       "      <td>True</td>\n",
       "      <td>Coffea perrieri Drake ex Jum. &amp; H. Perrier</td>\n",
       "      <td>2022.0</td>\n",
       "      <td>...</td>\n",
       "      <td>0</td>\n",
       "      <td>0</td>\n",
       "      <td>0</td>\n",
       "      <td>0</td>\n",
       "      <td>0</td>\n",
       "      <td>0</td>\n",
       "      <td>0</td>\n",
       "      <td>0</td>\n",
       "      <td>0</td>\n",
       "      <td>0</td>\n",
       "    </tr>\n",
       "    <tr>\n",
       "      <th>21</th>\n",
       "      <td>perrieri Drake ex Jum. &amp; H. Perrier_9214</td>\n",
       "      <td>4326</td>\n",
       "      <td>44.272222</td>\n",
       "      <td>-22.853611</td>\n",
       "      <td>POINT (425334.602 7472501.130)</td>\n",
       "      <td>79</td>\n",
       "      <td>0</td>\n",
       "      <td>True</td>\n",
       "      <td>Coffea perrieri Drake ex Jum. &amp; H. Perrier</td>\n",
       "      <td>2022.0</td>\n",
       "      <td>...</td>\n",
       "      <td>0</td>\n",
       "      <td>0</td>\n",
       "      <td>0</td>\n",
       "      <td>0</td>\n",
       "      <td>0</td>\n",
       "      <td>0</td>\n",
       "      <td>0</td>\n",
       "      <td>0</td>\n",
       "      <td>0</td>\n",
       "      <td>0</td>\n",
       "    </tr>\n",
       "    <tr>\n",
       "      <th>22</th>\n",
       "      <td>perrieri Drake ex Jum. &amp; H. Perrier_9215</td>\n",
       "      <td>4326</td>\n",
       "      <td>44.263056</td>\n",
       "      <td>-22.845833</td>\n",
       "      <td>POINT (424389.892 7473357.517)</td>\n",
       "      <td>79</td>\n",
       "      <td>0</td>\n",
       "      <td>True</td>\n",
       "      <td>Coffea perrieri Drake ex Jum. &amp; H. Perrier</td>\n",
       "      <td>2022.0</td>\n",
       "      <td>...</td>\n",
       "      <td>0</td>\n",
       "      <td>0</td>\n",
       "      <td>0</td>\n",
       "      <td>0</td>\n",
       "      <td>0</td>\n",
       "      <td>0</td>\n",
       "      <td>0</td>\n",
       "      <td>0</td>\n",
       "      <td>0</td>\n",
       "      <td>0</td>\n",
       "    </tr>\n",
       "    <tr>\n",
       "      <th>23</th>\n",
       "      <td>perrieri Drake ex Jum. &amp; H. Perrier_9731</td>\n",
       "      <td>4326</td>\n",
       "      <td>44.272222</td>\n",
       "      <td>-22.853611</td>\n",
       "      <td>POINT (425334.602 7472501.130)</td>\n",
       "      <td>79</td>\n",
       "      <td>0</td>\n",
       "      <td>True</td>\n",
       "      <td>Coffea perrieri Drake ex Jum. &amp; H. Perrier</td>\n",
       "      <td>2022.0</td>\n",
       "      <td>...</td>\n",
       "      <td>0</td>\n",
       "      <td>0</td>\n",
       "      <td>0</td>\n",
       "      <td>0</td>\n",
       "      <td>0</td>\n",
       "      <td>0</td>\n",
       "      <td>0</td>\n",
       "      <td>0</td>\n",
       "      <td>0</td>\n",
       "      <td>0</td>\n",
       "    </tr>\n",
       "    <tr>\n",
       "      <th>24</th>\n",
       "      <td>perrieri Drake ex Jum. &amp; H. Perrier_9737</td>\n",
       "      <td>4326</td>\n",
       "      <td>44.263056</td>\n",
       "      <td>-22.845833</td>\n",
       "      <td>POINT (424389.892 7473357.517)</td>\n",
       "      <td>79</td>\n",
       "      <td>0</td>\n",
       "      <td>True</td>\n",
       "      <td>Coffea perrieri Drake ex Jum. &amp; H. Perrier</td>\n",
       "      <td>2022.0</td>\n",
       "      <td>...</td>\n",
       "      <td>0</td>\n",
       "      <td>0</td>\n",
       "      <td>0</td>\n",
       "      <td>0</td>\n",
       "      <td>0</td>\n",
       "      <td>0</td>\n",
       "      <td>0</td>\n",
       "      <td>0</td>\n",
       "      <td>0</td>\n",
       "      <td>0</td>\n",
       "    </tr>\n",
       "    <tr>\n",
       "      <th>25</th>\n",
       "      <td>perrieri Drake ex Jum. &amp; H. Perrier_9772</td>\n",
       "      <td>4326</td>\n",
       "      <td>46.145833</td>\n",
       "      <td>-24.303611</td>\n",
       "      <td>POINT (616274.014 7311680.272)</td>\n",
       "      <td>79</td>\n",
       "      <td>0</td>\n",
       "      <td>True</td>\n",
       "      <td>Coffea perrieri Drake ex Jum. &amp; H. Perrier</td>\n",
       "      <td>2022.0</td>\n",
       "      <td>...</td>\n",
       "      <td>0</td>\n",
       "      <td>0</td>\n",
       "      <td>0</td>\n",
       "      <td>0</td>\n",
       "      <td>0</td>\n",
       "      <td>0</td>\n",
       "      <td>0</td>\n",
       "      <td>0</td>\n",
       "      <td>0</td>\n",
       "      <td>0</td>\n",
       "    </tr>\n",
       "    <tr>\n",
       "      <th>26</th>\n",
       "      <td>perrieri Drake ex Jum. &amp; H. Perrier_10379</td>\n",
       "      <td>4326</td>\n",
       "      <td>45.365556</td>\n",
       "      <td>-21.188611</td>\n",
       "      <td>POINT (537944.060 7656934.283)</td>\n",
       "      <td>79</td>\n",
       "      <td>0</td>\n",
       "      <td>True</td>\n",
       "      <td>Coffea perrieri Drake ex Jum. &amp; H. Perrier</td>\n",
       "      <td>2022.0</td>\n",
       "      <td>...</td>\n",
       "      <td>0</td>\n",
       "      <td>0</td>\n",
       "      <td>0</td>\n",
       "      <td>1</td>\n",
       "      <td>0</td>\n",
       "      <td>0</td>\n",
       "      <td>0</td>\n",
       "      <td>0</td>\n",
       "      <td>0</td>\n",
       "      <td>0</td>\n",
       "    </tr>\n",
       "    <tr>\n",
       "      <th>27</th>\n",
       "      <td>perrieri Drake ex Jum. &amp; H. Perrier_10396</td>\n",
       "      <td>4326</td>\n",
       "      <td>44.263056</td>\n",
       "      <td>-22.845833</td>\n",
       "      <td>POINT (424389.892 7473357.517)</td>\n",
       "      <td>79</td>\n",
       "      <td>0</td>\n",
       "      <td>True</td>\n",
       "      <td>Coffea perrieri Drake ex Jum. &amp; H. Perrier</td>\n",
       "      <td>2022.0</td>\n",
       "      <td>...</td>\n",
       "      <td>0</td>\n",
       "      <td>0</td>\n",
       "      <td>0</td>\n",
       "      <td>0</td>\n",
       "      <td>0</td>\n",
       "      <td>0</td>\n",
       "      <td>0</td>\n",
       "      <td>0</td>\n",
       "      <td>0</td>\n",
       "      <td>0</td>\n",
       "    </tr>\n",
       "    <tr>\n",
       "      <th>28</th>\n",
       "      <td>perrieri Drake ex Jum. &amp; H. Perrier_10406</td>\n",
       "      <td>4326</td>\n",
       "      <td>46.145833</td>\n",
       "      <td>-24.303611</td>\n",
       "      <td>POINT (616274.014 7311680.272)</td>\n",
       "      <td>79</td>\n",
       "      <td>0</td>\n",
       "      <td>True</td>\n",
       "      <td>Coffea perrieri Drake ex Jum. &amp; H. Perrier</td>\n",
       "      <td>2022.0</td>\n",
       "      <td>...</td>\n",
       "      <td>0</td>\n",
       "      <td>0</td>\n",
       "      <td>0</td>\n",
       "      <td>0</td>\n",
       "      <td>0</td>\n",
       "      <td>0</td>\n",
       "      <td>0</td>\n",
       "      <td>0</td>\n",
       "      <td>0</td>\n",
       "      <td>0</td>\n",
       "    </tr>\n",
       "    <tr>\n",
       "      <th>29</th>\n",
       "      <td>perrieri Drake ex Jum. &amp; H. Perrier_12493</td>\n",
       "      <td>4326</td>\n",
       "      <td>46.145833</td>\n",
       "      <td>-24.303611</td>\n",
       "      <td>POINT (616274.014 7311680.272)</td>\n",
       "      <td>79</td>\n",
       "      <td>0</td>\n",
       "      <td>True</td>\n",
       "      <td>Coffea perrieri Drake ex Jum. &amp; H. Perrier</td>\n",
       "      <td>2022.0</td>\n",
       "      <td>...</td>\n",
       "      <td>0</td>\n",
       "      <td>0</td>\n",
       "      <td>0</td>\n",
       "      <td>0</td>\n",
       "      <td>0</td>\n",
       "      <td>0</td>\n",
       "      <td>0</td>\n",
       "      <td>0</td>\n",
       "      <td>0</td>\n",
       "      <td>0</td>\n",
       "    </tr>\n",
       "    <tr>\n",
       "      <th>30</th>\n",
       "      <td>perrieri Drake ex Jum. &amp; H. Perrier_12501</td>\n",
       "      <td>4326</td>\n",
       "      <td>45.365556</td>\n",
       "      <td>-21.188611</td>\n",
       "      <td>POINT (537944.060 7656934.283)</td>\n",
       "      <td>79</td>\n",
       "      <td>0</td>\n",
       "      <td>True</td>\n",
       "      <td>Coffea perrieri Drake ex Jum. &amp; H. Perrier</td>\n",
       "      <td>2022.0</td>\n",
       "      <td>...</td>\n",
       "      <td>0</td>\n",
       "      <td>0</td>\n",
       "      <td>0</td>\n",
       "      <td>1</td>\n",
       "      <td>0</td>\n",
       "      <td>0</td>\n",
       "      <td>0</td>\n",
       "      <td>0</td>\n",
       "      <td>0</td>\n",
       "      <td>0</td>\n",
       "    </tr>\n",
       "    <tr>\n",
       "      <th>31</th>\n",
       "      <td>perrieri_12538</td>\n",
       "      <td>4326</td>\n",
       "      <td>45.989986</td>\n",
       "      <td>-17.052635</td>\n",
       "      <td>POINT (605352.225 8114355.278)</td>\n",
       "      <td>79</td>\n",
       "      <td>0</td>\n",
       "      <td>True</td>\n",
       "      <td>Coffea perrieri</td>\n",
       "      <td>2022.0</td>\n",
       "      <td>...</td>\n",
       "      <td>0</td>\n",
       "      <td>0</td>\n",
       "      <td>0</td>\n",
       "      <td>0</td>\n",
       "      <td>0</td>\n",
       "      <td>0</td>\n",
       "      <td>0</td>\n",
       "      <td>0</td>\n",
       "      <td>0</td>\n",
       "      <td>0</td>\n",
       "    </tr>\n",
       "    <tr>\n",
       "      <th>32</th>\n",
       "      <td>perrieri_12549</td>\n",
       "      <td>4326</td>\n",
       "      <td>45.985053</td>\n",
       "      <td>-17.067958</td>\n",
       "      <td>POINT (604818.670 8112662.606)</td>\n",
       "      <td>79</td>\n",
       "      <td>0</td>\n",
       "      <td>True</td>\n",
       "      <td>Coffea perrieri</td>\n",
       "      <td>2022.0</td>\n",
       "      <td>...</td>\n",
       "      <td>0</td>\n",
       "      <td>0</td>\n",
       "      <td>0</td>\n",
       "      <td>0</td>\n",
       "      <td>0</td>\n",
       "      <td>0</td>\n",
       "      <td>0</td>\n",
       "      <td>0</td>\n",
       "      <td>0</td>\n",
       "      <td>0</td>\n",
       "    </tr>\n",
       "    <tr>\n",
       "      <th>33</th>\n",
       "      <td>perrieri_15407</td>\n",
       "      <td>4326</td>\n",
       "      <td>45.989000</td>\n",
       "      <td>-17.062690</td>\n",
       "      <td>POINT (605241.654 8113243.331)</td>\n",
       "      <td>79</td>\n",
       "      <td>0</td>\n",
       "      <td>True</td>\n",
       "      <td>Coffea perrieri</td>\n",
       "      <td>2021.0</td>\n",
       "      <td>...</td>\n",
       "      <td>0</td>\n",
       "      <td>0</td>\n",
       "      <td>0</td>\n",
       "      <td>0</td>\n",
       "      <td>0</td>\n",
       "      <td>0</td>\n",
       "      <td>0</td>\n",
       "      <td>0</td>\n",
       "      <td>0</td>\n",
       "      <td>0</td>\n",
       "    </tr>\n",
       "    <tr>\n",
       "      <th>34</th>\n",
       "      <td>perrieri_16995</td>\n",
       "      <td>4326</td>\n",
       "      <td>47.781762</td>\n",
       "      <td>-14.795310</td>\n",
       "      <td>POINT (799445.780 8362456.058)</td>\n",
       "      <td>79</td>\n",
       "      <td>0</td>\n",
       "      <td>True</td>\n",
       "      <td>Coffea perrieri</td>\n",
       "      <td>2019.0</td>\n",
       "      <td>...</td>\n",
       "      <td>0</td>\n",
       "      <td>0</td>\n",
       "      <td>0</td>\n",
       "      <td>0</td>\n",
       "      <td>0</td>\n",
       "      <td>0</td>\n",
       "      <td>0</td>\n",
       "      <td>0</td>\n",
       "      <td>0</td>\n",
       "      <td>0</td>\n",
       "    </tr>\n",
       "    <tr>\n",
       "      <th>35</th>\n",
       "      <td>resinosa (Hook. f.) Radlk._9233</td>\n",
       "      <td>4326</td>\n",
       "      <td>49.405833</td>\n",
       "      <td>-17.688889</td>\n",
       "      <td>POINT (967602.427 8038763.603)</td>\n",
       "      <td>79</td>\n",
       "      <td>0</td>\n",
       "      <td>True</td>\n",
       "      <td>Coffea resinosa (Hook. f.) Radlk.</td>\n",
       "      <td>2019.0</td>\n",
       "      <td>...</td>\n",
       "      <td>0</td>\n",
       "      <td>0</td>\n",
       "      <td>0</td>\n",
       "      <td>0</td>\n",
       "      <td>0</td>\n",
       "      <td>0</td>\n",
       "      <td>0</td>\n",
       "      <td>0</td>\n",
       "      <td>0</td>\n",
       "      <td>0</td>\n",
       "    </tr>\n",
       "    <tr>\n",
       "      <th>36</th>\n",
       "      <td>resinosa (Hook. f.) Radlk._10714</td>\n",
       "      <td>4326</td>\n",
       "      <td>49.405833</td>\n",
       "      <td>-17.688889</td>\n",
       "      <td>POINT (967602.427 8038763.603)</td>\n",
       "      <td>79</td>\n",
       "      <td>0</td>\n",
       "      <td>True</td>\n",
       "      <td>Coffea resinosa (Hook. f.) Radlk.</td>\n",
       "      <td>2019.0</td>\n",
       "      <td>...</td>\n",
       "      <td>0</td>\n",
       "      <td>0</td>\n",
       "      <td>0</td>\n",
       "      <td>0</td>\n",
       "      <td>0</td>\n",
       "      <td>0</td>\n",
       "      <td>0</td>\n",
       "      <td>0</td>\n",
       "      <td>0</td>\n",
       "      <td>0</td>\n",
       "    </tr>\n",
       "    <tr>\n",
       "      <th>37</th>\n",
       "      <td>resinosa (Hook. f.) Radlk._16989</td>\n",
       "      <td>4326</td>\n",
       "      <td>49.405833</td>\n",
       "      <td>-17.688889</td>\n",
       "      <td>POINT (967602.427 8038763.603)</td>\n",
       "      <td>79</td>\n",
       "      <td>0</td>\n",
       "      <td>True</td>\n",
       "      <td>Coffea resinosa (Hook. f.) Radlk.</td>\n",
       "      <td>2019.0</td>\n",
       "      <td>...</td>\n",
       "      <td>0</td>\n",
       "      <td>0</td>\n",
       "      <td>0</td>\n",
       "      <td>0</td>\n",
       "      <td>0</td>\n",
       "      <td>0</td>\n",
       "      <td>0</td>\n",
       "      <td>0</td>\n",
       "      <td>0</td>\n",
       "      <td>0</td>\n",
       "    </tr>\n",
       "    <tr>\n",
       "      <th>38</th>\n",
       "      <td>tsirananae_14671</td>\n",
       "      <td>4326</td>\n",
       "      <td>49.371244</td>\n",
       "      <td>-12.226533</td>\n",
       "      <td>POINT (975871.819 8644546.725)</td>\n",
       "      <td>79</td>\n",
       "      <td>6</td>\n",
       "      <td>True</td>\n",
       "      <td>Coffea tsirananae</td>\n",
       "      <td>2019.0</td>\n",
       "      <td>...</td>\n",
       "      <td>0</td>\n",
       "      <td>0</td>\n",
       "      <td>0</td>\n",
       "      <td>0</td>\n",
       "      <td>0</td>\n",
       "      <td>0</td>\n",
       "      <td>0</td>\n",
       "      <td>0</td>\n",
       "      <td>0</td>\n",
       "      <td>0</td>\n",
       "    </tr>\n",
       "    <tr>\n",
       "      <th>39</th>\n",
       "      <td>tsirananae_16502</td>\n",
       "      <td>4326</td>\n",
       "      <td>49.251716</td>\n",
       "      <td>-12.382886</td>\n",
       "      <td>POINT (962562.649 8627421.601)</td>\n",
       "      <td>79</td>\n",
       "      <td>0</td>\n",
       "      <td>True</td>\n",
       "      <td>Coffea tsirananae</td>\n",
       "      <td>2020.0</td>\n",
       "      <td>...</td>\n",
       "      <td>0</td>\n",
       "      <td>0</td>\n",
       "      <td>0</td>\n",
       "      <td>0</td>\n",
       "      <td>0</td>\n",
       "      <td>0</td>\n",
       "      <td>0</td>\n",
       "      <td>0</td>\n",
       "      <td>0</td>\n",
       "      <td>0</td>\n",
       "    </tr>\n",
       "    <tr>\n",
       "      <th>40</th>\n",
       "      <td>tsirananae_16891</td>\n",
       "      <td>4326</td>\n",
       "      <td>49.266346</td>\n",
       "      <td>-12.314212</td>\n",
       "      <td>POINT (964278.464 8635009.460)</td>\n",
       "      <td>79</td>\n",
       "      <td>0</td>\n",
       "      <td>True</td>\n",
       "      <td>Coffea tsirananae</td>\n",
       "      <td>2020.0</td>\n",
       "      <td>...</td>\n",
       "      <td>0</td>\n",
       "      <td>0</td>\n",
       "      <td>0</td>\n",
       "      <td>0</td>\n",
       "      <td>0</td>\n",
       "      <td>0</td>\n",
       "      <td>0</td>\n",
       "      <td>0</td>\n",
       "      <td>0</td>\n",
       "      <td>0</td>\n",
       "    </tr>\n",
       "    <tr>\n",
       "      <th>41</th>\n",
       "      <td>tsirananae_16892</td>\n",
       "      <td>4326</td>\n",
       "      <td>49.355849</td>\n",
       "      <td>-12.251702</td>\n",
       "      <td>POINT (974147.824 8641783.286)</td>\n",
       "      <td>79</td>\n",
       "      <td>0</td>\n",
       "      <td>True</td>\n",
       "      <td>Coffea tsirananae</td>\n",
       "      <td>2020.0</td>\n",
       "      <td>...</td>\n",
       "      <td>0</td>\n",
       "      <td>0</td>\n",
       "      <td>0</td>\n",
       "      <td>0</td>\n",
       "      <td>0</td>\n",
       "      <td>0</td>\n",
       "      <td>0</td>\n",
       "      <td>0</td>\n",
       "      <td>0</td>\n",
       "      <td>0</td>\n",
       "    </tr>\n",
       "    <tr>\n",
       "      <th>42</th>\n",
       "      <td>tsirananae_16894</td>\n",
       "      <td>4326</td>\n",
       "      <td>49.281018</td>\n",
       "      <td>-12.403209</td>\n",
       "      <td>POINT (965719.755 8625117.428)</td>\n",
       "      <td>79</td>\n",
       "      <td>0</td>\n",
       "      <td>True</td>\n",
       "      <td>Coffea tsirananae</td>\n",
       "      <td>2020.0</td>\n",
       "      <td>...</td>\n",
       "      <td>0</td>\n",
       "      <td>0</td>\n",
       "      <td>0</td>\n",
       "      <td>0</td>\n",
       "      <td>0</td>\n",
       "      <td>0</td>\n",
       "      <td>0</td>\n",
       "      <td>0</td>\n",
       "      <td>0</td>\n",
       "      <td>0</td>\n",
       "    </tr>\n",
       "    <tr>\n",
       "      <th>43</th>\n",
       "      <td>tsirananae_16896</td>\n",
       "      <td>4326</td>\n",
       "      <td>49.297935</td>\n",
       "      <td>-12.305870</td>\n",
       "      <td>POINT (967736.795 8635879.311)</td>\n",
       "      <td>79</td>\n",
       "      <td>0</td>\n",
       "      <td>True</td>\n",
       "      <td>Coffea tsirananae</td>\n",
       "      <td>2020.0</td>\n",
       "      <td>...</td>\n",
       "      <td>0</td>\n",
       "      <td>0</td>\n",
       "      <td>0</td>\n",
       "      <td>0</td>\n",
       "      <td>0</td>\n",
       "      <td>0</td>\n",
       "      <td>0</td>\n",
       "      <td>0</td>\n",
       "      <td>0</td>\n",
       "      <td>0</td>\n",
       "    </tr>\n",
       "    <tr>\n",
       "      <th>44</th>\n",
       "      <td>tsirananae_16909</td>\n",
       "      <td>4326</td>\n",
       "      <td>49.219958</td>\n",
       "      <td>-12.507370</td>\n",
       "      <td>POINT (958882.377 8613676.767)</td>\n",
       "      <td>79</td>\n",
       "      <td>0</td>\n",
       "      <td>True</td>\n",
       "      <td>Coffea tsirananae</td>\n",
       "      <td>2020.0</td>\n",
       "      <td>...</td>\n",
       "      <td>0</td>\n",
       "      <td>0</td>\n",
       "      <td>0</td>\n",
       "      <td>0</td>\n",
       "      <td>0</td>\n",
       "      <td>0</td>\n",
       "      <td>0</td>\n",
       "      <td>0</td>\n",
       "      <td>0</td>\n",
       "      <td>0</td>\n",
       "    </tr>\n",
       "    <tr>\n",
       "      <th>45</th>\n",
       "      <td>tsirananae_17828</td>\n",
       "      <td>4326</td>\n",
       "      <td>49.340235</td>\n",
       "      <td>-12.302029</td>\n",
       "      <td>POINT (972355.151 8636230.936)</td>\n",
       "      <td>79</td>\n",
       "      <td>6</td>\n",
       "      <td>True</td>\n",
       "      <td>Coffea tsirananae</td>\n",
       "      <td>2019.0</td>\n",
       "      <td>...</td>\n",
       "      <td>0</td>\n",
       "      <td>0</td>\n",
       "      <td>0</td>\n",
       "      <td>0</td>\n",
       "      <td>0</td>\n",
       "      <td>0</td>\n",
       "      <td>0</td>\n",
       "      <td>0</td>\n",
       "      <td>0</td>\n",
       "      <td>1</td>\n",
       "    </tr>\n",
       "    <tr>\n",
       "      <th>46</th>\n",
       "      <td>tsirananae_17831</td>\n",
       "      <td>4326</td>\n",
       "      <td>49.322727</td>\n",
       "      <td>-12.338667</td>\n",
       "      <td>POINT (970380.885 8632199.716)</td>\n",
       "      <td>79</td>\n",
       "      <td>0</td>\n",
       "      <td>True</td>\n",
       "      <td>Coffea tsirananae</td>\n",
       "      <td>2019.0</td>\n",
       "      <td>...</td>\n",
       "      <td>0</td>\n",
       "      <td>0</td>\n",
       "      <td>0</td>\n",
       "      <td>0</td>\n",
       "      <td>0</td>\n",
       "      <td>0</td>\n",
       "      <td>0</td>\n",
       "      <td>0</td>\n",
       "      <td>0</td>\n",
       "      <td>0</td>\n",
       "    </tr>\n",
       "    <tr>\n",
       "      <th>47</th>\n",
       "      <td>tsirananae_19273</td>\n",
       "      <td>4326</td>\n",
       "      <td>49.322106</td>\n",
       "      <td>-12.239535</td>\n",
       "      <td>POINT (970490.000 8643191.473)</td>\n",
       "      <td>79</td>\n",
       "      <td>78</td>\n",
       "      <td>True</td>\n",
       "      <td>Coffea tsirananae</td>\n",
       "      <td>2019.0</td>\n",
       "      <td>...</td>\n",
       "      <td>0</td>\n",
       "      <td>0</td>\n",
       "      <td>0</td>\n",
       "      <td>0</td>\n",
       "      <td>0</td>\n",
       "      <td>0</td>\n",
       "      <td>0</td>\n",
       "      <td>0</td>\n",
       "      <td>0</td>\n",
       "      <td>1</td>\n",
       "    </tr>\n",
       "  </tbody>\n",
       "</table>\n",
       "<p>48 rows × 168 columns</p>\n",
       "</div>"
      ],
      "text/plain": [
       "                                  specimen_id  source_crs  longitude  \\\n",
       "0                                heimii_14672        4326  49.263119   \n",
       "1                                heimii_16490        4326  49.347115   \n",
       "2                                heimii_16893        4326  49.303872   \n",
       "3                                heimii_16895        4326  49.226443   \n",
       "4                                heimii_17832        4326  49.342500   \n",
       "5                                heimii_17834        4326  49.275700   \n",
       "6                                heimii_19479        4326  49.569592   \n",
       "7                                heimii_19555        4326  49.549809   \n",
       "8                              humbertii_7021        4326  43.610638   \n",
       "9                   humbertii J.-F.Leroy_8949        4326  44.136600   \n",
       "10                  humbertii J.-F.Leroy_8951        4326  44.136600   \n",
       "11                           pervilleana_8667        4326  45.920397   \n",
       "12                           pervilleana_8672        4326  45.923007   \n",
       "13   perrieri Drake ex Jum. & H. Perrier_6802        4326  46.333889   \n",
       "14   perrieri Drake ex Jum. & H. Perrier_6858        4326  46.333889   \n",
       "15   perrieri Drake ex Jum. & H. Perrier_6916        4326  46.333889   \n",
       "16                              perrieri_7584        4326  45.993359   \n",
       "17   perrieri Drake ex Jum. & H. Perrier_8151        4326  44.272222   \n",
       "18                              perrieri_8546        4326  46.015711   \n",
       "19                              perrieri_8666        4326  46.015693   \n",
       "20   perrieri Drake ex Jum. & H. Perrier_9136        4326  44.272222   \n",
       "21   perrieri Drake ex Jum. & H. Perrier_9214        4326  44.272222   \n",
       "22   perrieri Drake ex Jum. & H. Perrier_9215        4326  44.263056   \n",
       "23   perrieri Drake ex Jum. & H. Perrier_9731        4326  44.272222   \n",
       "24   perrieri Drake ex Jum. & H. Perrier_9737        4326  44.263056   \n",
       "25   perrieri Drake ex Jum. & H. Perrier_9772        4326  46.145833   \n",
       "26  perrieri Drake ex Jum. & H. Perrier_10379        4326  45.365556   \n",
       "27  perrieri Drake ex Jum. & H. Perrier_10396        4326  44.263056   \n",
       "28  perrieri Drake ex Jum. & H. Perrier_10406        4326  46.145833   \n",
       "29  perrieri Drake ex Jum. & H. Perrier_12493        4326  46.145833   \n",
       "30  perrieri Drake ex Jum. & H. Perrier_12501        4326  45.365556   \n",
       "31                             perrieri_12538        4326  45.989986   \n",
       "32                             perrieri_12549        4326  45.985053   \n",
       "33                             perrieri_15407        4326  45.989000   \n",
       "34                             perrieri_16995        4326  47.781762   \n",
       "35            resinosa (Hook. f.) Radlk._9233        4326  49.405833   \n",
       "36           resinosa (Hook. f.) Radlk._10714        4326  49.405833   \n",
       "37           resinosa (Hook. f.) Radlk._16989        4326  49.405833   \n",
       "38                           tsirananae_14671        4326  49.371244   \n",
       "39                           tsirananae_16502        4326  49.251716   \n",
       "40                           tsirananae_16891        4326  49.266346   \n",
       "41                           tsirananae_16892        4326  49.355849   \n",
       "42                           tsirananae_16894        4326  49.281018   \n",
       "43                           tsirananae_16896        4326  49.297935   \n",
       "44                           tsirananae_16909        4326  49.219958   \n",
       "45                           tsirananae_17828        4326  49.340235   \n",
       "46                           tsirananae_17831        4326  49.322727   \n",
       "47                           tsirananae_19273        4326  49.322106   \n",
       "\n",
       "     latitude                 mada_geom_point  sampled_layers  nodata_layers  \\\n",
       "0  -12.279828  POINT (963987.216 8638826.905)              79              8   \n",
       "1  -12.210881  POINT (973268.317 8646324.577)              79             78   \n",
       "2  -12.318289  POINT (968361.925 8634492.084)              79              0   \n",
       "3  -12.281807  POINT (959985.375 8638670.641)              79             78   \n",
       "4  -12.396327  POINT (972432.287 8625771.942)              79              0   \n",
       "5  -12.398991  POINT (965147.750 8625594.362)              79              0   \n",
       "6  -12.454103  POINT (997074.808 8618950.269)              79              7   \n",
       "7  -12.580463  POINT (994676.992 8604973.911)              79              0   \n",
       "8  -23.078725  POINT (357689.039 7447088.901)              79              1   \n",
       "9  -23.531800  POINT (411865.585 7397342.999)              79              0   \n",
       "10 -23.531800  POINT (411865.585 7397342.999)              79              0   \n",
       "11 -17.077081  POINT (597933.408 8111686.842)              79              0   \n",
       "12 -17.078820  POINT (598210.230 8111493.131)              79              0   \n",
       "13 -24.560833  POINT (635084.892 7283025.482)              79              0   \n",
       "14 -24.560833  POINT (635084.892 7283025.482)              79              0   \n",
       "15 -24.560833  POINT (635084.892 7283025.482)              79              0   \n",
       "16 -17.044592  POINT (605715.726 8115243.328)              79              0   \n",
       "17 -22.853611  POINT (425334.602 7472501.130)              79              0   \n",
       "18 -17.117819  POINT (608052.495 8107129.240)              79              0   \n",
       "19 -17.117573  POINT (608050.722 8107156.468)              79              0   \n",
       "20 -22.853611  POINT (425334.602 7472501.130)              79              0   \n",
       "21 -22.853611  POINT (425334.602 7472501.130)              79              0   \n",
       "22 -22.845833  POINT (424389.892 7473357.517)              79              0   \n",
       "23 -22.853611  POINT (425334.602 7472501.130)              79              0   \n",
       "24 -22.845833  POINT (424389.892 7473357.517)              79              0   \n",
       "25 -24.303611  POINT (616274.014 7311680.272)              79              0   \n",
       "26 -21.188611  POINT (537944.060 7656934.283)              79              0   \n",
       "27 -22.845833  POINT (424389.892 7473357.517)              79              0   \n",
       "28 -24.303611  POINT (616274.014 7311680.272)              79              0   \n",
       "29 -24.303611  POINT (616274.014 7311680.272)              79              0   \n",
       "30 -21.188611  POINT (537944.060 7656934.283)              79              0   \n",
       "31 -17.052635  POINT (605352.225 8114355.278)              79              0   \n",
       "32 -17.067958  POINT (604818.670 8112662.606)              79              0   \n",
       "33 -17.062690  POINT (605241.654 8113243.331)              79              0   \n",
       "34 -14.795310  POINT (799445.780 8362456.058)              79              0   \n",
       "35 -17.688889  POINT (967602.427 8038763.603)              79              0   \n",
       "36 -17.688889  POINT (967602.427 8038763.603)              79              0   \n",
       "37 -17.688889  POINT (967602.427 8038763.603)              79              0   \n",
       "38 -12.226533  POINT (975871.819 8644546.725)              79              6   \n",
       "39 -12.382886  POINT (962562.649 8627421.601)              79              0   \n",
       "40 -12.314212  POINT (964278.464 8635009.460)              79              0   \n",
       "41 -12.251702  POINT (974147.824 8641783.286)              79              0   \n",
       "42 -12.403209  POINT (965719.755 8625117.428)              79              0   \n",
       "43 -12.305870  POINT (967736.795 8635879.311)              79              0   \n",
       "44 -12.507370  POINT (958882.377 8613676.767)              79              0   \n",
       "45 -12.302029  POINT (972355.151 8636230.936)              79              6   \n",
       "46 -12.338667  POINT (970380.885 8632199.716)              79              0   \n",
       "47 -12.239535  POINT (970490.000 8643191.473)              79             78   \n",
       "\n",
       "    is_categorical_encoded                               genus_species  \\\n",
       "0                     True                               Coffea heimii   \n",
       "1                     True                               Coffea heimii   \n",
       "2                     True                               Coffea heimii   \n",
       "3                     True                               Coffea heimii   \n",
       "4                     True                               Coffea heimii   \n",
       "5                     True                               Coffea heimii   \n",
       "6                     True                               Coffea heimii   \n",
       "7                     True                               Coffea heimii   \n",
       "8                     True                            Coffea humbertii   \n",
       "9                     True                 Coffea humbertii J.-F.Leroy   \n",
       "10                    True                 Coffea humbertii J.-F.Leroy   \n",
       "11                    True                          Coffea pervilleana   \n",
       "12                    True                          Coffea pervilleana   \n",
       "13                    True  Coffea perrieri Drake ex Jum. & H. Perrier   \n",
       "14                    True  Coffea perrieri Drake ex Jum. & H. Perrier   \n",
       "15                    True  Coffea perrieri Drake ex Jum. & H. Perrier   \n",
       "16                    True                             Coffea perrieri   \n",
       "17                    True  Coffea perrieri Drake ex Jum. & H. Perrier   \n",
       "18                    True                             Coffea perrieri   \n",
       "19                    True                             Coffea perrieri   \n",
       "20                    True  Coffea perrieri Drake ex Jum. & H. Perrier   \n",
       "21                    True  Coffea perrieri Drake ex Jum. & H. Perrier   \n",
       "22                    True  Coffea perrieri Drake ex Jum. & H. Perrier   \n",
       "23                    True  Coffea perrieri Drake ex Jum. & H. Perrier   \n",
       "24                    True  Coffea perrieri Drake ex Jum. & H. Perrier   \n",
       "25                    True  Coffea perrieri Drake ex Jum. & H. Perrier   \n",
       "26                    True  Coffea perrieri Drake ex Jum. & H. Perrier   \n",
       "27                    True  Coffea perrieri Drake ex Jum. & H. Perrier   \n",
       "28                    True  Coffea perrieri Drake ex Jum. & H. Perrier   \n",
       "29                    True  Coffea perrieri Drake ex Jum. & H. Perrier   \n",
       "30                    True  Coffea perrieri Drake ex Jum. & H. Perrier   \n",
       "31                    True                             Coffea perrieri   \n",
       "32                    True                             Coffea perrieri   \n",
       "33                    True                             Coffea perrieri   \n",
       "34                    True                             Coffea perrieri   \n",
       "35                    True           Coffea resinosa (Hook. f.) Radlk.   \n",
       "36                    True           Coffea resinosa (Hook. f.) Radlk.   \n",
       "37                    True           Coffea resinosa (Hook. f.) Radlk.   \n",
       "38                    True                           Coffea tsirananae   \n",
       "39                    True                           Coffea tsirananae   \n",
       "40                    True                           Coffea tsirananae   \n",
       "41                    True                           Coffea tsirananae   \n",
       "42                    True                           Coffea tsirananae   \n",
       "43                    True                           Coffea tsirananae   \n",
       "44                    True                           Coffea tsirananae   \n",
       "45                    True                           Coffea tsirananae   \n",
       "46                    True                           Coffea tsirananae   \n",
       "47                    True                           Coffea tsirananae   \n",
       "\n",
       "      year  ...  layer_78_RetDisp_Mahavavy  layer_78_RetDisp_Manampatrana  \\\n",
       "0   2020.0  ...                          0                              0   \n",
       "1   2020.0  ...                          0                              0   \n",
       "2   2020.0  ...                          0                              0   \n",
       "3   2020.0  ...                          0                              0   \n",
       "4   2019.0  ...                          0                              0   \n",
       "5   2019.0  ...                          0                              0   \n",
       "6   2019.0  ...                          0                              0   \n",
       "7   2019.0  ...                          0                              0   \n",
       "8   2024.0  ...                          0                              0   \n",
       "9   2020.0  ...                          0                              0   \n",
       "10  2020.0  ...                          0                              0   \n",
       "11  2023.0  ...                          0                              0   \n",
       "12  2023.0  ...                          0                              0   \n",
       "13  2024.0  ...                          0                              0   \n",
       "14  2024.0  ...                          0                              0   \n",
       "15  2024.0  ...                          0                              0   \n",
       "16  2022.0  ...                          0                              0   \n",
       "17  2022.0  ...                          0                              0   \n",
       "18  2023.0  ...                          0                              0   \n",
       "19  2023.0  ...                          0                              0   \n",
       "20  2022.0  ...                          0                              0   \n",
       "21  2022.0  ...                          0                              0   \n",
       "22  2022.0  ...                          0                              0   \n",
       "23  2022.0  ...                          0                              0   \n",
       "24  2022.0  ...                          0                              0   \n",
       "25  2022.0  ...                          0                              0   \n",
       "26  2022.0  ...                          0                              0   \n",
       "27  2022.0  ...                          0                              0   \n",
       "28  2022.0  ...                          0                              0   \n",
       "29  2022.0  ...                          0                              0   \n",
       "30  2022.0  ...                          0                              0   \n",
       "31  2022.0  ...                          0                              0   \n",
       "32  2022.0  ...                          0                              0   \n",
       "33  2021.0  ...                          0                              0   \n",
       "34  2019.0  ...                          0                              0   \n",
       "35  2019.0  ...                          0                              0   \n",
       "36  2019.0  ...                          0                              0   \n",
       "37  2019.0  ...                          0                              0   \n",
       "38  2019.0  ...                          0                              0   \n",
       "39  2020.0  ...                          0                              0   \n",
       "40  2020.0  ...                          0                              0   \n",
       "41  2020.0  ...                          0                              0   \n",
       "42  2020.0  ...                          0                              0   \n",
       "43  2020.0  ...                          0                              0   \n",
       "44  2020.0  ...                          0                              0   \n",
       "45  2019.0  ...                          0                              0   \n",
       "46  2019.0  ...                          0                              0   \n",
       "47  2019.0  ...                          0                              0   \n",
       "\n",
       "    layer_78_RetDisp_Mananara_du_Sud  layer_78_RetDisp_Mandrare  \\\n",
       "0                                  0                          0   \n",
       "1                                  0                          0   \n",
       "2                                  0                          0   \n",
       "3                                  0                          0   \n",
       "4                                  0                          0   \n",
       "5                                  0                          0   \n",
       "6                                  0                          0   \n",
       "7                                  0                          0   \n",
       "8                                  0                          0   \n",
       "9                                  0                          0   \n",
       "10                                 0                          0   \n",
       "11                                 0                          0   \n",
       "12                                 0                          0   \n",
       "13                                 0                          0   \n",
       "14                                 0                          0   \n",
       "15                                 0                          0   \n",
       "16                                 0                          0   \n",
       "17                                 0                          0   \n",
       "18                                 0                          0   \n",
       "19                                 0                          0   \n",
       "20                                 0                          0   \n",
       "21                                 0                          0   \n",
       "22                                 0                          0   \n",
       "23                                 0                          0   \n",
       "24                                 0                          0   \n",
       "25                                 0                          0   \n",
       "26                                 0                          1   \n",
       "27                                 0                          0   \n",
       "28                                 0                          0   \n",
       "29                                 0                          0   \n",
       "30                                 0                          1   \n",
       "31                                 0                          0   \n",
       "32                                 0                          0   \n",
       "33                                 0                          0   \n",
       "34                                 0                          0   \n",
       "35                                 0                          0   \n",
       "36                                 0                          0   \n",
       "37                                 0                          0   \n",
       "38                                 0                          0   \n",
       "39                                 0                          0   \n",
       "40                                 0                          0   \n",
       "41                                 0                          0   \n",
       "42                                 0                          0   \n",
       "43                                 0                          0   \n",
       "44                                 0                          0   \n",
       "45                                 0                          0   \n",
       "46                                 0                          0   \n",
       "47                                 0                          0   \n",
       "\n",
       "    layer_78_RetDisp_Mangoky  layer_78_RetDisp_Mangoro  \\\n",
       "0                          0                         0   \n",
       "1                          0                         0   \n",
       "2                          0                         0   \n",
       "3                          0                         0   \n",
       "4                          0                         0   \n",
       "5                          0                         0   \n",
       "6                          0                         0   \n",
       "7                          0                         0   \n",
       "8                          0                         0   \n",
       "9                          0                         0   \n",
       "10                         0                         0   \n",
       "11                         0                         0   \n",
       "12                         0                         0   \n",
       "13                         0                         0   \n",
       "14                         0                         0   \n",
       "15                         0                         0   \n",
       "16                         0                         0   \n",
       "17                         0                         0   \n",
       "18                         0                         0   \n",
       "19                         0                         0   \n",
       "20                         0                         0   \n",
       "21                         0                         0   \n",
       "22                         0                         0   \n",
       "23                         0                         0   \n",
       "24                         0                         0   \n",
       "25                         0                         0   \n",
       "26                         0                         0   \n",
       "27                         0                         0   \n",
       "28                         0                         0   \n",
       "29                         0                         0   \n",
       "30                         0                         0   \n",
       "31                         0                         0   \n",
       "32                         0                         0   \n",
       "33                         0                         0   \n",
       "34                         0                         0   \n",
       "35                         0                         0   \n",
       "36                         0                         0   \n",
       "37                         0                         0   \n",
       "38                         0                         0   \n",
       "39                         0                         0   \n",
       "40                         0                         0   \n",
       "41                         0                         0   \n",
       "42                         0                         0   \n",
       "43                         0                         0   \n",
       "44                         0                         0   \n",
       "45                         0                         0   \n",
       "46                         0                         0   \n",
       "47                         0                         0   \n",
       "\n",
       "    layer_78_RetDisp_Onilahy  layer_78_RetDisp_Sambirano  \\\n",
       "0                          0                           0   \n",
       "1                          0                           0   \n",
       "2                          0                           0   \n",
       "3                          0                           0   \n",
       "4                          0                           0   \n",
       "5                          0                           0   \n",
       "6                          0                           0   \n",
       "7                          0                           0   \n",
       "8                          0                           0   \n",
       "9                          0                           0   \n",
       "10                         0                           0   \n",
       "11                         0                           0   \n",
       "12                         0                           0   \n",
       "13                         0                           0   \n",
       "14                         0                           0   \n",
       "15                         0                           0   \n",
       "16                         0                           0   \n",
       "17                         0                           0   \n",
       "18                         0                           0   \n",
       "19                         0                           0   \n",
       "20                         0                           0   \n",
       "21                         0                           0   \n",
       "22                         0                           0   \n",
       "23                         0                           0   \n",
       "24                         0                           0   \n",
       "25                         0                           0   \n",
       "26                         0                           0   \n",
       "27                         0                           0   \n",
       "28                         0                           0   \n",
       "29                         0                           0   \n",
       "30                         0                           0   \n",
       "31                         0                           0   \n",
       "32                         0                           0   \n",
       "33                         0                           0   \n",
       "34                         0                           0   \n",
       "35                         0                           0   \n",
       "36                         0                           0   \n",
       "37                         0                           0   \n",
       "38                         0                           0   \n",
       "39                         0                           0   \n",
       "40                         0                           0   \n",
       "41                         0                           0   \n",
       "42                         0                           0   \n",
       "43                         0                           0   \n",
       "44                         0                           0   \n",
       "45                         0                           0   \n",
       "46                         0                           0   \n",
       "47                         0                           0   \n",
       "\n",
       "    layer_78_RetDisp_Tsiribihina  layer_78__nodata  \n",
       "0                              0                 1  \n",
       "1                              0                 1  \n",
       "2                              0                 0  \n",
       "3                              0                 1  \n",
       "4                              0                 0  \n",
       "5                              0                 0  \n",
       "6                              0                 1  \n",
       "7                              0                 0  \n",
       "8                              0                 0  \n",
       "9                              0                 0  \n",
       "10                             0                 0  \n",
       "11                             0                 0  \n",
       "12                             0                 0  \n",
       "13                             0                 0  \n",
       "14                             0                 0  \n",
       "15                             0                 0  \n",
       "16                             0                 0  \n",
       "17                             0                 0  \n",
       "18                             0                 0  \n",
       "19                             0                 0  \n",
       "20                             0                 0  \n",
       "21                             0                 0  \n",
       "22                             0                 0  \n",
       "23                             0                 0  \n",
       "24                             0                 0  \n",
       "25                             0                 0  \n",
       "26                             0                 0  \n",
       "27                             0                 0  \n",
       "28                             0                 0  \n",
       "29                             0                 0  \n",
       "30                             0                 0  \n",
       "31                             0                 0  \n",
       "32                             0                 0  \n",
       "33                             0                 0  \n",
       "34                             0                 0  \n",
       "35                             0                 0  \n",
       "36                             0                 0  \n",
       "37                             0                 0  \n",
       "38                             0                 0  \n",
       "39                             0                 0  \n",
       "40                             0                 0  \n",
       "41                             0                 0  \n",
       "42                             0                 0  \n",
       "43                             0                 0  \n",
       "44                             0                 0  \n",
       "45                             0                 1  \n",
       "46                             0                 0  \n",
       "47                             0                 1  \n",
       "\n",
       "[48 rows x 168 columns]"
      ]
     },
     "execution_count": 76,
     "metadata": {},
     "output_type": "execute_result"
    }
   ],
   "source": [
    "no_caff_dfs = pd.concat([coll_heimii.gdf, coll_humbertii.gdf, coll_pervilleana.gdf, coll_perrieri.gdf, coll_resinosa.gdf, coll_tsirananae.gdf], axis=0, ignore_index=True)\n",
    "no_caff_dfs"
   ]
  },
  {
   "cell_type": "code",
   "execution_count": 78,
   "metadata": {},
   "outputs": [],
   "source": [
    "no_caff_dfs.to_csv(r\"../input/no_caffeine_data_for_clustering.csv\", index=False)"
   ]
  },
  {
   "cell_type": "code",
   "execution_count": null,
   "metadata": {},
   "outputs": [],
   "source": []
  },
  {
   "cell_type": "code",
   "execution_count": null,
   "metadata": {},
   "outputs": [],
   "source": []
  }
 ],
 "metadata": {
  "kernelspec": {
   "display_name": "Python 3",
   "language": "python",
   "name": "python3"
  },
  "language_info": {
   "codemirror_mode": {
    "name": "ipython",
    "version": 3
   },
   "file_extension": ".py",
   "mimetype": "text/x-python",
   "name": "python",
   "nbconvert_exporter": "python",
   "pygments_lexer": "ipython3",
   "version": "3.12.1"
  }
 },
 "nbformat": 4,
 "nbformat_minor": 2
}
