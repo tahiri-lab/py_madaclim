{
 "cells": [
  {
   "cell_type": "code",
   "execution_count": null,
   "metadata": {},
   "outputs": [],
   "source": [
    "import sklearn\n",
    "import numpy as np\n",
    "import scipy as sp\n",
    "import pandas as pd\n",
    "import matplotlib.pyplot as plt\n",
    "import seaborn as sns\n",
    "\n",
    "#no wrapping\n",
    "pd.set_option('display.max_colwidth', None)\n",
    "pd.set_option('display.width', 1000)\n",
    "pd.set_option('display.expand_frame_repr', False)  # Disable line-wrapping\n",
    "\n",
    "\n",
    "\n",
    "\n",
    "coffea_caff_clim = pd.read_csv(r\"..\\data\\coll_caff_node_clim_w_class.csv\")\n",
    "coffea_caff_env = pd.read_csv(r\"..\\data\\coll_caff_node_env_w_class.csv\")\n",
    "\n",
    "coffee_data = coffea_caff_clim.copy()\n",
    "\n",
    "#distinct_vals = coffee_data['caffeine_class'].value_counts()\n",
    "#print(distinct_vals)\n",
    "\n",
    "coffee_data.drop(columns=['specimen_id','longitude','latitude', 'source_crs', 'mada_geom_point', 'sampled_layers', 'nodata_layers', 'is_categorical_encoded'],inplace=True)\n",
    "\n",
    "coffee_data.head"
   ]
  },
  {
   "cell_type": "code",
   "execution_count": null,
   "metadata": {},
   "outputs": [],
   "source": []
  },
  {
   "cell_type": "code",
   "execution_count": null,
   "metadata": {},
   "outputs": [],
   "source": []
  },
  {
   "cell_type": "code",
   "execution_count": null,
   "metadata": {},
   "outputs": [],
   "source": [
    "from statsmodels.stats.outliers_influence import variance_inflation_factor\n",
    "\n",
    "# Calculate VIF for each feature\n",
    "X = coffee_data.drop(columns=['caffeine_class'])  # Assuming caffeine_class is the target variable\n",
    "vif_data = pd.DataFrame()\n",
    "vif_data[\"feature\"] = X.columns\n",
    "vif_data[\"VIF\"] = [variance_inflation_factor(X.values, i) for i in range(X.shape[1])]\n",
    "\n",
    "print(vif_data)\n"
   ]
  }
 ],
 "metadata": {
  "language_info": {
   "name": "python"
  }
 },
 "nbformat": 4,
 "nbformat_minor": 2
}
