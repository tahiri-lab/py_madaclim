{
 "cells": [
  {
   "cell_type": "code",
   "execution_count": 1,
   "metadata": {},
   "outputs": [
    {
     "name": "stderr",
     "output_type": "stream",
     "text": [
      "<>:33: SyntaxWarning: invalid escape sequence '\\d'\n",
      "<>:33: SyntaxWarning: invalid escape sequence '\\d'\n",
      "C:\\Users\\forc2101\\AppData\\Local\\Temp\\ipykernel_13176\\672436968.py:33: SyntaxWarning: invalid escape sequence '\\d'\n",
      "  df1.to_csv('..\\data\\sample_data_mada.csv', index=False)\n"
     ]
    }
   ],
   "source": [
    "import pandas as pd\n",
    "\n",
    "\n",
    "df1 = pd.read_csv(r'..\\data\\sample_coord.csv')\n",
    "df2 = pd.read_csv(r'..\\data\\node_names.csv')\n",
    "\n",
    "# Step 2: Identify the substrings to match\n",
    "# Assuming substrings are at the end of the strings in both columns\n",
    "\n",
    "# Extract substrings for matching\n",
    "#df1['substring'] = df1['specimen_id'].str.extract(r'([a-zA-Z]+)', expand=False)\n",
    "#df2['substring'] = df2['Node Name'].str.extract(r'([a-zA-Z]+)', expand=False)\n",
    "\n",
    "mapping_dict = {}\n",
    "for val1 in df1['specimen_id']:\n",
    "    for val2 in df2['Node Name']:\n",
    "        # Check if the val2 is a substring of val1 (or vice versa)\n",
    "        if val1.split('_')[0] in val2:\n",
    "            mapping_dict[val1] = val2\n",
    "            break\n",
    "\n",
    "# Replace values in the first DataFrame based on the mapping\n",
    "df1['specimen_id'] = df1['specimen_id'].map(mapping_dict)\n",
    "\n",
    "# Perform the mapping\n",
    "#df1 = df1.merge(df2, on='substring', how='left')\n",
    "df1 = df1.dropna(subset=['specimen_id'])\n",
    "\n",
    "\n",
    "\n",
    "\n",
    "# Step 4: Write the resulting DataFrame to a new CSV file\n",
    "df1.to_csv('..\\data\\sample_data_mada.csv', index=False)\n"
   ]
  },
  {
   "cell_type": "code",
   "execution_count": 2,
   "metadata": {},
   "outputs": [
    {
     "name": "stdout",
     "output_type": "stream",
     "text": [
      "The current working directory is: c:\\Users\\forc2101\\OneDrive - USherbrooke\\Documents\\E24\\IFT769\\workdir\\tmp\n"
     ]
    }
   ],
   "source": [
    "import os\n",
    "\n",
    "# Get the current working directory\n",
    "current_directory = os.getcwd()\n",
    "\n",
    "print(f\"The current working directory is: {current_directory}\")\n",
    "\n"
   ]
  },
  {
   "cell_type": "code",
   "execution_count": 14,
   "metadata": {},
   "outputs": [
    {
     "name": "stdout",
     "output_type": "stream",
     "text": [
      "           specimen_id  longitude   latitude\n",
      "0          C_bissetiae  47.590008 -15.407416\n",
      "1          C_bissetiae  47.504282 -15.403732\n",
      "2          C_bissetiae  47.549289 -15.487327\n",
      "3       C_perrieri_A12  46.015711 -17.117819\n",
      "4       C_perrieri_A12  46.015693 -17.117573\n",
      "5   C_pervilleana_A957  45.920397 -17.077081\n",
      "6   C_pervilleana_A957  45.923007 -17.078820\n",
      "7       C_perrieri_A12  45.989986 -17.052635\n",
      "8       C_perrieri_A12  45.985053 -17.067958\n",
      "9    C_boiviniana_A980  49.398330 -12.388317\n",
      "10         C_bissetiae  46.820657 -16.234735\n",
      "11         C_boinensis  46.778291 -16.139983\n",
      "12   C_boiviniana_A980  47.348442 -16.024180\n",
      "13   C_boiviniana_A980  45.883351 -17.069855\n",
      "14      C_perrieri_A12  45.989000 -17.062690\n",
      "15   C_boiviniana_A980  45.893891 -17.154961\n",
      "16         C_bissetiae  47.709321 -14.999613\n",
      "17   C_boiviniana_A980  47.241667 -16.021247\n",
      "18   C_boiviniana_A980  47.300588 -16.090702\n",
      "19  C_mcphersonii_A977  49.351671 -12.388863\n",
      "20   C_tsirananae_A515  49.251716 -12.382886\n",
      "21   C_boiviniana_A980  49.201458 -12.208129\n",
      "22   C_tsirananae_A515  49.266346 -12.314212\n",
      "23   C_tsirananae_A515  49.355849 -12.251702\n",
      "24       C_heimii_A516  49.303872 -12.318289\n",
      "25   C_tsirananae_A515  49.281018 -12.403209\n",
      "26   C_tsirananae_A515  49.297935 -12.305870\n",
      "27   C_tsirananae_A515  49.219958 -12.507370\n",
      "28   C_boiviniana_A980  49.349672 -12.917028\n",
      "29      C_perrieri_A12  47.781762 -14.795310\n",
      "30   C_tsirananae_A515  49.322727 -12.338667\n",
      "31       C_heimii_A516  49.342500 -12.396327\n",
      "32       C_heimii_A516  49.275700 -12.398991\n",
      "33       C_heimii_A516  49.549809 -12.580463\n"
     ]
    }
   ],
   "source": [
    "df = pd.read_csv('..\\data\\sample_data_mada.csv')\n",
    "\n",
    "df.drop_duplicates(inplace=True)\n",
    "print(df)\n",
    "# Reset index\n",
    "#df.reset_index(drop=True, inplace=True)\n",
    "\n",
    "df.to_csv('..\\data\\sample_data_mada2.dat', index=False)"
   ]
  }
 ],
 "metadata": {
  "kernelspec": {
   "display_name": "Python 3",
   "language": "python",
   "name": "python3"
  },
  "language_info": {
   "codemirror_mode": {
    "name": "ipython",
    "version": 3
   },
   "file_extension": ".py",
   "mimetype": "text/x-python",
   "name": "python",
   "nbconvert_exporter": "python",
   "pygments_lexer": "ipython3",
   "version": "3.12.1"
  }
 },
 "nbformat": 4,
 "nbformat_minor": 2
}
